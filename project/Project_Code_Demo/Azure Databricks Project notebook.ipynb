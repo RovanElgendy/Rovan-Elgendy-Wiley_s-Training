{
 "cells": [
  {
   "cell_type": "code",
   "execution_count": 0,
   "metadata": {
    "application/vnd.databricks.v1+cell": {
     "cellMetadata": {
      "byteLimit": 2048000,
      "rowLimit": 10000
     },
     "inputWidgets": {},
     "nuid": "fc4f4e8c-3bfb-4f1f-bce3-5ccc612451a2",
     "showTitle": true,
     "title": " The Credentials of azure storage to connect"
    }
   },
   "outputs": [],
   "source": [
    "storage_account_name = \"relgendy\"\n",
    "storage_account_access_key = \"YTQ1cy1bOeU59C/5cp+Fjk+/DKHvr9LlimYMwuB+IU9yUtMzmvAISJy9SH4sRC9z87AyOM5ZTCyX+AStInnX4g==\"\n",
    "container_name = \"historicaldata\"\n",
    "file_name = \"Project/azure project/AddingYearColumnToCleanedData\"\n",
    "    "
   ]
  },
  {
   "cell_type": "code",
   "execution_count": 0,
   "metadata": {
    "application/vnd.databricks.v1+cell": {
     "cellMetadata": {
      "byteLimit": 2048000,
      "rowLimit": 10000
     },
     "inputWidgets": {},
     "nuid": "fcd40239-050d-43bf-aaef-726bc8e5a03d",
     "showTitle": true,
     "title": "using spark to access the file path"
    }
   },
   "outputs": [],
   "source": [
    "csv_uri = f\"wasbs://{container_name}@{storage_account_name}.blob.core.windows.net/{file_name}\"\n",
    "spark.conf.set(f\"fs.azure.account.key.{storage_account_name}.blob.core.windows.net\", storage_account_access_key)"
   ]
  },
  {
   "cell_type": "code",
   "execution_count": 0,
   "metadata": {
    "application/vnd.databricks.v1+cell": {
     "cellMetadata": {
      "byteLimit": 2048000,
      "rowLimit": 10000
     },
     "inputWidgets": {},
     "nuid": "e8375b90-4734-48ef-af8c-bf68efab5762",
     "showTitle": false,
     "title": ""
    }
   },
   "outputs": [],
   "source": [
    "df = spark.read.csv(csv_uri, header=True, inferSchema=True)"
   ]
  },
  {
   "cell_type": "code",
   "execution_count": 0,
   "metadata": {
    "application/vnd.databricks.v1+cell": {
     "cellMetadata": {
      "byteLimit": 2048000,
      "rowLimit": 10000
     },
     "inputWidgets": {},
     "nuid": "fda8f07e-9950-4ab0-8806-690f4dd34193",
     "showTitle": true,
     "title": "Data Visualisation"
    }
   },
   "outputs": [],
   "source": [
    "display(df)"
   ]
  },
  {
   "cell_type": "markdown",
   "metadata": {
    "application/vnd.databricks.v1+cell": {
     "cellMetadata": {},
     "inputWidgets": {},
     "nuid": "6b24acbb-ca00-4ba7-bdde-191512bc13ef",
     "showTitle": false,
     "title": "Results:"
    }
   },
   "source": [
    "# From Statistics,it is found that: \n",
    " - Revenue increases through the years with increasing the sales_quantity\n",
    " - the max Revenue & Sales quantity were the same in 2019 and 2020 which is 58.7564M and 38.069k. However,increasing the min. Revenue or the min. Sales quantity in 2020 made it the highest range through the years.\n",
    " - the relation between the Revenue and the Sales quantity is almost proportional as the increase in sales results in increasing the Revenue."
   ]
  },
  {
   "cell_type": "code",
   "execution_count": 0,
   "metadata": {
    "application/vnd.databricks.v1+cell": {
     "cellMetadata": {
      "byteLimit": 2048000,
      "rowLimit": 10000
     },
     "inputWidgets": {},
     "nuid": "3a602114-55fd-4d60-84d2-8bccad942e71",
     "showTitle": true,
     "title": "the 'year' column here after showing data profile, has a data type of int. So, we convert it to string/date type"
    }
   },
   "outputs": [],
   "source": [
    "\n",
    "from pyspark.sql.functions import col,to_date,date_format\n",
    "\n",
    "df1=df.withColumn('Year',to_date(col('Year').cast('string'),'yyyy'))\n",
    "df1 = df1.withColumn('Year', date_format('Year', 'yyyy'))\n",
    "#df1=df1.drop('Year').withColumnRenamed('Year','year')"
   ]
  },
  {
   "cell_type": "code",
   "execution_count": 0,
   "metadata": {
    "application/vnd.databricks.v1+cell": {
     "cellMetadata": {
      "byteLimit": 2048000,
      "rowLimit": 10000
     },
     "inputWidgets": {},
     "nuid": "cf427623-9476-43d9-9467-41bc192a89f1",
     "showTitle": false,
     "title": ""
    }
   },
   "outputs": [],
   "source": [
    "display(df1)"
   ]
  }
 ],
 "metadata": {
  "application/vnd.databricks.v1+notebook": {
   "dashboards": [
    {
     "elements": [
      {
       "dashboardResultIndex": null,
       "elementNUID": "244e3177-7aad-4f7c-88f7-ad2b8b98bf48",
       "elementType": "command",
       "guid": "17df7db8-453f-4f18-9a54-9523cfe1f010",
       "options": {
        "autoScaleImg": false,
        "scale": 0,
        "showRunButton": true,
        "showTitle": true,
        "title": "Yearly Revenue",
        "titleAlign": "center"
       },
       "position": {
        "height": 6,
        "width": 12,
        "x": 12,
        "y": 7,
        "z": null
       },
       "resultIndex": null
      },
      {
       "dashboardResultIndex": 0,
       "elementNUID": "6b24acbb-ca00-4ba7-bdde-191512bc13ef",
       "elementType": "command",
       "guid": "394d7bdd-541d-4ee8-8027-b85b30e26e6d",
       "options": null,
       "position": {
        "height": 18,
        "width": 12,
        "x": 0,
        "y": 7,
        "z": null
       },
       "resultIndex": null
      },
      {
       "dashboardResultIndex": null,
       "elementNUID": "78d7e450-5a55-4357-9e23-0e11bfb83078",
       "elementType": "command",
       "guid": "3ba68af1-225b-44de-bfbd-7f3880291a72",
       "options": {
        "autoScaleImg": false,
        "scale": 0,
        "showRunButton": true,
        "showTitle": true,
        "title": "Revenue&Sales quantity Ranges through the years",
        "titleAlign": "center"
       },
       "position": {
        "height": 6,
        "width": 12,
        "x": 12,
        "y": 13,
        "z": null
       },
       "resultIndex": null
      },
      {
       "dashboardResultIndex": 0,
       "elementNUID": "fda8f07e-9950-4ab0-8806-690f4dd34193",
       "elementType": "command",
       "guid": "71ff6b9e-4fcd-43c5-915b-6afd05c32a22",
       "options": {
        "autoScaleImg": false,
        "scale": 0,
        "showRunButton": true,
        "showTitle": true,
        "title": "Monthly Revenue Dataset",
        "titleAlign": "center"
       },
       "position": {
        "height": 7,
        "width": 24,
        "x": 0,
        "y": 0,
        "z": null
       },
       "resultIndex": null
      },
      {
       "dashboardResultIndex": null,
       "elementNUID": "6fffd2c5-cbf3-4689-b50c-f74a9b7cc886",
       "elementType": "command",
       "guid": "89ff8383-3150-4321-a647-152ac9bad05d",
       "options": {
        "autoScaleImg": false,
        "scale": 0,
        "showTitle": true,
        "title": "Yearly Avg Revenue,Sales,Production costs",
        "titleAlign": "center"
       },
       "position": {
        "height": 6,
        "width": 12,
        "x": 12,
        "y": 19,
        "z": null
       },
       "resultIndex": null
      }
     ],
     "globalVars": {},
     "guid": "84a8d611-f8ed-4e52-bdcc-8ca3ee84ee51",
     "layoutOption": {
      "grid": true,
      "stack": true
     },
     "nuid": "62084ffa-c01d-49b0-bf5d-dd07755f24ac",
     "origId": 2594408466737388,
     "title": "MonthlyRevenueDashboard",
     "version": "DashboardViewV1",
     "width": 1024
    }
   ],
   "language": "python",
   "notebookMetadata": {
    "pythonIndentUnit": 4
   },
   "notebookName": "Azure Databricks Project notebook",
   "notebookOrigID": 2594408466737375,
   "widgets": {}
  }
 },
 "nbformat": 4,
 "nbformat_minor": 0
}
