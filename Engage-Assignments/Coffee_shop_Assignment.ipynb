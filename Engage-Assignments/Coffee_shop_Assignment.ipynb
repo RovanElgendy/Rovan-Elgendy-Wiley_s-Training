{
 "cells": [
  {
   "cell_type": "code",
   "execution_count": 11,
   "metadata": {},
   "outputs": [
    {
     "name": "stdout",
     "output_type": "stream",
     "text": [
      "; Cold brew coffee: 3 $\n",
      "; Cold brew coffee no flavor 3 $\n",
      "tip: 15%\n",
      "total order cost:  3.45 $\n"
     ]
    }
   ],
   "source": [
    "# name : Rovan Elgendy,   date: 05.03.2023\n",
    "order=input('Hello! coffee? yes or no').capitalize()\n",
    "if order == 'No': print('canceling the order..');print('canceled')\n",
    "if order =='Yes':\n",
    "    size=input('which size would you like to choose? small,medium or large?').capitalize()\n",
    "#    print(size)\n",
    "    size_cost=int(2)\n",
    "    if size=='Small' or size=='S':size_cost=size_cost\n",
    "    elif size=='Medium' or size=='M':size_cost=size_cost+1\n",
    "    elif size=='Large' or size=='L':size_cost=size_cost+2\n",
    "#   print(f'{size} coffee: ',size_cost,'$')\n",
    "type_of_coffee=input('which type of coffe? Brewed,espresso or cold brew?').capitalize()\n",
    "if type_of_coffee=='Brewed':additional_cost =0\n",
    "elif type_of_coffee=='Espresso':additional_cost=float(0.50)\n",
    "elif type_of_coffee=='Cold brew':additional_cost=int(1)\n",
    "print(f'{size} {type_of_coffee} coffee:',additional_cost+size_cost,'$')\n",
    "flavor=input('would you like to add a flavor? yes or no').capitalize()\n",
    "if flavor== 'No':\n",
    "    total_cost=additional_cost+size_cost\n",
    "    print(f'{size} {type_of_coffee} coffee','without flavor',total_cost,'$')\n",
    "elif flavor=='Yes': \n",
    "    flavor_choices=input('choose a flavor: hazelnut-vanilla-caramel').capitalize()\n",
    "    total_cost=additional_cost+size_cost+float(0.50)\n",
    "    print(f'{size} {type_of_coffee} coffee with {flavor_choices}: ',total_cost,'$')\n",
    "total_cost=total_cost+(0.15*total_cost)     # tip has a rate of 15%\n",
    "print('tip: 15%');print('total order cost: ',total_cost,'$')\n",
    "\n",
    "\n",
    "\n"
   ]
  }
 ],
 "metadata": {
  "kernelspec": {
   "display_name": "Python 3",
   "language": "python",
   "name": "python3"
  },
  "language_info": {
   "codemirror_mode": {
    "name": "ipython",
    "version": 3
   },
   "file_extension": ".py",
   "mimetype": "text/x-python",
   "name": "python",
   "nbconvert_exporter": "python",
   "pygments_lexer": "ipython3",
   "version": "3.11.2"
  },
  "orig_nbformat": 4,
  "vscode": {
   "interpreter": {
    "hash": "32d6b749cafe1f147bc06e6e97f29f99ed13d564a30af41401dc6db7683bc13c"
   }
  }
 },
 "nbformat": 4,
 "nbformat_minor": 2
}
