{
 "cells": [
  {
   "cell_type": "code",
   "execution_count": 0,
   "metadata": {
    "application/vnd.databricks.v1+cell": {
     "cellMetadata": {},
     "inputWidgets": {},
     "nuid": "05603326-a558-49a1-8b99-1a9cea9674cf",
     "showTitle": false,
     "title": ""
    }
   },
   "outputs": [],
   "source": [
    "print('hello world')"
   ]
  },
  {
   "cell_type": "code",
   "execution_count": 0,
   "metadata": {
    "application/vnd.databricks.v1+cell": {
     "cellMetadata": {},
     "inputWidgets": {},
     "nuid": "e7814569-a49f-40f8-afb8-2d21384ee0ef",
     "showTitle": false,
     "title": ""
    }
   },
   "outputs": [],
   "source": [
    "print('welcome')\n",
    "\n",
    "a=10\n",
    "print('a =',a)\n",
    "\n",
    "b=print('a=',a,'=b')    # a=10=b"
   ]
  },
  {
   "cell_type": "code",
   "execution_count": 0,
   "metadata": {
    "application/vnd.databricks.v1+cell": {
     "cellMetadata": {},
     "inputWidgets": {},
     "nuid": "9a5da2a8-20b3-4c32-9820-8f53ec411405",
     "showTitle": false,
     "title": ""
    }
   },
   "outputs": [],
   "source": [
    "a=10\n",
    "print('a=',a,sep='dddd',end='\\n\\n\\n')  # here it gives 3 new lines\n",
    "print('a=',a,sep='0',end='$$$')"
   ]
  },
  {
   "cell_type": "code",
   "execution_count": 0,
   "metadata": {
    "application/vnd.databricks.v1+cell": {
     "cellMetadata": {},
     "inputWidgets": {},
     "nuid": "7fe3c59c-461d-4580-bac6-bdd2541c4145",
     "showTitle": false,
     "title": ""
    }
   },
   "outputs": [],
   "source": [
    "a=10\n",
    "b=2\n",
    "x=a+b\n",
    "\n",
    "print('total is',x,sep=' ',end=' or ')\n",
    "print('total is',a+b)\n"
   ]
  },
  {
   "cell_type": "code",
   "execution_count": 0,
   "metadata": {
    "application/vnd.databricks.v1+cell": {
     "cellMetadata": {},
     "inputWidgets": {},
     "nuid": "a620847a-37a7-46c2-bbb0-d9aa7d073c81",
     "showTitle": false,
     "title": ""
    }
   },
   "outputs": [],
   "source": [
    "a=int(input('ener a number'))\n",
    "print(a)\n",
    "b=int(input('enter second number'))\n",
    "print(a+b)"
   ]
  },
  {
   "cell_type": "code",
   "execution_count": 0,
   "metadata": {
    "application/vnd.databricks.v1+cell": {
     "cellMetadata": {},
     "inputWidgets": {},
     "nuid": "6473a053-4c32-4b68-9efa-5eea011317c4",
     "showTitle": false,
     "title": ""
    }
   },
   "outputs": [],
   "source": [
    "#lists\n",
    "L1=['John',102,'USA']\n",
    "L2=[1,2,3,4,5,6]\n",
    "print(L1)\n",
    "print(L2)\n",
    "print(L1+L2)"
   ]
  },
  {
   "cell_type": "code",
   "execution_count": 0,
   "metadata": {
    "application/vnd.databricks.v1+cell": {
     "cellMetadata": {},
     "inputWidgets": {},
     "nuid": "b4ed61c0-ed3f-45a9-a46c-fbc7aec918f5",
     "showTitle": false,
     "title": ""
    }
   },
   "outputs": [],
   "source": [
    "print(type(L1))\n",
    "print(type(L2))\n",
    "print(type(a))"
   ]
  },
  {
   "cell_type": "code",
   "execution_count": 0,
   "metadata": {
    "application/vnd.databricks.v1+cell": {
     "cellMetadata": {},
     "inputWidgets": {},
     "nuid": "47dd9c5a-8687-4541-b6ca-8bc17f381b78",
     "showTitle": false,
     "title": ""
    }
   },
   "outputs": [],
   "source": [
    "# tuples: it is immutable;means once you declared it,you cannot alter it\n",
    "tup=('Apple','Mango','Orange','banana')\n",
    "print(tup)\n"
   ]
  },
  {
   "cell_type": "code",
   "execution_count": 0,
   "metadata": {
    "application/vnd.databricks.v1+cell": {
     "cellMetadata": {},
     "inputWidgets": {},
     "nuid": "2e79c6b6-1b05-4450-9c01-c12570c3f9fa",
     "showTitle": false,
     "title": ""
    }
   },
   "outputs": [],
   "source": [
    "tuple1=tuple(L1)\n",
    "print(tuple1)"
   ]
  },
  {
   "cell_type": "code",
   "execution_count": 0,
   "metadata": {
    "application/vnd.databricks.v1+cell": {
     "cellMetadata": {},
     "inputWidgets": {},
     "nuid": "0e319f58-6d2c-4852-b620-2e6e0d78747b",
     "showTitle": false,
     "title": ""
    }
   },
   "outputs": [],
   "source": [
    "this_tuple = (\"apple\",)\n",
    "print(this_tuple)\n",
    "print(type(this_tuple))\n",
    "\n",
    "print(this_tuple[0])\n",
    "#print(this_tuple[1])"
   ]
  },
  {
   "cell_type": "code",
   "execution_count": 0,
   "metadata": {
    "application/vnd.databricks.v1+cell": {
     "cellMetadata": {},
     "inputWidgets": {},
     "nuid": "e678e182-6349-4353-bcf6-1b565838a69c",
     "showTitle": false,
     "title": ""
    }
   },
   "outputs": [],
   "source": [
    "this_tuple = (\"apple\",'')\n",
    "print(this_tuple)\n",
    "print(type(this_tuple))\n",
    "\n",
    "print(this_tuple[0])\n",
    "print(this_tuple[1])"
   ]
  },
  {
   "cell_type": "code",
   "execution_count": 0,
   "metadata": {
    "application/vnd.databricks.v1+cell": {
     "cellMetadata": {},
     "inputWidgets": {},
     "nuid": "56de6e24-fd59-494e-9cd2-4d2684c10a45",
     "showTitle": false,
     "title": ""
    }
   },
   "outputs": [],
   "source": [
    "thistuple = (\"apple\",)\n",
    "print(type(thistuple))\n",
    "\n",
    "#NOT a tuple\n",
    "thistuple = (\"apple\")\n",
    "print(type(thistuple))"
   ]
  },
  {
   "cell_type": "code",
   "execution_count": 0,
   "metadata": {
    "application/vnd.databricks.v1+cell": {
     "cellMetadata": {},
     "inputWidgets": {},
     "nuid": "f6e6c497-0bda-4fd0-88d4-ab0dcb085f23",
     "showTitle": false,
     "title": ""
    }
   },
   "outputs": [],
   "source": [
    "empty_tuple = tuple()\n",
    "print(empty_tuple, type(empty_tuple))"
   ]
  },
  {
   "cell_type": "code",
   "execution_count": 0,
   "metadata": {
    "application/vnd.databricks.v1+cell": {
     "cellMetadata": {},
     "inputWidgets": {},
     "nuid": "182bd5fd-e45f-4ac3-9e4c-d10cbe8db4e4",
     "showTitle": false,
     "title": ""
    }
   },
   "outputs": [],
   "source": [
    "tup2=tuple('orange')\n",
    "print(type(tup2))\n",
    "print(tup2)   #('o', 'r', 'a', 'n', 'g', 'e')\n"
   ]
  },
  {
   "cell_type": "code",
   "execution_count": 0,
   "metadata": {
    "application/vnd.databricks.v1+cell": {
     "cellMetadata": {},
     "inputWidgets": {},
     "nuid": "f4e594e2-cfc3-4ee8-833b-b51fbdd87f36",
     "showTitle": false,
     "title": ""
    }
   },
   "outputs": [],
   "source": [
    "tu=('orange',)\n",
    "tu2=('strawberry',)\n",
    "print(tu+tu2)\n",
    "print(id(tu))"
   ]
  },
  {
   "cell_type": "code",
   "execution_count": 0,
   "metadata": {
    "application/vnd.databricks.v1+cell": {
     "cellMetadata": {},
     "inputWidgets": {},
     "nuid": "81debdb2-2b8f-40b1-9a8c-9bf4c950e05b",
     "showTitle": false,
     "title": ""
    }
   },
   "outputs": [],
   "source": [
    "#using for loop: goes into each value in a list or tuple or dictionary\n",
    "list=[]\n",
    "for word in tup:\n",
    "    list.append(word)\n",
    "print(list)\n",
    "\n",
    "listing=[1,2,3,4,5,6]\n",
    "for value in listing:\n",
    "    print(value)\n",
    "print('end')"
   ]
  },
  {
   "cell_type": "code",
   "execution_count": 0,
   "metadata": {
    "application/vnd.databricks.v1+cell": {
     "cellMetadata": {},
     "inputWidgets": {},
     "nuid": "f8600526-669a-447b-89cb-42ad58695aac",
     "showTitle": false,
     "title": ""
    }
   },
   "outputs": [],
   "source": [
    "_=100  # _ can be used but not recommended\n",
    "#The address where the variable is located when a value is stored in it:\n",
    "\n",
    "a=50\n",
    "b=a\n",
    "print(id(a))\n",
    "print(id(b))  # both is stored in the same location/address as they have the same value\n",
    "a=500  # immutable\n",
    "print(id(a))"
   ]
  },
  {
   "cell_type": "code",
   "execution_count": 0,
   "metadata": {
    "application/vnd.databricks.v1+cell": {
     "cellMetadata": {},
     "inputWidgets": {},
     "nuid": "2a6de44e-941c-41db-babf-5644e3fcabee",
     "showTitle": false,
     "title": ""
    }
   },
   "outputs": [],
   "source": [
    "#frozensets that are immutable\n",
    "example_list = [1,2,3,4,5]\n",
    "frozen_set = frozenset(example_list)\n",
    "\n",
    "print(example_list)\n",
    "print(type(example_list))\n",
    "\n",
    "print(frozen_set)  # returns a tuple of dictionary\n",
    "print(type(frozen_set))"
   ]
  },
  {
   "cell_type": "code",
   "execution_count": 0,
   "metadata": {
    "application/vnd.databricks.v1+cell": {
     "cellMetadata": {},
     "inputWidgets": {},
     "nuid": "9e231ee8-4ab1-49b5-a7d5-42d5128f7d48",
     "showTitle": false,
     "title": ""
    }
   },
   "outputs": [],
   "source": [
    "str='hi'\n",
    "str1=\"hi\"\n",
    "str2='\"hi\"'\n",
    "print(str,str1,str2)"
   ]
  },
  {
   "cell_type": "code",
   "execution_count": 0,
   "metadata": {
    "application/vnd.databricks.v1+cell": {
     "cellMetadata": {},
     "inputWidgets": {},
     "nuid": "1d8c9f3a-9437-4738-9f72-883306fc6b0b",
     "showTitle": false,
     "title": ""
    }
   },
   "outputs": [],
   "source": [
    "#dictionaries: contains key & value\n",
    "employee={'Name':'Jinesh','salary':5454,'company':'gr'}\n",
    "print(type(employee))\n",
    "Month={'jan','feb','march'}\n",
    "print(type(Month))\n",
    "print(employee.keys())\n",
    "print(employee.values())\n",
    "print(employee.items())\n",
    "print(len(employee))       # gives the number of items in the tuple"
   ]
  },
  {
   "cell_type": "code",
   "execution_count": 0,
   "metadata": {
    "application/vnd.databricks.v1+cell": {
     "cellMetadata": {},
     "inputWidgets": {},
     "nuid": "e5964e07-c5ff-406e-aa4d-8b5e6495090c",
     "showTitle": false,
     "title": ""
    }
   },
   "outputs": [],
   "source": [
    "# frozen the dictionary employee\n",
    "frozen=frozenset(employee)\n",
    "print(frozen)"
   ]
  },
  {
   "cell_type": "code",
   "execution_count": 0,
   "metadata": {
    "application/vnd.databricks.v1+cell": {
     "cellMetadata": {},
     "inputWidgets": {},
     "nuid": "839d5514-a10c-4e20-8faa-8fe8ab276930",
     "showTitle": false,
     "title": ""
    }
   },
   "outputs": [],
   "source": [
    "a=256\n",
    "b=256\n",
    "print(id(a))\n",
    "print(id(b))"
   ]
  },
  {
   "cell_type": "code",
   "execution_count": 0,
   "metadata": {
    "application/vnd.databricks.v1+cell": {
     "cellMetadata": {},
     "inputWidgets": {},
     "nuid": "2759b077-3850-4fae-8cfc-1772bd9f7130",
     "showTitle": false,
     "title": ""
    }
   },
   "outputs": [],
   "source": [
    "a=257\n",
    "b=257\n",
    "print(id(a))\n",
    "print(id(b))"
   ]
  },
  {
   "cell_type": "code",
   "execution_count": 0,
   "metadata": {
    "application/vnd.databricks.v1+cell": {
     "cellMetadata": {},
     "inputWidgets": {},
     "nuid": "7c0885fa-da37-4bdf-8b76-6a29a61d0217",
     "showTitle": false,
     "title": ""
    }
   },
   "outputs": [],
   "source": [
    "x = \"Lorem ipsum\"\n",
    "y = \"Lorem ipsum\"\n",
    "x is y\n",
    "print(id(x))\n",
    "print(id(y))\n",
    "\n",
    "x = 'Lorem'\n",
    "y= 'Lorem'\n",
    "x is y\n",
    "print(id(x))\n",
    "print(id(y))"
   ]
  },
  {
   "cell_type": "code",
   "execution_count": 0,
   "metadata": {
    "application/vnd.databricks.v1+cell": {
     "cellMetadata": {},
     "inputWidgets": {},
     "nuid": "913c46e3-2a88-4214-a3db-295ce88e294d",
     "showTitle": false,
     "title": ""
    }
   },
   "outputs": [],
   "source": [
    "# here the second variable is assigned to the first variable;it is like aliasing to the first variable so it will give the same location\n",
    "x = 'Lorem'\n",
    "y= x\n",
    "x is y\n",
    "print(id(x))\n",
    "print(id(y))"
   ]
  },
  {
   "cell_type": "code",
   "execution_count": 0,
   "metadata": {
    "application/vnd.databricks.v1+cell": {
     "cellMetadata": {},
     "inputWidgets": {},
     "nuid": "f1a6d860-0fe9-4e64-8f85-85d4581fe31c",
     "showTitle": false,
     "title": ""
    }
   },
   "outputs": [],
   "source": [
    "#range\n",
    "print(range(15))\n",
    "print(range(0,15))\n"
   ]
  },
  {
   "cell_type": "code",
   "execution_count": 0,
   "metadata": {
    "application/vnd.databricks.v1+cell": {
     "cellMetadata": {},
     "inputWidgets": {},
     "nuid": "536c6bea-a04f-417c-b19b-e873d45189a3",
     "showTitle": false,
     "title": ""
    }
   },
   "outputs": [],
   "source": [
    "#putting range values in list instead of manually write the values\n",
    "print(list(range(0,15)))\n",
    "print(list(range(5,25,4)))\n"
   ]
  },
  {
   "cell_type": "code",
   "execution_count": 0,
   "metadata": {
    "application/vnd.databricks.v1+cell": {
     "cellMetadata": {},
     "inputWidgets": {},
     "nuid": "ec43eea3-500e-4235-919e-57e3e2717aa0",
     "showTitle": false,
     "title": ""
    }
   },
   "outputs": [],
   "source": [
    "new=range(6)\n",
    "for i in new:\n",
    "    print(reversed(new))   # here it doesn't work because it caches\n",
    "\n",
    "for i in reversed(range(5)):\n",
    "    print(i)                             # here it works \n",
    "\n",
    "for i in range(7):\n",
    "    print(i)"
   ]
  },
  {
   "cell_type": "code",
   "execution_count": 0,
   "metadata": {
    "application/vnd.databricks.v1+cell": {
     "cellMetadata": {},
     "inputWidgets": {},
     "nuid": "3d4ae0b8-f2b9-4ece-95b6-ce8c4535cf20",
     "showTitle": false,
     "title": ""
    }
   },
   "outputs": [],
   "source": [
    "tup=(1,2,3,4,5,6)\n",
    "for number in tup:\n",
    "    if number%2!=0:\n",
    "        print(number)\n"
   ]
  },
  {
   "cell_type": "code",
   "execution_count": 0,
   "metadata": {
    "application/vnd.databricks.v1+cell": {
     "cellMetadata": {},
     "inputWidgets": {},
     "nuid": "7f79b5df-5098-451e-8644-71d36e3bcc5e",
     "showTitle": false,
     "title": ""
    }
   },
   "outputs": [],
   "source": [
    "# for loop\n",
    "str='python loop'\n",
    "for s in str:\n",
    "    if s==0:\n",
    "        print('block')\n",
    "    else:\n",
    "        print(s)"
   ]
  },
  {
   "cell_type": "code",
   "execution_count": 0,
   "metadata": {
    "application/vnd.databricks.v1+cell": {
     "cellMetadata": {},
     "inputWidgets": {},
     "nuid": "35b39521-3d7a-4125-94bd-a567dd8de388",
     "showTitle": false,
     "title": ""
    }
   },
   "outputs": [],
   "source": [
    "# while loop\n",
    "# here means that until counter =10 print (python loops)\n",
    "counter=0\n",
    "while counter<10:\n",
    "    counter=counter+3\n",
    "    print('python loops')\n",
    "\n",
    "        "
   ]
  },
  {
   "cell_type": "code",
   "execution_count": 0,
   "metadata": {
    "application/vnd.databricks.v1+cell": {
     "cellMetadata": {},
     "inputWidgets": {},
     "nuid": "638d54a9-ece7-45ab-bf1b-449894777d32",
     "showTitle": false,
     "title": ""
    }
   },
   "outputs": [],
   "source": [
    "for string in 'python loops':\n",
    "    pass           # here it says to do nothing and to go to the next line \n",
    "    print(string)"
   ]
  },
  {
   "cell_type": "code",
   "execution_count": 0,
   "metadata": {
    "application/vnd.databricks.v1+cell": {
     "cellMetadata": {},
     "inputWidgets": {},
     "nuid": "72bc31d5-a8b7-41e6-8c88-7e0d76597437",
     "showTitle": false,
     "title": ""
    }
   },
   "outputs": [],
   "source": [
    "for string in 'python loops':\n",
    "    continue               # here it means to go back to continue the process of the loop; to go to for loop again\n",
    "    print(string)"
   ]
  },
  {
   "cell_type": "code",
   "execution_count": 0,
   "metadata": {
    "application/vnd.databricks.v1+cell": {
     "cellMetadata": {},
     "inputWidgets": {},
     "nuid": "e86ad33b-4215-4195-8e46-2ba80ce5cea1",
     "showTitle": false,
     "title": ""
    }
   },
   "outputs": [],
   "source": []
  },
  {
   "cell_type": "code",
   "execution_count": 0,
   "metadata": {
    "application/vnd.databricks.v1+cell": {
     "cellMetadata": {},
     "inputWidgets": {},
     "nuid": "e223a891-7f40-46e2-8471-119f656840fc",
     "showTitle": false,
     "title": ""
    }
   },
   "outputs": [],
   "source": []
  },
  {
   "cell_type": "code",
   "execution_count": 0,
   "metadata": {
    "application/vnd.databricks.v1+cell": {
     "cellMetadata": {},
     "inputWidgets": {},
     "nuid": "b837d4fe-ba5f-4e71-9406-658126ae939a",
     "showTitle": false,
     "title": ""
    }
   },
   "outputs": [],
   "source": [
    "for string in 'python loops':\n",
    "    continue               # here it means to go back to continue the process of the loop; to go to for loop again\n",
    "print(string)"
   ]
  },
  {
   "cell_type": "code",
   "execution_count": 0,
   "metadata": {
    "application/vnd.databricks.v1+cell": {
     "cellMetadata": {},
     "inputWidgets": {},
     "nuid": "709452ea-9277-4d60-9c9f-971c48a5fcb1",
     "showTitle": false,
     "title": ""
    }
   },
   "outputs": [],
   "source": [
    "for string in 'python loops':\n",
    "    pass               # here it means to go back to continue the process of the loop; to go to for loop again\n",
    "print(string)"
   ]
  },
  {
   "cell_type": "code",
   "execution_count": 0,
   "metadata": {
    "application/vnd.databricks.v1+cell": {
     "cellMetadata": {},
     "inputWidgets": {},
     "nuid": "df3eb888-623b-44af-9b95-aca1b53c2eab",
     "showTitle": false,
     "title": ""
    }
   },
   "outputs": [],
   "source": [
    "numbers=[3,2,5,223,1,9]\n",
    "sum=0\n",
    "for num in range(len(numbers)):\n",
    "    sum=sum+numbers[num] ** 2     # here numbers[num] is the index  number[3]=5\n",
    "print(sum)"
   ]
  },
  {
   "cell_type": "code",
   "execution_count": 0,
   "metadata": {
    "application/vnd.databricks.v1+cell": {
     "cellMetadata": {},
     "inputWidgets": {},
     "nuid": "0cad2386-fa3f-4dc5-99f0-f9d7ee022b3a",
     "showTitle": false,
     "title": ""
    }
   },
   "outputs": [],
   "source": [
    "numbers=[3,2,5,223,1,9]\n",
    "sum=0\n",
    "for num in range(len(numbers)):\n",
    "    sum=sum+pow(numbers[num],2)\n",
    "print(sum)\n"
   ]
  },
  {
   "cell_type": "code",
   "execution_count": 0,
   "metadata": {
    "application/vnd.databricks.v1+cell": {
     "cellMetadata": {},
     "inputWidgets": {},
     "nuid": "ab2092bc-4dee-4c48-ac15-ae8793d7d721",
     "showTitle": false,
     "title": ""
    }
   },
   "outputs": [],
   "source": [
    "# nested loops\n",
    "student_fn='itika'\n",
    "student_1='angola'\n",
    "record={'itika':90,'df':60,'dsde':70}\n",
    "print(f\"Marks of the student {student_fn} are\",record[student_fn])  # f here is just to get the value of one variable in a string like getting the student_fn's value"
   ]
  },
  {
   "cell_type": "code",
   "execution_count": 0,
   "metadata": {
    "application/vnd.databricks.v1+cell": {
     "cellMetadata": {},
     "inputWidgets": {},
     "nuid": "f3dd2265-bcf7-49f7-b81c-b73aebfd6f43",
     "showTitle": false,
     "title": ""
    }
   },
   "outputs": [],
   "source": [
    "for (name,mark)in record.items():\n",
    "    if mark>80:\n",
    "        print(name,mark)\n",
    "    else:\n",
    "        continue\n",
    "    \n"
   ]
  },
  {
   "cell_type": "code",
   "execution_count": 0,
   "metadata": {
    "application/vnd.databricks.v1+cell": {
     "cellMetadata": {},
     "inputWidgets": {},
     "nuid": "e6764be3-0b12-4183-9fd2-84827931a3e7",
     "showTitle": false,
     "title": ""
    }
   },
   "outputs": [],
   "source": [
    "#using definition to make it more generalised\n",
    "#research\n",
    "def getmark(student):\n",
    "    return student,record[student]     \n",
    "for (name,mark)in record.items():\n",
    "    if mark>80:\n",
    "        print(getmark(name))\n",
    "    else:\n",
    "        continue"
   ]
  },
  {
   "cell_type": "code",
   "execution_count": 0,
   "metadata": {
    "application/vnd.databricks.v1+cell": {
     "cellMetadata": {},
     "inputWidgets": {},
     "nuid": "6723c945-f7ef-407c-afbe-9ac2c94fabcb",
     "showTitle": false,
     "title": ""
    }
   },
   "outputs": [],
   "source": [
    "# jinesh\n",
    "# using definition\n",
    "def getMyMarks(student):\n",
    "    return record[student]\n",
    "print(f'marks of student {student_fn} are',getMyMarks(student_fn))"
   ]
  },
  {
   "cell_type": "code",
   "execution_count": 0,
   "metadata": {
    "application/vnd.databricks.v1+cell": {
     "cellMetadata": {},
     "inputWidgets": {},
     "nuid": "079c79d1-b38a-4c75-86a7-c5d6bdd2cefa",
     "showTitle": false,
     "title": ""
    }
   },
   "outputs": [],
   "source": [
    "#Example: the code reads integer n, and to get all non-negative integers i<n to print i^2\n",
    "\n",
    "n = int(input())\n",
    "   \n",
    "for i in range(0,n):\n",
    "    print(pow(i,2))\n",
    "        "
   ]
  },
  {
   "cell_type": "code",
   "execution_count": 0,
   "metadata": {
    "application/vnd.databricks.v1+cell": {
     "cellMetadata": {},
     "inputWidgets": {},
     "nuid": "30ef4bc9-1c82-4d1a-bfe7-1832b408e01a",
     "showTitle": false,
     "title": ""
    }
   },
   "outputs": [],
   "source": [
    "#research\n",
    "n = int(input())\n",
    "if 1<=n<=150:\n",
    "    print(*range(1,n+1),sep='')\n"
   ]
  },
  {
   "cell_type": "code",
   "execution_count": 0,
   "metadata": {
    "application/vnd.databricks.v1+cell": {
     "cellMetadata": {},
     "inputWidgets": {},
     "nuid": "adb7186b-d029-4fba-88e1-737665eded1a",
     "showTitle": false,
     "title": ""
    }
   },
   "outputs": [],
   "source": [
    "import random    # it gives random integers/range/bytes\n",
    "new=list()\n",
    "for i in range(0,11):\n",
    "    new.append(random.randrange(0,11,2))\n",
    "print(new) \n",
    "\n",
    "for i in range(0,11):\n",
    "    for j in new:\n",
    "        if i==j:\n",
    "            print('the equal number is ',i)"
   ]
  },
  {
   "cell_type": "code",
   "execution_count": 0,
   "metadata": {
    "application/vnd.databricks.v1+cell": {
     "cellMetadata": {},
     "inputWidgets": {},
     "nuid": "fbd2f37f-15f2-44c1-bf49-95a31262135e",
     "showTitle": false,
     "title": ""
    }
   },
   "outputs": [],
   "source": []
  },
  {
   "cell_type": "code",
   "execution_count": 0,
   "metadata": {
    "application/vnd.databricks.v1+cell": {
     "cellMetadata": {},
     "inputWidgets": {},
     "nuid": "7243526a-4a0e-4963-a09c-d20400bbe817",
     "showTitle": false,
     "title": ""
    }
   },
   "outputs": [],
   "source": [
    "num=5\n",
    "counter=1\n",
    "print(f'the multiplication table of {num}')\n",
    "while counter<=10:\n",
    "    print(num,'x',counter,'=',num*counter)\n",
    "    counter=counter+1"
   ]
  },
  {
   "cell_type": "code",
   "execution_count": 0,
   "metadata": {
    "application/vnd.databricks.v1+cell": {
     "cellMetadata": {},
     "inputWidgets": {},
     "nuid": "ba58c244-7c8e-4b1b-8393-7f2104d68449",
     "showTitle": false,
     "title": ""
    }
   },
   "outputs": [],
   "source": [
    "#using pop function as it gives the values in reverse like if there is a bucket and you pick up the last item you put in there\n",
    "list=[1,2,3,4,5,6]\n",
    "new=[]\n",
    "while list:\n",
    "    new.append(list.pop())\n",
    "print(new)\n",
    "print(list)"
   ]
  },
  {
   "cell_type": "code",
   "execution_count": 0,
   "metadata": {
    "application/vnd.databricks.v1+cell": {
     "cellMetadata": {},
     "inputWidgets": {},
     "nuid": "bebc3977-c100-48e6-bce9-634386405bc8",
     "showTitle": false,
     "title": ""
    }
   },
   "outputs": [],
   "source": [
    "# to duplicate the values in a list\n",
    "duplic=new*2\n",
    "print(duplic)\n",
    "len(new)  # the no. of values in a list"
   ]
  },
  {
   "cell_type": "code",
   "execution_count": 0,
   "metadata": {
    "application/vnd.databricks.v1+cell": {
     "cellMetadata": {},
     "inputWidgets": {},
     "nuid": "b1a88072-5e35-4291-863e-1740d5003541",
     "showTitle": false,
     "title": ""
    }
   },
   "outputs": [],
   "source": [
    "print(5 in new)\n",
    "print(max(new))\n",
    "print(min(new))"
   ]
  },
  {
   "cell_type": "code",
   "execution_count": 0,
   "metadata": {
    "application/vnd.databricks.v1+cell": {
     "cellMetadata": {},
     "inputWidgets": {},
     "nuid": "ded1a7e6-66fb-4557-b27f-e048bbc3b93f",
     "showTitle": false,
     "title": ""
    }
   },
   "outputs": [],
   "source": [
    "#finding the right/most optimal algorithm to get the summing of some values in a list\n",
    "def summing(a,b):\n",
    "        if a==0:\n",
    "                abst=listing1[b]\n",
    "        else:\n",
    "                abst=listing1[b]-listing1[a-1]\n",
    "        return abst\n",
    "\n",
    "listing=[15,21,36,41,54,62]\n",
    "listing1=[]\n",
    "i=range(0,len(listing))\n",
    "sum=0\n",
    "for value in listing:\n",
    "        sum=sum+value\n",
    "        listing1.append(sum)\n",
    "print(listing1)\n",
    "print(summing(3,5))\n",
    "print(listing[3]+listing[4]+listing[5])\n",
    "\n",
    "print(summing(0,3))\n",
    "print(listing[0]+listing[1]+listing[2]+listing[3])\n",
    "\n",
    "\n"
   ]
  },
  {
   "cell_type": "code",
   "execution_count": 0,
   "metadata": {
    "application/vnd.databricks.v1+cell": {
     "cellMetadata": {},
     "inputWidgets": {},
     "nuid": "aeef5268-6c4a-4fca-93d4-eaa8daa822dd",
     "showTitle": false,
     "title": ""
    }
   },
   "outputs": [],
   "source": [
    "tuple=('python','tuple','ordered','immutable','collection','object')\n",
    "print(tuple[ :-4])  # here it counts from backwards starting from -1 and gives the in between \n",
    "print(tuple[ :-5])\n",
    "print(tuple[ :-3])\n",
    "print(tuple[1:-4])"
   ]
  },
  {
   "cell_type": "code",
   "execution_count": 0,
   "metadata": {
    "application/vnd.databricks.v1+cell": {
     "cellMetadata": {},
     "inputWidgets": {},
     "nuid": "886a85b3-8a44-4612-9299-0c6755bead08",
     "showTitle": false,
     "title": ""
    }
   },
   "outputs": [],
   "source": [
    "#getting the remainder of a number\n",
    "def factor(N):\n",
    "    count=0\n",
    "    for i in range(1,N+1):\n",
    "        if N%i==0:\n",
    "            count=count+1\n",
    "            print('the factor is',i)\n",
    "    return count\n",
    "print(factor(24))\n",
    "print(factor(16))\n",
    "\n"
   ]
  },
  {
   "cell_type": "code",
   "execution_count": 0,
   "metadata": {
    "application/vnd.databricks.v1+cell": {
     "cellMetadata": {},
     "inputWidgets": {},
     "nuid": "f18f7eb1-3e2b-412b-b287-deaaa2e28415",
     "showTitle": false,
     "title": ""
    }
   },
   "outputs": [],
   "source": [
    "# to reconsider\n",
    "def rem(N):\n",
    "    count=0\n",
    "    h=range(1,N+1)\n",
    "    f=[]\n",
    "    for value in h:\n",
    "        x=f.append(value)\n",
    "    print(f)\n",
    "    for i in f:\n",
    "        if  f[0] ==1 or N==i or (N-i)+(i-1)==(N-1):\n",
    "            count=count+1\n",
    "    return count\n",
    "print(rem(24))\n"
   ]
  },
  {
   "cell_type": "code",
   "execution_count": 0,
   "metadata": {
    "application/vnd.databricks.v1+cell": {
     "cellMetadata": {},
     "inputWidgets": {},
     "nuid": "14dd8b5c-4f56-44bc-865f-7f3ab5527ec2",
     "showTitle": false,
     "title": ""
    }
   },
   "outputs": [],
   "source": [
    "h = list(*range(1,24))\n",
    "print(h)\n"
   ]
  },
  {
   "cell_type": "code",
   "execution_count": 0,
   "metadata": {
    "application/vnd.databricks.v1+cell": {
     "cellMetadata": {},
     "inputWidgets": {},
     "nuid": "6cade3ec-230a-4d71-9eb4-8ba438effdb5",
     "showTitle": false,
     "title": ""
    }
   },
   "outputs": [],
   "source": [
    "#jinesh  to reconsider\n",
    "import math\n",
    "count=0\n",
    "N=25\n",
    "for i in range(1,int(math.sqrt(N))+1):\n",
    "    if N%i==0:\n",
    "        if N ==i*i:\n",
    "            count=count+1\n",
    "                \n",
    "        #elif i==1 or i<=math.sqrt(N):\n",
    "           # count=count+2\n",
    "        else:\n",
    "            count=count+2\n",
    "print(count)"
   ]
  },
  {
   "cell_type": "code",
   "execution_count": 0,
   "metadata": {
    "application/vnd.databricks.v1+cell": {
     "cellMetadata": {},
     "inputWidgets": {},
     "nuid": "e2ed1dd5-3e3b-4840-b78c-d8b27369eefe",
     "showTitle": false,
     "title": ""
    }
   },
   "outputs": [],
   "source": [
    "# use it as a definition;optimised\n",
    "def calculatecountfactorial(N):\n",
    "    count=0\n",
    "    for i in range(1,int(math.sqrt(N)+1)):\n",
    "        if N%i==0:\n",
    "            if N==i*i:\n",
    "                count=count+1\n",
    "            else:\n",
    "                count=count+2\n",
    "    return count\n",
    "N=int(input('enter a number'))\n",
    "print(calculatecountfactorial(N))"
   ]
  },
  {
   "cell_type": "code",
   "execution_count": 0,
   "metadata": {
    "application/vnd.databricks.v1+cell": {
     "cellMetadata": {},
     "inputWidgets": {},
     "nuid": "fa41859a-37d2-461d-bc1b-c1aafdbf3f15",
     "showTitle": false,
     "title": ""
    }
   },
   "outputs": [],
   "source": [
    "def sumnaturalnumbers(N):\n",
    "    s= N*(N+1)/2\n",
    "    return s\n",
    "print(sumnaturalnumbers(100))"
   ]
  },
  {
   "cell_type": "code",
   "execution_count": 0,
   "metadata": {
    "application/vnd.databricks.v1+cell": {
     "cellMetadata": {},
     "inputWidgets": {},
     "nuid": "575be476-838a-418e-8f67-76f95944192a",
     "showTitle": false,
     "title": ""
    }
   },
   "outputs": [],
   "source": [
    "#using logarithms\n",
    "import math\n",
    "\n",
    "x = 25\n",
    "result = math.log(x, 2)\n",
    "print(result)\n"
   ]
  },
  {
   "cell_type": "code",
   "execution_count": 0,
   "metadata": {
    "application/vnd.databricks.v1+cell": {
     "cellMetadata": {},
     "inputWidgets": {},
     "nuid": "77f87f01-894b-47be-97ab-4e9b519cb4db",
     "showTitle": false,
     "title": ""
    }
   },
   "outputs": [],
   "source": [
    "listing=[1,2,3,4]\n",
    "print((listing)*2)\n"
   ]
  },
  {
   "cell_type": "code",
   "execution_count": 0,
   "metadata": {
    "application/vnd.databricks.v1+cell": {
     "cellMetadata": {},
     "inputWidgets": {},
     "nuid": "a434c8ac-1227-4f95-9989-d37b2a0e491f",
     "showTitle": false,
     "title": ""
    }
   },
   "outputs": [],
   "source": [
    "# classes \n",
    "# %%\n",
    "class Array(object):\n",
    "    \n",
    "    def __init__(self,sizeOfArray,arrayType = int):\n",
    "        self.sizeOfArray = len(list(map(arrayType ,range(sizeOfArray))))\n",
    "        self.arrayItems = [arrayType(0)]*sizeOfArray\n",
    "\n",
    "    def __len__(self):\n",
    "        return len(self.arrayItems)\n",
    "    \n",
    "    def insert(self,keyToInsert,position):\n",
    "        if self.sizeOfArray > position:\n",
    "            for i in range(self.sizeOfArray-2,position-1,-1):   # the method proceeds to shift the existing elements in the array to make room for the new element.\n",
    "                self.arrayItems[i+1]=self.arrayItems[i]\n",
    "            self.arrayItems[position]=keyToInsert\n",
    "        else:\n",
    "            print(\"Size of array is \",self.sizeOfArray)\n",
    "\n",
    "\n",
    "a = Array(10,int)\n",
    "a.insert(2,2)\n",
    "a.__len__()\n",
    "a.arrayItems\n",
    "a.insert(3,4)\n",
    "a.arrayItems\n",
    "a.insert(5,1)\n",
    "a.arrayItems\n",
    "for i in range(9,0,-1):\n",
    "    a.insert(i,i)\n",
    "    print(a.arrayItems)"
   ]
  },
  {
   "cell_type": "code",
   "execution_count": 0,
   "metadata": {
    "application/vnd.databricks.v1+cell": {
     "cellMetadata": {},
     "inputWidgets": {},
     "nuid": "a1674c4f-8d15-424e-b179-4e84526fa271",
     "showTitle": false,
     "title": ""
    }
   },
   "outputs": [],
   "source": [
    "print(*range(8,1,-1))"
   ]
  },
  {
   "cell_type": "code",
   "execution_count": 0,
   "metadata": {
    "application/vnd.databricks.v1+cell": {
     "cellMetadata": {},
     "inputWidgets": {},
     "nuid": "3f1216e7-0200-42b0-adcf-223c0c4ed8a1",
     "showTitle": false,
     "title": ""
    }
   },
   "outputs": [],
   "source": [
    "# Linkedlist: is a linear data structure consists of nodes (head&tails)\n",
    "class Node:\n",
    "    def __init__(self,value):\n",
    "        self.value=value\n",
    "        self.next=None\n",
    "class LinkedList:\n",
    "    def __init__(self):\n",
    "        self.head=None\n",
    "        self.tail=None\n",
    "    def add_node(self,value):\n",
    "        new_node=Node(value)\n",
    "        if self.head is None:\n",
    "            self.head=new_node\n",
    "            self.tail=new_node\n",
    "        else:\n",
    "            self.tail.next=new_node\n",
    "            self.tail=new_node\n",
    "    def print_list(self):\n",
    "        curr_node = self.head\n",
    "        while curr_node is not None:\n",
    "            print(curr_node.value)\n",
    "            curr_node = curr_node.next\n",
    "\n",
    "\n",
    "a=LinkedList()\n",
    "a.add_node(5)\n",
    "a.add_node(6)\n",
    "a.add_node(7)\n",
    "a.print_list()\n",
    "\n"
   ]
  },
  {
   "cell_type": "code",
   "execution_count": 0,
   "metadata": {
    "application/vnd.databricks.v1+cell": {
     "cellMetadata": {},
     "inputWidgets": {},
     "nuid": "45d990a3-0bbe-481e-adea-eaafb3a14fde",
     "showTitle": false,
     "title": ""
    }
   },
   "outputs": [],
   "source": []
  },
  {
   "cell_type": "code",
   "execution_count": 0,
   "metadata": {
    "application/vnd.databricks.v1+cell": {
     "cellMetadata": {},
     "inputWidgets": {},
     "nuid": "2cfa8112-7371-41ee-8684-84d0c9c2034c",
     "showTitle": false,
     "title": ""
    }
   },
   "outputs": [],
   "source": []
  },
  {
   "cell_type": "code",
   "execution_count": 0,
   "metadata": {
    "application/vnd.databricks.v1+cell": {
     "cellMetadata": {},
     "inputWidgets": {},
     "nuid": "5253a42f-7585-418f-a5b4-3a21eba11b16",
     "showTitle": false,
     "title": ""
    }
   },
   "outputs": [],
   "source": [
    "#stack\n",
    "class Stack:\n",
    "    def __init__(self):\n",
    "        self.items=[]\n",
    "\n",
    "    def push(self, item):   #add element\n",
    "        self.items.append(item)  \n",
    "    \n",
    "    def peek(self):\n",
    "        return self.items[-1]     # peek operation is to view the last element inserted in the stack without removing it\n",
    "\n",
    "    def pop(self):# you can addd check if loop if stack is empty \"no poping\" else return\n",
    "        return self.items.pop()\n",
    "    \n",
    "    def is_empty(self):\n",
    "        return len(self.items)==0\n",
    "\n",
    "    def size(self):\n",
    "        return len(self.items)\n",
    "    \n",
    "my_stack=Stack()\n",
    "my_stack.push(1)\n",
    "my_stack.push(2)\n",
    "my_stack.push(3)\n",
    "my_stack.peek()"
   ]
  },
  {
   "cell_type": "code",
   "execution_count": 0,
   "metadata": {
    "application/vnd.databricks.v1+cell": {
     "cellMetadata": {},
     "inputWidgets": {},
     "nuid": "abbf0870-200f-49aa-b3be-c39aa6669b5e",
     "showTitle": false,
     "title": ""
    }
   },
   "outputs": [],
   "source": [
    "#Queue\n",
    "# %%\n",
    "class Queue:\n",
    "    def __init__(self) :\n",
    "        self.items= []\n",
    "    \n",
    "    def enqueue(self,items):\n",
    "        self.items.append(items)\n",
    "    \n",
    "    def dequeue(self):\n",
    "        if self.is_empty():\n",
    "            print(\"Queue is empty\")\n",
    "            return None\n",
    "        else:\n",
    "            return self.items.pop(0)\n",
    "    def is_empty(self):   # a method used for the dequeue method in 'if' condition\n",
    "        return len(self.items) == 0\n",
    "\n",
    "\n",
    "    def sizeOfQueue(self):\n",
    "        return len(self.items)\n",
    "q =Queue()\n",
    "q.enqueue(3)\n",
    "q.enqueue(4)\n",
    "q.enqueue(5)\n",
    "\n",
    "for items in q.items:\n",
    "    print(items)\n",
    "\n"
   ]
  },
  {
   "cell_type": "code",
   "execution_count": 0,
   "metadata": {
    "application/vnd.databricks.v1+cell": {
     "cellMetadata": {},
     "inputWidgets": {},
     "nuid": "bd093045-1459-4859-897f-72065106dcaf",
     "showTitle": false,
     "title": ""
    }
   },
   "outputs": [],
   "source": [
    "print(str(q.sizeOfQueue()))"
   ]
  },
  {
   "cell_type": "code",
   "execution_count": 0,
   "metadata": {
    "application/vnd.databricks.v1+cell": {
     "cellMetadata": {},
     "inputWidgets": {},
     "nuid": "fa8902e4-112e-4f4f-8083-015d3923a1a0",
     "showTitle": false,
     "title": ""
    }
   },
   "outputs": [],
   "source": [
    "print(str(q.dequeue()))"
   ]
  },
  {
   "cell_type": "code",
   "execution_count": 0,
   "metadata": {
    "application/vnd.databricks.v1+cell": {
     "cellMetadata": {},
     "inputWidgets": {},
     "nuid": "2d2eec1f-d4f4-4c74-9aa1-12fa0d77438c",
     "showTitle": false,
     "title": ""
    }
   },
   "outputs": [],
   "source": [
    "print(str(q.sizeOfQueue()))"
   ]
  },
  {
   "cell_type": "code",
   "execution_count": 0,
   "metadata": {
    "application/vnd.databricks.v1+cell": {
     "cellMetadata": {},
     "inputWidgets": {},
     "nuid": "172951b3-eca5-477c-b166-ad7e265e9d87",
     "showTitle": false,
     "title": ""
    }
   },
   "outputs": [],
   "source": [
    "q.is_empty()  # to check whether the queue is empty or not"
   ]
  },
  {
   "cell_type": "code",
   "execution_count": 0,
   "metadata": {
    "application/vnd.databricks.v1+cell": {
     "cellMetadata": {},
     "inputWidgets": {},
     "nuid": "f668937b-1a30-45d6-8d15-f066b6f872cd",
     "showTitle": false,
     "title": ""
    }
   },
   "outputs": [],
   "source": [
    "\n",
    "for i in q:\n",
    "    print(i)    "
   ]
  },
  {
   "cell_type": "code",
   "execution_count": 0,
   "metadata": {
    "application/vnd.databricks.v1+cell": {
     "cellMetadata": {},
     "inputWidgets": {},
     "nuid": "8288a1f6-b461-4838-9d37-3f4f7a2e741d",
     "showTitle": false,
     "title": ""
    }
   },
   "outputs": [],
   "source": [
    "#Graph\n",
    "class Graph:\n",
    "    def __init__(self):\n",
    "        self.graph={}\n",
    "    \n",
    "    def add_vertex(self,vertex):\n",
    "        if vertex not in self.graph:\n",
    "            self.graph[vertex]=[]    #dictionar key is list and value as a list   B :- []\n",
    "    \n",
    "    def add_edge(self,vertex1,vertex2):\n",
    "        if vertex1 not in self.graph:\n",
    "            self.add_vertex(vertex1)\n",
    "        \n",
    "        if vertex2 not in self.graph:\n",
    "            self.add_vertex(vertex2)\n",
    "        \n",
    "        self.graph[vertex1].append(vertex2)\n",
    "        self.graph[vertex2].append(vertex1)\n",
    "\n",
    "    def get_vertice(self):\n",
    "        return list(self.graph.keys())\n",
    "    \n",
    " #   def getEdges(self):\n",
    "  #      edges=[]\n",
    "   ##     print(self.graph.items())\n",
    "    #    for vertex in self.graph:\n",
    "     #       for neighbours in self.graph[vertex]:\n",
    "      #          edges.append((vertex,neighbours))\n",
    "       # return edges\n",
    "    \n",
    "    def getEdges(self):\n",
    "        edges=[]\n",
    "        for key,value in self.graph.items():\n",
    "                for edge in value:\n",
    "                    edges.append((key,edge))\n",
    "        return edges\n",
    "\n",
    "g =Graph()\n",
    "g.add_vertex(\"A\")\n",
    "g.add_vertex(\"B\")\n",
    "g.add_vertex(\"C\")\n",
    "\n",
    "g.add_edge(\"A\",\"B\")\n",
    "g.add_edge(\"B\",\"C\")\n",
    "g.add_edge(\"C\",\"A\")\n",
    "\n",
    "print(g.getEdges())\n",
    "\n"
   ]
  },
  {
   "cell_type": "code",
   "execution_count": 0,
   "metadata": {
    "application/vnd.databricks.v1+cell": {
     "cellMetadata": {},
     "inputWidgets": {},
     "nuid": "12ea9717-ef72-4354-87a4-4aa851b136f4",
     "showTitle": false,
     "title": ""
    }
   },
   "outputs": [],
   "source": [
    "g.add_vertex(\"D\")\n",
    "print(g.getEdges())"
   ]
  },
  {
   "cell_type": "code",
   "execution_count": 0,
   "metadata": {
    "application/vnd.databricks.v1+cell": {
     "cellMetadata": {},
     "inputWidgets": {},
     "nuid": "8cda324d-33a3-4949-9b10-063ddc65b2b3",
     "showTitle": false,
     "title": ""
    }
   },
   "outputs": [],
   "source": [
    "# Tree\n",
    "class Node:\n",
    "    def __init__(self,data):\n",
    "        self.data= data\n",
    "        self.leftChild=None\n",
    "        self.rightChild=None\n",
    "\n",
    "    def printTree(self):\n",
    "        if self.leftChild:\n",
    "            self.leftChild.printTree()\n",
    "        print(self.data)\n",
    "        if self.rightChild:\n",
    "            self.rightChild.printTree()\n",
    "    \n",
    "    def insert(self,data):\n",
    "\n",
    "        if data <self.data:\n",
    "            if self.leftChild:\n",
    "                self.leftChild.insert(data)\n",
    "            else:\n",
    "               self.leftChild = Node(data) \n",
    "               return\n",
    "        else:\n",
    "            if self.rightChild:\n",
    "                self.rightChild.insert(data)\n",
    "            else:\n",
    "                self.rightChild = Node(data)\n",
    "                return\n",
    "            \n",
    "    def search(self,value):\n",
    "        if self.data==value:\n",
    "            return ('found:',self.data)\n",
    "        elif value < self.data and self.leftChild is not None:\n",
    "            return self.leftChild.search(value)\n",
    "        elif value > self.data and self.rightChild is not None:\n",
    "            return self.rightChild.search(value)\n",
    "        else:\n",
    "            return ('not found')\n",
    "\n",
    "\n",
    "root = Node(27)\n",
    "\n",
    "root.insert(14)\n",
    "root.insert(35)\n",
    "root.insert(31)\n",
    "root.insert(10)\n",
    "root.insert(19)\n",
    "root.printTree()\n"
   ]
  },
  {
   "cell_type": "code",
   "execution_count": 0,
   "metadata": {
    "application/vnd.databricks.v1+cell": {
     "cellMetadata": {},
     "inputWidgets": {},
     "nuid": "b3fc213e-4a5c-4d1b-b911-3e3bf4ac87d0",
     "showTitle": false,
     "title": ""
    }
   },
   "outputs": [],
   "source": [
    "root.search(31)\n",
    "root.search(20)"
   ]
  },
  {
   "cell_type": "code",
   "execution_count": 0,
   "metadata": {
    "application/vnd.databricks.v1+cell": {
     "cellMetadata": {},
     "inputWidgets": {},
     "nuid": "2c185b99-8ca3-4051-bb55-98adb36d43e5",
     "showTitle": false,
     "title": ""
    }
   },
   "outputs": [],
   "source": [
    "# an example having the same concept of searching for a node in a tree\n",
    "# sorting a data set  option 1\n",
    "def bubble_sort(arr):\n",
    "    n=len(arr)\n",
    "\n",
    "    for i in range(n):\n",
    "        for j in range(0,n-i-1):\n",
    "            if arr[j]>arr[j+1]:\n",
    "                arr[j],arr[j+1]=arr[j+1],arr[j]\n",
    "\n",
    "a=bubble_sort([14,27,35,10,19])\n",
    "print(a)"
   ]
  },
  {
   "cell_type": "code",
   "execution_count": 0,
   "metadata": {
    "application/vnd.databricks.v1+cell": {
     "cellMetadata": {},
     "inputWidgets": {},
     "nuid": "8e9ca274-6cd4-4990-ac77-b8113c3b9c07",
     "showTitle": false,
     "title": ""
    }
   },
   "outputs": [],
   "source": [
    "#option 2\n",
    "def mergesort(arr):\n",
    "    if len(arr) ==1:\n",
    "        return arr\n",
    "    \n",
    "    #Divide the array in 2 half\n",
    "    mid=len(arr) // 2\n",
    "    left_half=arr[:mid]\n",
    "    right_half=arr[mid:]\n",
    "\n",
    "    #Recursivel sort each half\n",
    "    left_sorted=mergesort(left_half)\n",
    "    right_sorted=mergesort(right_half)\n",
    "\n",
    "    #merge the halves\n",
    "    i=j=0\n",
    "    result=[]\n",
    "    while i < len(left_sorted) and j <len(right_sorted):\n",
    "        if left_sorted[i]<right_sorted[j]:\n",
    "            result.append(left_sorted[i])\n",
    "            i=i+1\n",
    "        else:\n",
    "            result.append(right_sorted[j])\n",
    "            j=j+1\n",
    "        result +=left_sorted[i:]\n",
    "        result+= right_sorted[j:]\n",
    "    return result\n",
    "mergesort([27,14,35,10,19])"
   ]
  },
  {
   "cell_type": "code",
   "execution_count": 0,
   "metadata": {
    "application/vnd.databricks.v1+cell": {
     "cellMetadata": {},
     "inputWidgets": {},
     "nuid": "ebaa4465-cfbd-464a-9ca8-68f36057349a",
     "showTitle": false,
     "title": ""
    }
   },
   "outputs": [],
   "source": [
    "# option 3 for sorting data sets\n",
    "def quicksort(arr):\n",
    "    if len(arr) < 2:\n",
    "        return arr\n",
    "    \n",
    "    #choose the pivot element\n",
    "    pivot = arr[0]\n",
    "\n",
    "    #Partition the array in two sub arrays\n",
    "    lesser =[i for i in arr[1:] if i<=pivot] \n",
    "    right =[i for i in arr[1:] if i > pivot]\n",
    "\n",
    "    return quicksort(lesser)+[pivot]+quicksort(right)\n",
    "\n",
    "quicksort([27,14,35,10,19])"
   ]
  },
  {
   "cell_type": "code",
   "execution_count": 0,
   "metadata": {
    "application/vnd.databricks.v1+cell": {
     "cellMetadata": {},
     "inputWidgets": {},
     "nuid": "247b2194-185f-4fba-91ca-0f4e14deced1",
     "showTitle": false,
     "title": ""
    }
   },
   "outputs": [],
   "source": [
    "#option 4\n",
    "def insertion_sort(arr):\n",
    "    for i in range(1,len(arr)):\n",
    "        key=arr[i]\n",
    "        j=i-1\n",
    "        while j>=0 and arr[j]>key:\n",
    "            arr[j+1]=arr[j]\n",
    "            j=j-1\n",
    "        arr[j+1]=key\n",
    "    return arr\n",
    "insertion_sort([27,14,35,10,19])"
   ]
  },
  {
   "cell_type": "code",
   "execution_count": 0,
   "metadata": {
    "application/vnd.databricks.v1+cell": {
     "cellMetadata": {},
     "inputWidgets": {},
     "nuid": "dd4d45f8-7b29-4eea-bd96-1f78d2141007",
     "showTitle": false,
     "title": ""
    }
   },
   "outputs": [],
   "source": [
    "# better \n",
    "def insertion_sort(arr):\n",
    "    for i in range(1,len(arr)):\n",
    "        key=arr[i]\n",
    "        j=i-1\n",
    "        while j>=0 and arr[j]>key:\n",
    "            arr[j+1]=arr[j]\n",
    "            arr[j]=key                              # the two lines;this one and the next is reversed\n",
    "            j=j-1\n",
    "        # then it starts comparing the new value of key with the value before it which is where the j at\n",
    "    return arr\n",
    "insertion_sort([27,14,35,10,19])"
   ]
  },
  {
   "cell_type": "code",
   "execution_count": 0,
   "metadata": {
    "application/vnd.databricks.v1+cell": {
     "cellMetadata": {},
     "inputWidgets": {},
     "nuid": "f37a187f-bb4e-4259-8d74-c3274af9fc72",
     "showTitle": false,
     "title": ""
    }
   },
   "outputs": [],
   "source": [
    "# Nick's option\n",
    "arr = [34, 42, 22, 54, 19, 5]\n",
    "\n",
    "for i in range(1, len(arr)):\n",
    "    while arr[i-1] > arr[i] and i > 0:\n",
    "        arr[i-1], arr[i] = arr[i], arr[i-1]\n",
    "        i -= 1\n",
    "print(arr)"
   ]
  },
  {
   "cell_type": "code",
   "execution_count": 0,
   "metadata": {
    "application/vnd.databricks.v1+cell": {
     "cellMetadata": {},
     "inputWidgets": {},
     "nuid": "aebdccf2-dcef-45cc-bc08-356a6de88f4a",
     "showTitle": false,
     "title": ""
    }
   },
   "outputs": [],
   "source": [
    "\n",
    "\n",
    "    \n"
   ]
  },
  {
   "cell_type": "code",
   "execution_count": 0,
   "metadata": {
    "application/vnd.databricks.v1+cell": {
     "cellMetadata": {},
     "inputWidgets": {},
     "nuid": "df99368d-ddef-4351-b370-0b344100e3e7",
     "showTitle": false,
     "title": ""
    }
   },
   "outputs": [],
   "source": []
  },
  {
   "cell_type": "code",
   "execution_count": 0,
   "metadata": {
    "application/vnd.databricks.v1+cell": {
     "cellMetadata": {},
     "inputWidgets": {},
     "nuid": "9bebd09d-8dac-4b2c-9c20-9e081d8b803e",
     "showTitle": false,
     "title": ""
    }
   },
   "outputs": [],
   "source": [
    "# 1st problem solving\n",
    "# return the reverse of another array\n",
    "def reverse(*data):\n",
    "   \n",
    "    arr=list(data)\n",
    "    arr_2=[]\n",
    "    if 1<=len(arr)<=10000:\n",
    "        for i in range(len(arr)):\n",
    "            if 1<=arr[i]<=10000:\n",
    "                arr_2.append(arr[i])\n",
    "                i=i+1\n",
    "    arr_2.reverse()\n",
    "    return arr_2\n",
    "\n",
    "a=reverse(1,2,3,4)\n",
    "print(a)\n"
   ]
  },
  {
   "cell_type": "code",
   "execution_count": 0,
   "metadata": {
    "application/vnd.databricks.v1+cell": {
     "cellMetadata": {},
     "inputWidgets": {},
     "nuid": "9b7a8b1d-a28e-4d70-affc-70bfebcfece0",
     "showTitle": false,
     "title": ""
    }
   },
   "outputs": [],
   "source": []
  },
  {
   "cell_type": "code",
   "execution_count": 0,
   "metadata": {
    "application/vnd.databricks.v1+cell": {
     "cellMetadata": {},
     "inputWidgets": {},
     "nuid": "b780b9dd-ad84-4e62-b6aa-931166833dec",
     "showTitle": false,
     "title": ""
    }
   },
   "outputs": [],
   "source": [
    "# 2nd problem solving : TC=O(N*N)=O(N^2)   and SC=O(N)\n",
    "def rotating(*data,no):\n",
    "    arr=list(data)\n",
    "    N=len(arr)\n",
    "    if 1 <=N<= 105 and 1<=no<=109:\n",
    "        for j in range(no):  # no. of rotations\n",
    "            reference=arr[-1]\n",
    "            for i in range(N-1,0,-1):\n",
    "                if 1<=arr[i]<=109:\n",
    "                    arr[i]=arr[i-1]\n",
    "            arr[0]=reference\n",
    "        #    print(arr)\n",
    "        return arr\n",
    "    \n",
    "a=rotating(1,2,3,4,5,6,7,8,no=2)\n",
    "print(a)\n"
   ]
  },
  {
   "cell_type": "code",
   "execution_count": 0,
   "metadata": {
    "application/vnd.databricks.v1+cell": {
     "cellMetadata": {},
     "inputWidgets": {},
     "nuid": "f6e65d86-3752-408e-b9c7-768c80c86ef8",
     "showTitle": false,
     "title": ""
    }
   },
   "outputs": [],
   "source": [
    "#more optimised solution  TC=O(1) and SC=O(N)\n",
    "def rotating(*data,no):\n",
    "    arr = list(data)\n",
    "    N = len(arr)\n",
    "    if 1 <= N <= 105:\n",
    "        num_rotations = no % N  # number of rotations to perform\n",
    "        print(num_rotations)\n",
    "        arr = arr[-num_rotations:] + arr[:-num_rotations]  # perform rotations using slicing\n",
    "        return arr\n",
    "\n",
    "a=rotating(1,2,3,4,5,6,7,8,no=2)\n",
    "print(a)"
   ]
  },
  {
   "cell_type": "code",
   "execution_count": 0,
   "metadata": {
    "application/vnd.databricks.v1+cell": {
     "cellMetadata": {},
     "inputWidgets": {},
     "nuid": "709677c6-b80a-4de2-af33-3fc5f7f19973",
     "showTitle": false,
     "title": ""
    }
   },
   "outputs": [],
   "source": [
    "a=[1,2,3,4,5,6,7,8]\n",
    "print(a[:-2])"
   ]
  },
  {
   "cell_type": "code",
   "execution_count": 0,
   "metadata": {
    "application/vnd.databricks.v1+cell": {
     "cellMetadata": {},
     "inputWidgets": {},
     "nuid": "d2de42f9-946a-479d-9107-d096efce7124",
     "showTitle": false,
     "title": ""
    }
   },
   "outputs": [],
   "source": [
    "a=[1,2,3,4]\n",
    "print(max(a))"
   ]
  },
  {
   "cell_type": "code",
   "execution_count": 0,
   "metadata": {
    "application/vnd.databricks.v1+cell": {
     "cellMetadata": {},
     "inputWidgets": {},
     "nuid": "d120c507-a48c-43f3-be63-383008640a61",
     "showTitle": false,
     "title": ""
    }
   },
   "outputs": [],
   "source": [
    "#3rd problem solving\n",
    "def second_max(*data):\n",
    "    import statistics\n",
    "    arr=list(data)\n",
    "    N=len(arr)\n",
    "    maximum=max(arr)\n",
    "    second=0\n",
    "#    print(maximum)\n",
    "    if 1 < N <= 105:\n",
    "        for i in range(N-1):\n",
    "            if type(arr[i]) is int and 0 <= arr[i] <= 109:\n",
    "                if N==1 or statistics.mean(arr)==maximum:return -1\n",
    "                elif arr[i]==maximum: continue\n",
    "                elif arr[i]>second: second=arr[i]\n",
    "    return second\n",
    "import time\n",
    "start_time=time.time()\n",
    "a=second_max(100,70,100,109,109,109,55,88,105,66,109)\n",
    "print(a)\n",
    "end_time = time.time()\n",
    "print(end_time-start_time)"
   ]
  },
  {
   "cell_type": "code",
   "execution_count": 0,
   "metadata": {
    "application/vnd.databricks.v1+cell": {
     "cellMetadata": {},
     "inputWidgets": {},
     "nuid": "09860e41-f3a3-434b-8a93-8844242bc360",
     "showTitle": false,
     "title": ""
    }
   },
   "outputs": [],
   "source": [
    "arr=[-5, -3, -2, -4, -6]\n",
    "print(max(arr))"
   ]
  },
  {
   "cell_type": "code",
   "execution_count": 0,
   "metadata": {
    "application/vnd.databricks.v1+cell": {
     "cellMetadata": {},
     "inputWidgets": {},
     "nuid": "b816c64b-36a6-4c05-be8f-6d3ed3f2bbd4",
     "showTitle": false,
     "title": ""
    }
   },
   "outputs": [],
   "source": [
    "#another option for optimising; without using libraries\n",
    "def second_max(*data):\n",
    "    arr=list(data)\n",
    "    N=len(arr)\n",
    "    maximum=max(arr)\n",
    "    second=0\n",
    "#    print(maximum)\n",
    "    if 1<= N <= 105:\n",
    "        for i in range(N-1):\n",
    "            if type(arr[i]) is int and 0 <= arr[i] <= 109:\n",
    "                if N==1 or sum(arr)/N==maximum:return -1\n",
    "                elif arr[i]==maximum: continue\n",
    "                elif arr[i]>second: second=arr[i]\n",
    "    return second\n",
    "\n",
    "import time\n",
    "start_time = time.time()\n",
    "a=second_max(100,70,100,109,109,109,55,88,105,66,109)\n",
    "print(a)\n",
    "end_time = time.time()\n",
    "print(end_time-start_time)"
   ]
  },
  {
   "cell_type": "code",
   "execution_count": 0,
   "metadata": {
    "application/vnd.databricks.v1+cell": {
     "cellMetadata": {},
     "inputWidgets": {},
     "nuid": "b4be84b2-4654-4ec8-aa58-8719d8de8d1e",
     "showTitle": false,
     "title": ""
    }
   },
   "outputs": [],
   "source": [
    "print(type(a))"
   ]
  },
  {
   "cell_type": "code",
   "execution_count": 0,
   "metadata": {
    "application/vnd.databricks.v1+cell": {
     "cellMetadata": {},
     "inputWidgets": {},
     "nuid": "158cb4d1-0efc-4fbc-8c6a-ab0b6a8d8b77",
     "showTitle": false,
     "title": ""
    }
   },
   "outputs": [],
   "source": [
    "#3rd option with using sorting algorithms\n",
    "import time\n",
    "def quicksort(arr):\n",
    "    if len(arr) < 2:\n",
    "        return arr\n",
    "    \n",
    "    #choose the pivot element\n",
    "    pivot = arr[0]\n",
    "\n",
    "    #Partition the array in two sub arrays\n",
    "    lesser =[i for i in arr[1:] if i<=pivot] \n",
    "    right =[i for i in arr[1:] if i > pivot]\n",
    "\n",
    "    return quicksort(lesser)+[pivot]+quicksort(right)\n",
    "def second_max(*data):\n",
    "    arr=list(data)\n",
    "    N=len(arr)\n",
    "    max_value=109\n",
    "    \n",
    "    if 1<= N <= 105 and all(x <= max_value for x in data):\n",
    "        if sum(arr)/N!=max(arr):\n",
    "            \n",
    "            a=quicksort(arr)\n",
    "            \n",
    "            \n",
    "            return a[N-2]\n",
    "        else: return -1\n",
    "    else:\n",
    "        return f'the value in array is more than {max_value} or the number of array exceeded the max;105'\n",
    "    \n",
    "    \n",
    "start_time = time.time()\n",
    "b=second_max(100,70,100,109,109,109,55,88,105,66,109)\n",
    "print(b)\n",
    "end_time = time.time()\n",
    "print(end_time-start_time)\n",
    "c=second_max(109,108,110,60)\n",
    "print(c)\n",
    "\n"
   ]
  },
  {
   "cell_type": "code",
   "execution_count": 0,
   "metadata": {
    "application/vnd.databricks.v1+cell": {
     "cellMetadata": {},
     "inputWidgets": {},
     "nuid": "be290d37-2b28-4311-963a-572697a685ce",
     "showTitle": false,
     "title": ""
    }
   },
   "outputs": [],
   "source": [
    "                                                    # 06.03.2023 class on OOP\n",
    "class book:   #POJO in\n",
    "    #here title is an instance variable for that we would define both getTitle for accessing the data/data retrieval and setTitle for updating the data\n",
    "    def __init__(self,title):\n",
    "        self.title=title\n",
    "\n",
    "    def getTitle(self):           # for accessing the data \n",
    "        return self.title\n",
    "    \n",
    "    def setTitle(self,title):         # for updating the data\n",
    "        self.title=title\n",
    "# TODO create book instance variable b1 and b2\n",
    "b1=book('getting things done')\n",
    "print(b1.getTitle())\n",
    "b1.setTitle('diamond dust')\n",
    "print(b1.getTitle())"
   ]
  },
  {
   "cell_type": "code",
   "execution_count": 0,
   "metadata": {
    "application/vnd.databricks.v1+cell": {
     "cellMetadata": {},
     "inputWidgets": {},
     "nuid": "709452b1-2156-4bd1-8151-7a15c5313fd9",
     "showTitle": false,
     "title": ""
    }
   },
   "outputs": [],
   "source": [
    "b2=book('here we go')\n",
    "print(b2.getTitle())"
   ]
  },
  {
   "cell_type": "code",
   "execution_count": 0,
   "metadata": {
    "application/vnd.databricks.v1+cell": {
     "cellMetadata": {},
     "inputWidgets": {},
     "nuid": "1829ec48-7425-4207-9ce2-cc52086c86b5",
     "showTitle": false,
     "title": ""
    }
   },
   "outputs": [],
   "source": [
    "# inserting more attributes which will have in turn more methods\n",
    "# inserting optional attribute which will have in return optional method (setting discount)\n",
    "class book:   #POJO in\n",
    "    #here title is an instance variable for that we would define both getTitle for accessing the data/data retrieval and setTitle for updating the data\n",
    "    def __init__(self,title,author,pages,price):\n",
    "        self.title=title\n",
    "        self.author=author\n",
    "        self.pages=pages\n",
    "        self.price=price\n",
    "        self.__secret='another title'\n",
    "\n",
    "    def getTitle(self):           # for accessing the data \n",
    "        return self.title\n",
    "    \n",
    "    def setTitle(self,title):         # for updating the data\n",
    "        self.title=title\n",
    "    \n",
    "    def setDiscount(self,discount):\n",
    "        self._discount=discount/100      # ._discount   the under score here means that it is an optional method\n",
    "        return 'done'\n",
    "\n",
    "    def getPrice(self):\n",
    "        if hasattr(self,'_discount'):            # here this is an optional attribute the price may have which is the discount\n",
    "            return f'{self.price - (self.price*self._discount)} euro'\n",
    "        else:\n",
    "            return f'{self.price} euro'\n",
    "    \n",
    "    def display(self):             # to display all the attributes for an instance\n",
    "        print('title is %s\\nPages are %s pages\\nthe author is %s\\nprice is %d euro'%(self.title,self.pages,self.author,self.price))  # here this option displays each Attr with its data type data;int %d or string %s ..\n",
    "    \n",
    "    def __str__(self):   # used if we want simply to print the instance \n",
    "        return f'title:{self.title}\\npages:{self.pages}\\nPrice:{self.price}'\n",
    "    \n",
    "    def __repr__(self):\n",
    "        return f'title:{self.title}\\npages:{self.pages}\\nPrice:{self.price}'\n",
    "    \n",
    "    def __eq__(self,value):   # value here is the instance being compared to 'self' which is the first instance\n",
    "        if not isinstance(value,book):\n",
    "            raise ValueError('this instance is not found in class book')\n",
    "        return (self.title==value.title and self.author==value.author)\n",
    "    \n",
    "\n",
    "# TODO create book instance variable b1 and b2\n",
    "b1=book('getting things done','david allen',300,16)\n",
    "print(b1.getTitle())\n",
    "print(b1.price)  # not a good practice to call the attributes in the initial\n",
    "print(b1.getPrice())\n",
    "print(b1.setDiscount(5));print(b1.getPrice())\n",
    "print(b1._book__secret)          # to call for a secret attribute\n",
    "#print(b1.__secret)          # here it will give error to the user because this is a secret attribute so as an admin we write our secret query\n",
    "print(b1._book__secret)  # the secret query\n",
    "del b1.price\n",
    "#print(b1.getPrice())   # here it will give error that b1 doesn't have 'price' attribute\n",
    "b1=book('getting things done','david allen',300,16)\n",
    "b1.display()\n",
    "print(b1)\n",
    "print(str(b1))\n",
    "print(book.__name__)\n",
    "print(repr(b1))    # using the method repr to print the attr.   option 1\n",
    "print(b1.__repr__())  # option 2\n",
    "print(b1.__str__())\n",
    "\n",
    "\n",
    "b2=book('getting things done','david allen',300,16)\n",
    "print(b1==b2)    # here it will give true after doing the __eq__ method\n",
    "class car:\n",
    "    def __init__(self,color):\n",
    "        self.color=color\n",
    "    def __eq__(self,value):   # value here is the instance being compared to 'self' which is the first instance\n",
    "        if not isinstance(value,car):\n",
    "            raise ValueError('this instance is not found in class car')\n",
    "        return (self.color==value.color)\n",
    "c1=car('pink')\n",
    "# print(b1==c1)     # here it will raise the value error\n",
    "#print(c1==b1)        # here it will raise the value error because b1 is not instance of the class car\n",
    "print(b1.__eq__(b2))  # here it does the equal method  b1 is the main instance to be compared to and b2 is the value \n",
    "\n",
    "\n",
    "\n"
   ]
  },
  {
   "cell_type": "code",
   "execution_count": 0,
   "metadata": {
    "application/vnd.databricks.v1+cell": {
     "cellMetadata": {},
     "inputWidgets": {},
     "nuid": "bda6a2b5-02f4-4edb-893d-314be872bcd5",
     "showTitle": false,
     "title": ""
    }
   },
   "outputs": [],
   "source": []
  },
  {
   "cell_type": "code",
   "execution_count": 0,
   "metadata": {
    "application/vnd.databricks.v1+cell": {
     "cellMetadata": {},
     "inputWidgets": {},
     "nuid": "0105ccc5-0beb-43eb-8822-af835aefdd0d",
     "showTitle": false,
     "title": ""
    }
   },
   "outputs": [],
   "source": []
  },
  {
   "cell_type": "code",
   "execution_count": 0,
   "metadata": {
    "application/vnd.databricks.v1+cell": {
     "cellMetadata": {},
     "inputWidgets": {},
     "nuid": "ac9eb7d7-b1f7-4ba9-970b-9e82468cba75",
     "showTitle": false,
     "title": ""
    }
   },
   "outputs": [],
   "source": [
    "b1=book('getting things done','david allen',300,16)\n",
    "print(b1.getTitle())"
   ]
  },
  {
   "cell_type": "code",
   "execution_count": 0,
   "metadata": {
    "application/vnd.databricks.v1+cell": {
     "cellMetadata": {},
     "inputWidgets": {},
     "nuid": "570220ec-47cf-459e-8e7a-5041e57f9429",
     "showTitle": false,
     "title": ""
    }
   },
   "outputs": [],
   "source": [
    "# static method and class method; they both act on the class itself / the operations is done on the class itself not the instances\n",
    "# defining a counter for the instances and for the whole class\n",
    "class book:   #POJO in\n",
    "   \n",
    "    __BOOK_COUNT=0\n",
    "    BOOK_TYPES=('HARDCOVER','PAPERBACK','EBOOK')          # STATIC CONSTANTS\n",
    "    __BOOK_LISTS=None   # can be secret variable   __BOOKLISTS=NONE\n",
    "    #here title is an instance variable for that we would define both getTitle for accessing the data/data retrieval and setTitle for updating the data\n",
    "    def __init__(self,title,book_type):\n",
    "        self.title=title\n",
    "        self.bookType=book_type\n",
    "        self.instnc_count=0\n",
    "        if not book_type in book.BOOK_TYPES:\n",
    "            raise ValueError('this book type is not supported')\n",
    "        else:\n",
    "            self.book_type=book_type\n",
    "\n",
    "    def getTitle(self):           # for accessing the data \n",
    "        return self.title\n",
    "    \n",
    "    def setTitle(self,title):         # for updating the data\n",
    "        self.title=title\n",
    "\n",
    "    def setCount(self):    #   its asscoiated with that b1 instance variable is not associated Book( contains 'self' so it is associated with instances)\n",
    "        self.instnc_count=self.instnc_count+1\n",
    "        return self.instnc_count\n",
    "\n",
    "    @staticmethod            # this method is to set something at a specific class level\n",
    "    def getBookList():\n",
    "        \n",
    "        if book.__BOOK_LISTS==None:\n",
    "            book.__BOOK_LISTS=[]\n",
    "           \n",
    "        return book.__BOOK_LISTS\n",
    "    \n",
    "    def incrementCount():                                     #These is not asscoiated with b1 or b2 its asssociated with class name Book\n",
    "        book.__BOOK_COUNT = book.__BOOK_COUNT +1\n",
    "        \n",
    "    \n",
    "    @classmethod           # this to get a constant from the class level specified\n",
    "    def getBookTypes(cls):\n",
    "        return cls.BOOK_TYPES\n",
    "    \n",
    "    def returnCount(cls):\n",
    "        return cls.__BOOK_COUNT\n",
    "    \n",
    "#print(book.getBookList())                    # before adding any instances' titles or attributes, it will return an empty list\n",
    "\n",
    "b1 = book(\"title1\",\"HARDCOVER\")\n",
    "print('count for b1',b1.setCount())\n",
    "book.incrementCount()\n",
    "b2= book(\"title2\",\"PAPERBACK\")\n",
    "book.incrementCount()\n",
    "print('count for b2',b2.setCount())\n",
    "print('count for class book',book.returnCount(book))\n",
    "#print(book.getBookTypes())\n",
    "#theBook=book.getBookList()\n",
    "#theBook.append(b1.getTitle())   # adding the title from each instance to this list;book list\n",
    "#theBook.append(b2.getTitle())\n",
    "#print(theBook)\n",
    "#print(book.getBookList()) # here it will give also the book list \n"
   ]
  },
  {
   "cell_type": "code",
   "execution_count": 0,
   "metadata": {
    "application/vnd.databricks.v1+cell": {
     "cellMetadata": {},
     "inputWidgets": {},
     "nuid": "1073eab4-e75c-4942-87fb-f489c53f943d",
     "showTitle": false,
     "title": ""
    }
   },
   "outputs": [],
   "source": [
    "#07.03.2023\n",
    "## what happens when we try to change a class-level variable in an instance variable?\n",
    "\n",
    "class Employee:\n",
    "    COMPANY_NAME='Wiley'      # class variable / static variable\n",
    "    def __init__(self,name):\n",
    "        self.name=name\n",
    "        print('first')\n",
    "    \n",
    "    def __init__(self,name):\n",
    "        self.name=name\n",
    "        print('second')\n",
    "\n",
    "b1=Employee('rovan')           # it will use the second inital\n",
    "b1.COMPANY_NAME=5\n",
    "print(b1.COMPANY_NAME) # gives 5; here the change is made to this instance only\n",
    "print(Employee.COMPANY_NAME)  # gives wiley; here it is for the whole class which will give the class variable\n",
    "\n",
    "b2=Employee('abdou')\n",
    "print(b2.COMPANY_NAME)  # gives wiley; it will give the class-level variable \n",
    "\n",
    "print(b1.COMPANY_NAME)\n",
    "# so if you want to change a class variable, use the class name to change it and don't use an instance to change this class-level variable!\n",
    "\n",
    "print(b1.__dict__)  # it shows all the attributes to this instance \n",
    "print(b2.__dict__)\n",
    "\n",
    "print(dir(book)) #(get all methods of a class)"
   ]
  },
  {
   "cell_type": "code",
   "execution_count": 0,
   "metadata": {
    "application/vnd.databricks.v1+cell": {
     "cellMetadata": {},
     "inputWidgets": {},
     "nuid": "c5bb175c-f9c2-4453-b4e9-cd7f000d6bf8",
     "showTitle": false,
     "title": ""
    }
   },
   "outputs": [],
   "source": [
    "b2= book(\"title2\",\"PAPERBACK\")\n",
    "b2.setCount()\n"
   ]
  },
  {
   "cell_type": "code",
   "execution_count": 0,
   "metadata": {
    "application/vnd.databricks.v1+cell": {
     "cellMetadata": {},
     "inputWidgets": {},
     "nuid": "c0e1336b-d15f-4eb4-b53a-eabeb787e84f",
     "showTitle": false,
     "title": ""
    }
   },
   "outputs": [],
   "source": [
    "#Jinesh\n",
    "class Book:\n",
    "    # define 3 count variable and increment it in instance method , \n",
    "    # static method and class method and print it\n",
    "\n",
    "    #TODO properties defined at classs level shared by all instance variables\n",
    "    __COUNT=0    #   STATIC and contsnat\n",
    "    BOOK_TYPES=(\"HARDCOVER\",\"PAPERBACK\",\"EBOOK\")    # STATIC contsnats\n",
    "    BOOK_CLASSLEVEL_COUNT=0  # static constants\n",
    "    #TODO __ properties are hidden from other classes\n",
    "    __booklist = None\n",
    "    def __init__(self,title,bookType):\n",
    "        self.title=title\n",
    "        self.count=0\n",
    "        if (not bookType in Book.BOOK_TYPES):\n",
    "            raise ValueError(f\"We dont support the feature you are asking {bookType}\")\n",
    "        else:\n",
    "            self.booktype=bookType\n",
    "    \n",
    "    @staticmethod\n",
    "    def incrementCount():    #These is not asscoiated with b1 or b2 its asssociated with class name Book\n",
    "        Book.__COUNT = Book.__COUNT+1\n",
    "        return Book.__COUNT;\n",
    "        \n",
    "    \n",
    "    \n",
    "    # static methods do not recieve class or instance argument\n",
    "    @staticmethod\n",
    "    def getBookList(arg1,arg2):    # these method is sto set something at class level\n",
    "    \n",
    "      #  print(Book.BOOK_TYPES)\n",
    "        if Book.__booklist == None:\n",
    "            Book.__booklist = []\n",
    "        return Book.__booklist\n",
    "    \n",
    "    @classmethod      # same like setter and getter\n",
    "    def getBookTypes(cls):\n",
    "        return cls.BOOK_TYPES\n",
    "    \n",
    "\n",
    "    @classmethod\n",
    "    def returnCount(cls):\n",
    "        return cls.__COUNT\n",
    "    \n",
    "    def setTitle(self,newTitle):\n",
    "        self.title=newTitle\n",
    "\n",
    "    def setCount(self):    #   its asscoiated with that b1 instance variable ist not associated Book\n",
    "        self.count=self.count+1\n",
    "    \n",
    "#\n",
    "\n",
    "\n",
    "print(\"Book Types : \", Book.getBookTypes())\n",
    "b1 = Book(\"title1\",\"HARDCOVER\")\n",
    "b1.setCount()\n",
    "b2= Book(\"title2\",\"PAPERBACK\")\n",
    "b2.setCount()\n",
    "#theBook=Book.getBookList(1,2)\n",
    "#theBook.append(b1)\n",
    "#theBook.append(b2)\n",
    "#print(theBook)\n",
    "\n",
    "\n",
    "\n",
    "Book.incrementCount()\n",
    "print(b1.count)\n",
    "Book.incrementCount()\n",
    "print(b2.count)\n",
    "Book.incrementCount()\n",
    "Book.incrementCount()\n",
    "print(b1.returnCount())\n",
    "print(b1.incrementCount())    "
   ]
  },
  {
   "cell_type": "code",
   "execution_count": 0,
   "metadata": {
    "application/vnd.databricks.v1+cell": {
     "cellMetadata": {},
     "inputWidgets": {},
     "nuid": "8af7e034-eb76-41e3-9c18-7067a2aada27",
     "showTitle": false,
     "title": ""
    }
   },
   "outputs": [],
   "source": [
    "#print(book.getBookList())\n",
    "print(book.getBookTypes())\n",
    "book.getBookList()"
   ]
  },
  {
   "cell_type": "code",
   "execution_count": 0,
   "metadata": {
    "application/vnd.databricks.v1+cell": {
     "cellMetadata": {},
     "inputWidgets": {},
     "nuid": "df8e4f11-b35e-47fb-9135-4569ea579b03",
     "showTitle": false,
     "title": ""
    }
   },
   "outputs": [],
   "source": [
    "#07.03.2023\n",
    "#inheritance\n",
    "class Book:\n",
    "    def __init__(self,title,author,pages,price):\n",
    "        self.title=title\n",
    "        self.author=author\n",
    "        self.pages=pages\n",
    "        self.price=price\n",
    "        \n",
    "class Magzine:\n",
    "    def __init__(self,title,publisher,period,price):\n",
    "        self.title=title\n",
    "        self.price=price\n",
    "        self.publisher=publisher\n",
    "        self.period=period\n",
    "\n",
    "class NewsPaper:\n",
    "    def __init__(self,title,publisher,period,price):\n",
    "        self.title=title\n",
    "        self.price=price\n",
    "        self.publisher=publisher\n",
    "        self.period=period\n",
    "\n",
    "b1= Book(\"a,sadhkjs\",12,12,50)\n",
    "m1= Magzine(\"123sa\",\"132sad\",21,\"Montly\")\n",
    "n1= NewsPaper(\"123sa\",\"132sad\",21,\"Montly\")\n",
    "print (b1.__dict__)\n",
    "print (m1.__dict__)\n",
    "print (n1.__dict__)"
   ]
  },
  {
   "cell_type": "code",
   "execution_count": 0,
   "metadata": {
    "application/vnd.databricks.v1+cell": {
     "cellMetadata": {},
     "inputWidgets": {},
     "nuid": "2ce58d77-c2ad-4ca0-94df-dcf798997f7e",
     "showTitle": false,
     "title": ""
    }
   },
   "outputs": [],
   "source": [
    "#Inheritance: it is an OOP that a class can borrow the attributes and the methods of another class.\n",
    "#Ex: 3 classes of book, magazine and newspaper. Each has ‘title’ and ‘price’ attributes.\n",
    "#Books attributes: title,price,author,pages\n",
    "#newspaper/magazine: title,price,period,publisher\n",
    "#Solution here is to get a class or two-class that has the common attributes between the classes\n",
    "\n",
    "class publication:\n",
    "    def __init__(self,title,price):\n",
    "        self.title=title\n",
    "        self.price=price\n",
    "class periodical(publication):\n",
    "    def __init__(self, title, price,period,publisher):\n",
    "        super().__init__(title, price)\n",
    "        self.period=period\n",
    "        self.publisher=publisher\n",
    "class book(publication):\n",
    "    def __init__(self, title,author,pages,price):\n",
    "        super().__init__(title, price)\n",
    "        self.author=author\n",
    "        self.pages=pages\n",
    "\n",
    "class magzine(periodical):\n",
    "    def __init__(self, title, price, period, publisher):\n",
    "        super().__init__(title, price, period, publisher)\n",
    "\n",
    "class Newspaper(periodical):\n",
    "    def __init__(self, title, price, period, publisher):\n",
    "        super().__init__(title, price, period, publisher)\n",
    "\n",
    "b1=book('getting things done','david allen',300,16)\n",
    "m1=magzine('vogue',13,'monthly','abc')\n",
    "n1=NewsPaper('new york times',5,'weekly','def')\n",
    "print(b1.title)\n",
    "print(b1.__dict__)    # to get all the attributes of the instance\n",
    "print(m1.__dict__)\n",
    "print(n1.__dict__)\n",
    "# built in functions to check the relations between the classes and the objects\n",
    "print(issubclass(magzine,publication))   #like transitivity property\n",
    "print(issubclass(magzine,periodical))   #like transitivity property\n",
    "print(isinstance(m1,magzine))   #like transitivity property\n",
    "print(isinstance(b1,magzine))   #like transitivity property\n",
    "\n"
   ]
  },
  {
   "cell_type": "code",
   "execution_count": 0,
   "metadata": {
    "application/vnd.databricks.v1+cell": {
     "cellMetadata": {},
     "inputWidgets": {},
     "nuid": "33bb6f2a-4ac1-4d38-8406-121be7932c56",
     "showTitle": false,
     "title": ""
    }
   },
   "outputs": [],
   "source": [
    "# multiple inheritance\n",
    "class A:\n",
    "    def __init__(self):\n",
    "        super().__init__()\n",
    "        self.foo='foo'\n",
    "        self.name='class A'\n",
    "class B:\n",
    "    def __init__(self):\n",
    "        \n",
    "        self.bar='bar'\n",
    "        self.name='class B'\n",
    "class D:\n",
    "    def DD(self):\n",
    "        print('DD')\n",
    "\n",
    "class C(A,B):\n",
    "    def __init__(self):\n",
    "        super().__init__()\n",
    "\n",
    "    def showprops(self):\n",
    "        print(B().name)              # to get the name in class B\n",
    "        print(self.foo)\n",
    "        print(self.name)\n",
    "        print(self.bar)\n",
    "        print(self.foo)\n",
    "        \n",
    "\n",
    "\n",
    "c=C()\n",
    "c.showprops()\n"
   ]
  },
  {
   "cell_type": "code",
   "execution_count": 0,
   "metadata": {
    "application/vnd.databricks.v1+cell": {
     "cellMetadata": {},
     "inputWidgets": {},
     "nuid": "fc8fa40d-2009-493b-9ca7-d8f472817de7",
     "showTitle": false,
     "title": ""
    }
   },
   "outputs": [],
   "source": [
    "class A:\n",
    "    def __init__(self):\n",
    "        super().__init__()\n",
    "        self.foo = 'foo'\n",
    "        self.name ='class A'\n",
    "\n",
    "class B:\n",
    "    def __init__(self):\n",
    "        self.bar = 'bar'\n",
    "        self.nameb = 'class B'\n",
    "\n",
    "class D:\n",
    "    def DD(self):\n",
    "        print('DD')\n",
    "\n",
    "class C(A, B):\n",
    "    def __init__(self,namec):\n",
    "        super().__init__()\n",
    "        self.namec=namec\n",
    "        \n",
    "    def showprops(self):\n",
    "        print(self.namec)\n",
    "        print(self.nameb)  # prints the name from A class instance\n",
    "        print(self.bar)\n",
    "        print(self.name)\n",
    "        \n",
    "\n",
    "#a = A('rovan')\n",
    "c = C('rovan')\n",
    "c.showprops()\n"
   ]
  },
  {
   "cell_type": "code",
   "execution_count": 0,
   "metadata": {
    "application/vnd.databricks.v1+cell": {
     "cellMetadata": {},
     "inputWidgets": {},
     "nuid": "748c2457-ae88-4b3a-95ba-a59a39a4bb4a",
     "showTitle": false,
     "title": ""
    }
   },
   "outputs": [],
   "source": [
    "#jinesh\n",
    "#calling the parameter of two parent classes in a method for the child class\n",
    "class Parent1:\n",
    "    def __init__(self,param1):       \n",
    "        self.param1 = param1\n",
    "\n",
    "\n",
    "class Parent2:\n",
    "    def __init__(self,param2):\n",
    "        \n",
    "        self.param2=param2\n",
    "\n",
    "class Child(Parent1,Parent2):\n",
    "    def __init__(self, param1,param2,param3):\n",
    "        super().__init__(param1) \n",
    "        super(Parent1,self).__init__(param2)\n",
    "        self.param3=param3\n",
    "    \n",
    "    def showprops(self):\n",
    "        print(self.param1)\n",
    "        print(self.param2)\n",
    "        print(self.param3)\n",
    "\n",
    "\n",
    "c= Child(\"123\",\"5678\",\"236561\")\n",
    "\n",
    "c.showprops()"
   ]
  },
  {
   "cell_type": "code",
   "execution_count": 0,
   "metadata": {
    "application/vnd.databricks.v1+cell": {
     "cellMetadata": {},
     "inputWidgets": {},
     "nuid": "2a970c01-2228-498d-8c66-84c1d4e22a03",
     "showTitle": false,
     "title": ""
    }
   },
   "outputs": [],
   "source": [
    "#multiple inheritance\n",
    "class Guitar:\n",
    "    def __init__(self):\n",
    "        self.type = 'acoustic'\n",
    "        self.strings = 6\n",
    "    \n",
    "    def play(self):\n",
    "        print(\"Playing the guitar\")\n",
    "\n",
    "class Piano:\n",
    "    def __init__(self):\n",
    "        self.type = 'grand'\n",
    "        self.keys = 88\n",
    "    \n",
    "    def play(self):\n",
    "        print(\"Playing the piano\")\n",
    "\n",
    "class AcousticGuitar(Guitar):\n",
    "    def __init__(self):\n",
    "        super().__init__()\n",
    "        self.type = 'acoustic'\n",
    "        \n",
    "    def play(self):\n",
    "        print(\"Playing the acoustic guitar\")\n",
    "\n",
    "class ElectricGuitar(Guitar):\n",
    "    def __init__(self):\n",
    "        super().__init__()\n",
    "        self.type = 'electric'\n",
    "        \n",
    "    def play(self):\n",
    "        print(\"Playing the electric guitar\")\n",
    "\n",
    "class GrandPiano(Piano):\n",
    "    def __init__(self):\n",
    "        super().__init__()\n",
    "        self.type = 'grand'\n",
    "        \n",
    "    def play(self):\n",
    "        print(\"Playing the grand piano\")\n",
    "\n",
    "class GuitarPiano(AcousticGuitar, GrandPiano):\n",
    "    def __init__(self):\n",
    "        super().__init__()\n",
    "        self.type = 'hybrid'\n",
    "    \n",
    "    def play(self):\n",
    "        print(\"Playing the guitar and piano at the same time!\")\n",
    "\n",
    "a=ElectricGuitar()\n",
    "a.play()\n",
    "b=AcousticGuitar()\n",
    "b.play()\n",
    "c=GrandPiano()\n",
    "c.play()\n",
    "d=GuitarPiano()\n",
    "d.play()"
   ]
  },
  {
   "cell_type": "code",
   "execution_count": 0,
   "metadata": {
    "application/vnd.databricks.v1+cell": {
     "cellMetadata": {},
     "inputWidgets": {},
     "nuid": "805129ee-0b94-48a5-aeae-aa20e22630fd",
     "showTitle": false,
     "title": ""
    }
   },
   "outputs": [],
   "source": [
    "# in the previous example, we can use the abstract method for the play() in an 'instrument' class\n",
    "from abc import ABC,abstractmethod\n",
    "class instrument(ABC):\n",
    "    def __init__(self):\n",
    "        super().__init__()\n",
    "        self.type=self.__class__.__name__   # here it will return the type of the instrument customized by each class; guitar,piano,etc.\n",
    "\n",
    "    @abstractmethod\n",
    "\n",
    "    def play(self):\n",
    "        pass\n",
    "\n",
    "class guitar(instrument):\n",
    "    def __init__(self):\n",
    "        super().__init__()\n",
    "        #self.type='guitar'\n",
    "    def play(self):\n",
    "        print('playing the guitar')\n",
    "class piano(instrument):\n",
    "    def __init__(self):\n",
    "        super().__init__()\n",
    "    def play(self):\n",
    "        print('playing the piano')\n",
    "\n",
    "class GuitarPiano(instrument):\n",
    "    def __init__(self):\n",
    "        super().__init__()\n",
    "\n",
    "    def play(self):\n",
    "        print('playing the GuitarPiano')\n",
    "\n",
    "a=guitar()\n",
    "a.__dict__\n",
    "a.play()\n",
    "    "
   ]
  },
  {
   "cell_type": "code",
   "execution_count": 0,
   "metadata": {
    "application/vnd.databricks.v1+cell": {
     "cellMetadata": {},
     "inputWidgets": {},
     "nuid": "7fb81c9b-d9ca-4c3b-b782-f912c6df42cf",
     "showTitle": false,
     "title": ""
    }
   },
   "outputs": [],
   "source": [
    "# kornel's code about multiple inheritance\n",
    "# Method execution order and super() example.\n",
    "class MroPrint:\n",
    "    @classmethod\n",
    "    def showMro(cls):\n",
    "        return cls.__mro__\n",
    "    \n",
    "    @classmethod\n",
    "    def showClass(cls):\n",
    "        return cls.__name__\n",
    "\n",
    "class Parent1(MroPrint):\n",
    "    def __init__(self, param1):\n",
    "        print(\"this is mro:\", self.showMro(), \"| this is self class name:\", self.showClass())\n",
    "        super().__init__(\"200\") # this should go to parent2 == super(Parent1, self)\n",
    "        self.param1 = param1\n",
    "\n",
    "\n",
    "class Parent2(MroPrint):\n",
    "    def __init__(self, param2):\n",
    "        print(\"this is mro:\", self.showMro(), \"| this is self class name:\", self.showClass())\n",
    "        super().__init__() # here this statement calls MroPrint and is equivalent to super(Parent2, self)\n",
    "        self.param2 = param2\n",
    "\n",
    "\n",
    "class Child(Parent1, Parent2):\n",
    "    def __init__(self, param1, param2, param3):\n",
    "        print(\"this is mro:\", self.showMro(), \"| this is self class name:\", self.showClass())\n",
    "        super().__init__(param1) # this is equivalent to super(Child, self)\n",
    "        super(Parent1, self).__init__(param2)\n",
    "        self.param3 = param3\n",
    "\n",
    "    def showprops(self):\n",
    "        print(self.param1)\n",
    "        print(self.param2)\n",
    "        print(self.param3)\n",
    "\n",
    "# here the code calls Child(Par1(Par2[200])[10], Par2[20])[30]\n",
    "# so it calls Par2 twice, but call from Par1 with param2 = 200 foes first and gets overwritten by\n",
    "# second call from the Child with value 20\n",
    "c = Child(\"10\", \"20\", \"30\")\n",
    "c.showprops()\n",
    "\n",
    "# notice that self object always refers to the instance c:\n",
    "# so that its class name and mro are always Child and mro from the c object\n"
   ]
  },
  {
   "cell_type": "code",
   "execution_count": 0,
   "metadata": {
    "application/vnd.databricks.v1+cell": {
     "cellMetadata": {},
     "inputWidgets": {},
     "nuid": "dd326fc7-ff4c-45b7-9b2c-b8824eda962b",
     "showTitle": false,
     "title": ""
    }
   },
   "outputs": [],
   "source": []
  },
  {
   "cell_type": "code",
   "execution_count": 0,
   "metadata": {
    "application/vnd.databricks.v1+cell": {
     "cellMetadata": {},
     "inputWidgets": {},
     "nuid": "ae0f9755-7cd5-432f-83bf-8a858b15d508",
     "showTitle": false,
     "title": ""
    }
   },
   "outputs": [],
   "source": [
    "# using data classes\n",
    "from dataclasses import dataclass,field\n",
    "import random\n",
    "\n",
    "def pages_check(e):\n",
    "    #write code to connect data base or get input from cache,\n",
    "    #sql query to connect db/get the output and push it back to the default_factory\n",
    "    return e+int(random.randrange(0,5))\n",
    "\n",
    "#immutable class when you create a class and froze/lock it; no one will be able to edit it\n",
    "#@dataclass(frozen=True)\n",
    "@dataclass\n",
    "class book:\n",
    "    title:str = 'No title'\n",
    "    author:str ='No Author'\n",
    "    pages:int = field(default_factory=lambda:pages_check(5))  # field is used to set the default value of the attribute in any instance so if we didn't specify this attribute in the instance variable, it will automatically set the default value\n",
    "    #pages:int = field(default_factory=pages_check)   # to remove the () in pages_check but it will not be useful if we want to add a parameter in pages_check\n",
    "    price:float = field(default =10.0)\n",
    "    def __post_init__(self):\n",
    "        if self.price<=0:\n",
    "            raise ValueError('insert a price')\n",
    "\n",
    "\n",
    "b=book('fxvg')\n",
    "#print(dir(b))\n",
    "print(b.__dict__)\n",
    "b.title='ds'    # here if the data class is frozen; it will raise an error that you can't edit any attribute\n",
    "print(b)\n",
    "print(repr(b))    # repr is default here with the data class\n",
    "print(str(b))\n",
    "b2=b.title.replace('ds','sf')          # you can replace an attribute in an instance using another new instance\n",
    "print(b2)\n",
    "\n"
   ]
  },
  {
   "cell_type": "code",
   "execution_count": 0,
   "metadata": {
    "application/vnd.databricks.v1+cell": {
     "cellMetadata": {},
     "inputWidgets": {},
     "nuid": "b9a396df-12c5-46e4-bd34-2eebe844bc2e",
     "showTitle": false,
     "title": ""
    }
   },
   "outputs": [],
   "source": [
    "# 1 using post init for data cleaning ;cleaning the data in the instance variables to be valid for ex.\n",
    "from dataclasses import dataclass\n",
    "@dataclass\n",
    "class student:\n",
    "    \n",
    "        name: str\n",
    "        email:str\n",
    "        def __post_init__(self):\n",
    "            self.email=self.email.lower().strip()\n",
    "\n",
    "s=student(name='rovan',email='ROVAN.ELGENDI@gmail.com')\n",
    "print(s.email)"
   ]
  },
  {
   "cell_type": "code",
   "execution_count": 0,
   "metadata": {
    "application/vnd.databricks.v1+cell": {
     "cellMetadata": {},
     "inputWidgets": {},
     "nuid": "76c3f6a6-22cf-4262-a878-eabcf4737c99",
     "showTitle": false,
     "title": ""
    }
   },
   "outputs": [],
   "source": [
    "# 2 using post init method for computation\n",
    "from dataclasses import dataclass\n",
    "\n",
    "@dataclass\n",
    "class Rectangle:\n",
    "    length: float\n",
    "    width: float\n",
    "    area: float = 0.0\n",
    "\n",
    "    def __post_init__(self):\n",
    "        self.area = self.length * self.width\n",
    "\n",
    "# Creating an instance of Rectangle class\n",
    "#rect=Rectangle(5,3)  \n",
    "# or\n",
    "rect = Rectangle(length=5.0, width=3.0)\n",
    "print(rect.area) # Output: 15.0\n"
   ]
  },
  {
   "cell_type": "code",
   "execution_count": 0,
   "metadata": {
    "application/vnd.databricks.v1+cell": {
     "cellMetadata": {},
     "inputWidgets": {},
     "nuid": "d74c2613-a1dc-42fd-a62c-78439faf1318",
     "showTitle": false,
     "title": ""
    }
   },
   "outputs": [],
   "source": [
    "# 3 using the post init method for dependency; one attribute is dependent on another attribute.\n",
    "from dataclasses import dataclass\n",
    "\n",
    "@dataclass\n",
    "class Book:\n",
    "    title: str\n",
    "    author: str\n",
    "    price: float\n",
    "    discount: float = field(default=0.0)\n",
    "\n",
    "    def __post_init__(self):\n",
    "        if self.price <= 0:\n",
    "            raise ValueError(\"Price must be positive\")\n",
    "        self.discount = self.calculate_discount()\n",
    "\n",
    "    def calculate_discount(self):\n",
    "        if self.price >= 100:\n",
    "            return 0.2\n",
    "        elif self.price >= 50:\n",
    "            return 0.1\n",
    "        else:\n",
    "            return 0.0\n",
    "\n",
    "# Creating an instance of Book class\n",
    "book=Book('dfg','fde',55)\n",
    "#book = Book(title=\"The Great Gatsby\", author=\"F. Scott Fitzgerald\", price=120.0)\n",
    "print(book.discount) # Output: 0.2\n",
    "print(book.__dict__)\n"
   ]
  },
  {
   "cell_type": "code",
   "execution_count": 0,
   "metadata": {
    "application/vnd.databricks.v1+cell": {
     "cellMetadata": {},
     "inputWidgets": {},
     "nuid": "44f278ac-7826-4c76-8b56-531298acd081",
     "showTitle": false,
     "title": ""
    }
   },
   "outputs": [],
   "source": [
    "#s = \"hello\"\n",
    "#s[0]=\"I\"\n",
    "#string numbers and tuple are immutable \n",
    "\n",
    "\n",
    "# list is mutable \n",
    "l =[1,2,3]\n",
    "l[0]= 7\n",
    "print(l)\n",
    "\n",
    "#tuples is immutable as well ; means that it can;t be altered\n",
    "a=(1,2)\n",
    "a[0]=3"
   ]
  },
  {
   "cell_type": "code",
   "execution_count": 0,
   "metadata": {
    "application/vnd.databricks.v1+cell": {
     "cellMetadata": {},
     "inputWidgets": {},
     "nuid": "b16c1a2d-090f-438a-b4ce-5ff0f9868d1f",
     "showTitle": false,
     "title": ""
    }
   },
   "outputs": [],
   "source": [
    "# using abstract method \n",
    "# ABC means Abstract Base Classes that can be used as a base for custom classes that uses this abstract class \n",
    "from abc import ABC,abstractmethod\n",
    "class GraphicShape(ABC):\n",
    "    #def __init__(self):\n",
    "    #    super().__init__()\n",
    "    # a method with an empty body; if you dont know the logic, you declare this method abstract and the class which will inherit the abstract method would have to implement it.\n",
    "    @abstractmethod\n",
    "    def CalcArea(self):\n",
    "        pass\n",
    "class Circle(GraphicShape):\n",
    "    def __init__(self,radius):\n",
    "        super().__init__()\n",
    "        self.radius=radius\n",
    "\n",
    "    def CalcArea(self):\n",
    "        return 3.14*(self.radius**2)\n",
    "\n",
    "c=Circle(15)\n",
    "c.CalcArea()\n"
   ]
  },
  {
   "cell_type": "code",
   "execution_count": 0,
   "metadata": {
    "application/vnd.databricks.v1+cell": {
     "cellMetadata": {},
     "inputWidgets": {},
     "nuid": "f03ec166-b394-41a1-8fec-611177dd892d",
     "showTitle": false,
     "title": ""
    }
   },
   "outputs": [],
   "source": [
    "import inspect\n",
    "import abc\n",
    "\n",
    "# Get all the classes defined in the abc module\n",
    "abc_classes = inspect.getmembers(abc, inspect.isclass)\n",
    "\n",
    "# Filter the classes to only show the ABCs\n",
    "abc_base_classes = [cls for cls in abc_classes if abc.ABC in cls[1].__bases__]\n",
    "\n",
    "# Print the names of the ABCs\n",
    "for cls in abc_base_classes:\n",
    "    print(cls[0])\n"
   ]
  },
  {
   "cell_type": "code",
   "execution_count": 0,
   "metadata": {
    "application/vnd.databricks.v1+cell": {
     "cellMetadata": {},
     "inputWidgets": {},
     "nuid": "1c02a52b-8a49-4731-8fba-83639dc0f065",
     "showTitle": false,
     "title": ""
    }
   },
   "outputs": [],
   "source": [
    "#methods overriding with the same instance\n",
    "# methods overriding is used when you want to change the behaviour of the method for each class\n",
    "# if you don't want to and the behaviour is the same anyway; it is better to user super() method\n",
    "class Animal:\n",
    "    def speak(self):\n",
    "        print(\"speaking\")\n",
    "class Dog(Animal):\n",
    "    def speak(self):\n",
    "        print(\"barking\")\n",
    "a=Animal()\n",
    "a.speak()\n",
    "d =Dog()\n",
    "d.speak()   # here it will print the speak method of Dog class; as it is the last command written"
   ]
  },
  {
   "cell_type": "code",
   "execution_count": 0,
   "metadata": {
    "application/vnd.databricks.v1+cell": {
     "cellMetadata": {},
     "inputWidgets": {},
     "nuid": "0c78e306-983c-4de3-8914-6d8695fa7486",
     "showTitle": false,
     "title": ""
    }
   },
   "outputs": [],
   "source": [
    "# to avoid the methods overriding; super() method is used inside the method\n",
    "class Animal:\n",
    "    def speak(self):\n",
    "        print(\"speaking\")\n",
    "class Dog(Animal):\n",
    "    def speak(self):\n",
    "        super().speak()\n",
    "        print(\"barking\")\n",
    "\n",
    "d =Dog()\n",
    "d.speak()   # here it will"
   ]
  },
  {
   "cell_type": "code",
   "execution_count": 0,
   "metadata": {
    "application/vnd.databricks.v1+cell": {
     "cellMetadata": {},
     "inputWidgets": {},
     "nuid": "9e08467a-45ee-486a-bd8e-08e97989bf3e",
     "showTitle": false,
     "title": ""
    }
   },
   "outputs": [],
   "source": [
    "# to avoid the overriding methods\n",
    "class rectangle:\n",
    "    def __init__(self,x,y):\n",
    "        self.x=x\n",
    "        self.y=y\n",
    "    def area(self):\n",
    "        print (self.x*self.y)\n",
    "\n",
    "class square(rectangle):\n",
    "    def area(self):\n",
    "        super().area()\n",
    "        print('the area of the square')\n",
    "\n",
    "a=rectangle(5,3)\n",
    "a.area()\n",
    "b=square(6,4)\n",
    "\n",
    "b.area()"
   ]
  },
  {
   "cell_type": "code",
   "execution_count": 0,
   "metadata": {
    "application/vnd.databricks.v1+cell": {
     "cellMetadata": {},
     "inputWidgets": {},
     "nuid": "0957b7b2-fba8-4fc8-800d-d93b5e864be1",
     "showTitle": false,
     "title": ""
    }
   },
   "outputs": [],
   "source": [
    "#methods overriding but with difference instances\n",
    "# methods overriding is used when you want to change the behaviour of the method for each class\n",
    "# if you don't want to and the behaviour is the same anyway; it is better to user super() method\n",
    "class Bank:\n",
    "    def getRateOfInterest(self):\n",
    "        return 5\n",
    "class Barclays(Bank):\n",
    "    def getRateOfInterest(self):\n",
    "        return 7\n",
    "    \n",
    "class DB(Bank):\n",
    "    def getRateOfInterest(self):\n",
    "        return 8\n",
    "    \n",
    "class HSBC(Bank):\n",
    "    def getRateOfInterest(self):\n",
    "        return 6\n",
    "\n",
    "b1=Barclays()    \n",
    "b2=DB()   \n",
    "b3=HSBC()    \n",
    "print(b1.getRateOfInterest())    # 7\n",
    "\n",
    "print(b2.getRateOfInterest())       #8\n",
    "\n",
    "print(b3.getRateOfInterest())      # 6\n",
    "\n"
   ]
  },
  {
   "cell_type": "code",
   "execution_count": 0,
   "metadata": {
    "application/vnd.databricks.v1+cell": {
     "cellMetadata": {},
     "inputWidgets": {},
     "nuid": "305b9e4f-7589-4265-8528-fb8104b240f8",
     "showTitle": false,
     "title": ""
    }
   },
   "outputs": [],
   "source": [
    "# 08.03.2023\n",
    "#Composition\n",
    "\n",
    "class Author:\n",
    "    def __init__(self,fname,lname):\n",
    "        self.fname=fname\n",
    "        self.lname=lname\n",
    "    def __str__(self):\n",
    "        print(self.fname,self.lname)\n",
    "    \n",
    "class Book:\n",
    "    def __init__(self,title,price,author=None):\n",
    "        self.title=title\n",
    "        self.price=price\n",
    "        self.author=author\n",
    "\n",
    "        self.chapters=[]\n",
    "    def addChapters(self,name,pages):\n",
    "        self.chapters.append((name,pages))\n",
    "\n",
    "a1= Author('leo','egxd')\n",
    "b1=Book('fsgs',39,a1)\n",
    "b2=Book('rds',55,a1)\n",
    "b1.addChapters('chapter 1',124)\n",
    "b1.addChapters('chapter 2',44)\n",
    "\n",
    "b1.__dict__"
   ]
  },
  {
   "cell_type": "code",
   "execution_count": 0,
   "metadata": {
    "application/vnd.databricks.v1+cell": {
     "cellMetadata": {},
     "inputWidgets": {},
     "nuid": "efb09068-832c-482c-8fd1-4f9c95021ff9",
     "showTitle": false,
     "title": ""
    }
   },
   "outputs": [],
   "source": [
    "#Magical methods also known as dunder methods; starts and ends with double underscore __\n",
    "# ex: __init__ , __str__ ,__getattribute__,__setattr__ and __getattr__\n",
    "#__getattribute__,__setattr__ : customizes the behaviour of the attributes access in the class\n",
    "class Book:\n",
    "    def __init__(self,title,author,pages,price):\n",
    "        self.title=title\n",
    "        self.author=author\n",
    "        self.price=price\n",
    "        self.pages=pages\n",
    "        self.discount =0.1\n",
    "\n",
    "    def __str__(self):\n",
    "        return f\"{self.title} by {self.author}, costs {self.price}\"\n",
    "\n",
    "    def __getattribute__(self,name: str) : # this method is called when there is an attempt to access an attribute whether it is existed or not.you can add any actions/operations or even raise a value error before setting this attribute\n",
    "        if (name == \"price\"):\n",
    "            p =super().__getattribute__(\"price\")\n",
    "            d=super().__getattribute__(\"discount\")\n",
    "            return p -(p * d)\n",
    "        return super().__getattribute__(name)\n",
    "    \n",
    "    def __setattr__(self,name: str, value: str):  # this method is used/get called automatically when there is an attempt of setting an attribute in the class\n",
    "        if name =='price':\n",
    "            if type(value) is not float:\n",
    "                raise ValueError(\"The 'price' attribute must be float\")\n",
    "        return super().__setattr__(name,value)\n",
    "    \n",
    "\n",
    "    def __getattr__(self,name):                 # this method is used/get called automatically when there is an attempt to get an attribute that doesn't exist in the class\n",
    "        return name +\" is not a variable in book class!!!\"\n",
    "    \n",
    "    def __call__(self,title,author,pages,price):  # here using the call method to update a data in a variable without having to go to each attribute and update it\n",
    "        self.title=title\n",
    "        self.title=title\n",
    "        self.author=author\n",
    "        self.price=price\n",
    "        self.pages=pages\n",
    "    \n",
    "    \n",
    "        \n",
    "\n",
    "b1 = Book(\"ware and peace\",\"leo tolsty\",32332,39.65)\n",
    "b2 = Book(\"the catcher in rye\",\"JD\",322,29.65)\n",
    "\n",
    "b1.price = 38.65\n",
    "print(b1)\n",
    "\n",
    "b2.price=float(40)\n",
    "print(b2)\n",
    "\n",
    "print(b1.randomprop)\n",
    "b1.__call__('tgrd','ghf',150,55.9)\n",
    "print(b1)\n",
    "b1('efdx','tyyy',456,40.30)\n",
    "print(b1)\n",
    "print(b1 == b2)\n",
    "\n",
    "books=[b1,b2]\n",
    "books.sort()        # it will give error as it is not supported so we define the __gt__ and __lt__ methods\n",
    "listing=list()\n",
    "for book in books:\n",
    "    listing.append(book.title)\n",
    "print(listing)\n",
    "\n",
    "\n",
    "\n",
    "\n",
    "#print( b2 >=b1)   # it will give error as it is not supported so we define the __gt__ and __lt__ methods\n",
    "#print(b2 < b1)\n"
   ]
  },
  {
   "cell_type": "code",
   "execution_count": 0,
   "metadata": {
    "application/vnd.databricks.v1+cell": {
     "cellMetadata": {},
     "inputWidgets": {},
     "nuid": "e8e1d21b-3ed3-42ce-aecf-b2f375b7e857",
     "showTitle": false,
     "title": ""
    }
   },
   "outputs": [],
   "source": [
    "# difference between __Call__ method and __post_init__ method\n",
    "class MyClass:\n",
    "    def __init__(self, x, y):\n",
    "        self.x = x\n",
    "        self.y = y\n",
    "    \n",
    "    def __call__(self, z):\n",
    "        return self.x + self.y + z\n",
    "    \n",
    "    def __post_init__(self):\n",
    "        if self.x < 0 or self.y < 0:\n",
    "            raise ValueError(\"x and y must be non-negative.\")\n"
   ]
  },
  {
   "cell_type": "code",
   "execution_count": 0,
   "metadata": {
    "application/vnd.databricks.v1+cell": {
     "cellMetadata": {},
     "inputWidgets": {},
     "nuid": "aa64efa7-77d4-4aa0-aae1-edf4cfb3a1c3",
     "showTitle": false,
     "title": ""
    }
   },
   "outputs": [],
   "source": [
    "# to sort objects\n",
    "class Book:\n",
    "    def __init__(self,title,author,pages,price):\n",
    "        self.title=title\n",
    "        self.author=author\n",
    "        self.price=price\n",
    "        self.pages=pages\n",
    "\n",
    "    def __str__(self):\n",
    "        return f\"{self.title} by {self.author}, costs {self.price}\"\n",
    "    # its greatr than function\n",
    "    #def __ge__(self,value):\n",
    "        if not isinstance(value,Book):\n",
    "            raise ValueError(\"Can't compare book with a non book\")\n",
    "        \n",
    "        return self.price >= value.price\n",
    "    # its lower than function\n",
    "    def __lt__(self,value):\n",
    "        if not isinstance(value,Book):\n",
    "            raise ValueError(\"Can't compare book with a non book\") \n",
    "        \n",
    "        return self.price < value.price\n",
    "    #def __le__(self,value):\n",
    "        if not isinstance(value,Book):\n",
    "            raise ValueError('this object is not in Book class')\n",
    "        return self.price <= value.price\n",
    "    \n",
    "b1 = Book(\"ware and peace\",\"leo tolsty\",32332,39.65)\n",
    "b2 = Book(\"the catcher in rye\",\"JD\",322,29.65)\n",
    "b3 = Book(\"ware and the peace\",\"JD\",322,10.55)\n",
    "b4 = Book(\"to kill\",\"JD\",322,10.55)\n",
    "\n",
    "print(b1 == b3)\n",
    "print(b1 == b2)\n",
    "print(b4 == b1)\n",
    "\n",
    "#here first parameter becomes self and and second parameter becomess value in gt and lt functio n\n",
    "#print( b2 >=b1)\n",
    "#print(b2 < b1)\n",
    "#print(b3 >=b2)\n",
    "\n",
    "books=[b1,b4,b3,b2]\n",
    "books.sort()\n",
    "# or\n",
    "#books.sort(reverse=True)    # to sort in descending order \n",
    "listing=list()\n",
    "for book in books:\n",
    "    listing.append(book.__dict__)\n",
    "print(listing)\n",
    "# or\n",
    "#print([book.__dict__ for book in books ])\n",
    "print([book.title for book in books ])\n",
    "\n",
    "# using  __lt__ only is enough to do the object sorting\n"
   ]
  },
  {
   "cell_type": "code",
   "execution_count": 0,
   "metadata": {
    "application/vnd.databricks.v1+cell": {
     "cellMetadata": {},
     "inputWidgets": {},
     "nuid": "531e5c22-d173-49ac-9b5d-dd816edc6997",
     "showTitle": false,
     "title": ""
    }
   },
   "outputs": [],
   "source": [
    "# using ABC to convert some data to JSON\n",
    "# using abstract method \n",
    "# ABC means Abstract Base Classes that can be used as a base for custom classes that uses this abstract class \n",
    "from abc import ABC,abstractmethod\n",
    "class GraphicShape(ABC):\n",
    "    #def __init__(self):\n",
    "    #    super().__init__()\n",
    "    # a method with an empty body; if you dont know the logic, you declare this method abstract and the class which will inherit the abstract method would have to implement it.\n",
    "    @abstractmethod\n",
    "    def CalcArea(self):\n",
    "        pass\n",
    "class JSONify(ABC):\n",
    "    @abstractmethod\n",
    "    def toJSON(self):\n",
    "        pass\n",
    "class HTML(ABC):\n",
    "    @abstractmethod\n",
    "    def toHTML(self):\n",
    "        pass\n",
    "class Circle(GraphicShape,JSONify,HTML):\n",
    "    def __init__(self,radius):\n",
    "        super().__init__()\n",
    "        self.radius=radius\n",
    "\n",
    "    def CalcArea(self):\n",
    "        return 3.14*(self.radius**2)\n",
    "    def toJSON(self):\n",
    "        return f'{{\\n\\\"Circle\\\":\\n {{\\n  \"radius\\\":{self.radius},\\n  \"area\\\":{self.CalcArea()}\\n }}\\n}}'\n",
    "    def toHTML(self):\n",
    "        return f'<Circle>{self.CalcArea()}</Circle>'\n",
    "class square(Circle,JSONify):\n",
    "    def __init__(self, radius):\n",
    "        super().__init__(radius)\n",
    "        self.side=radius\n",
    "    def CalcArea(self):\n",
    "        return self.side**2\n",
    "    def toJSON(self):\n",
    "       print(f'{{\\n\\\"square\\\":\\n {{\\n  \"each_side\\\":{self.side},\\n  \"area\\\":{self.CalcArea()}\\n }}\\n}}')\n",
    "    \n",
    "    \n",
    "\n",
    "    \n",
    "\n",
    "c=Circle(15)\n",
    "c.CalcArea()\n",
    "print(c.toJSON())\n",
    "c.toHTML()\n",
    "s=square(4)\n",
    "s.CalcArea()\n",
    "s.toJSON()\n"
   ]
  },
  {
   "cell_type": "code",
   "execution_count": 0,
   "metadata": {
    "application/vnd.databricks.v1+cell": {
     "cellMetadata": {},
     "inputWidgets": {},
     "nuid": "3d1f6f40-bd6f-4c8f-98a3-5a2ff1f93021",
     "showTitle": false,
     "title": ""
    }
   },
   "outputs": [],
   "source": [
    "# to DEbug\n",
    "#data encapsulation is the process of restricting direct access to an object's data or attributes from outside the class.\n",
    "# This is achieved by making the data private or protected and providing public methods to access and modify the data.\n",
    "#Python implements data encapsulation by using naming conventions for variables and methods.\n",
    "# By convention, variables and methods that are intended to be private or protected are prefixed with underscores.\n",
    "# Example 2: Data Encapsulation in Python\n",
    "\n",
    "class Employee:\n",
    "    def __init__(self, name, salary):\n",
    "        self.name = name\n",
    "        self.__salary = salary\n",
    "\n",
    "    def show(self):\n",
    "        print(\"Name is \", self.name, \"and salary is\", self.__salary)\n",
    "\n",
    "# Outside class\n",
    "E = Employee(\"Bella\", 60000)\n",
    "#E.PrintName()\n",
    "print(E.name)\n",
    "print(E.__dict__)\n",
    "#print(E.PrintName())\n",
    "#print(E.__salary)  # AttributeError: 'Employee' object has no attribute '__salary'\n",
    "print(E._Employee__salary)  # here it will access the 'salary' attribute\n",
    "\n",
    "class Computer:\n",
    "\n",
    "    def __init__(self):\n",
    "        self.__maxprice = 900\n",
    "\n",
    "    def sell(self):\n",
    "        print(\"Selling Price: {}\".format(self.__maxprice))   # it is like f string\n",
    "\n",
    "    def setMaxPrice(self, price):\n",
    "        self.__maxprice = price\n",
    "\n",
    "c = Computer()\n",
    "c.sell()\n",
    "\n",
    "# change the price\n",
    "c.__maxprice = 1000\n",
    "c.sell()\n",
    "\n",
    "# using setter function  which is one of the data encapsulation uses ' Getter & Setter '\n",
    "c.setMaxPrice(1000)\n",
    "c.sell()"
   ]
  },
  {
   "cell_type": "code",
   "execution_count": 0,
   "metadata": {
    "application/vnd.databricks.v1+cell": {
     "cellMetadata": {},
     "inputWidgets": {},
     "nuid": "073c7f9e-729e-486b-9f07-d53d4b29078a",
     "showTitle": false,
     "title": ""
    }
   },
   "outputs": [],
   "source": [
    "# to Debug\n",
    "#polymorphism, which is one of the fundamental concepts in object-oriented programming (OOP).\n",
    "#Polymorphism allows different objects to be treated in a common way, even if they have different implementations for the same methods.\n",
    "# In this case, the Parrot and Penguin classes have different implementations for the fly method, but they both have a fly method and can be treated in a common way.\n",
    "class Parrot:\n",
    "    def fly(self):\n",
    "        print(\"Parrot can fly\")\n",
    "    \n",
    "    def swim(self):\n",
    "        print(\"Parrot can't swim\")\n",
    "\n",
    "class Penguin:\n",
    "    def fly(self):        # overriding method\n",
    "        print(\"Penguin can't fly\")\n",
    "    \n",
    "    def swim(self):\n",
    "        print(\"Penguin can swim\")\n",
    "\n",
    "# common interface\n",
    "def flying_test(bird):  # polymorphism which acts on the objects that have the same method (have the overriding methods)\n",
    "    bird.fly()\n",
    "\n",
    "#instantiate objects\n",
    "blu = Parrot()\n",
    "peggy = Penguin()\n",
    "\n",
    "# passing the object\n",
    "flying_test(blu)\n",
    "flying_test(peggy)"
   ]
  },
  {
   "cell_type": "code",
   "execution_count": 0,
   "metadata": {
    "application/vnd.databricks.v1+cell": {
     "cellMetadata": {},
     "inputWidgets": {},
     "nuid": "ecbfc7d4-48db-4fd3-bf75-97854269e2af",
     "showTitle": false,
     "title": ""
    }
   },
   "outputs": [],
   "source": [
    "# to Debug\n",
    "# overriding parent method\n",
    "class Person:\n",
    "      def __init__(self, firstname='Jinesh', lastname='Ranawat', age=96, country='England', city='London'):\n",
    "            self.firstname = firstname\n",
    "            self.lastname = lastname\n",
    "            self.age = age\n",
    "            self.country = country\n",
    "            self.city = city\n",
    "            self.skills = []\n",
    "\n",
    "      def person_info(self):\n",
    "        return f'{self.firstname} {self.lastname} is {self.age} years old. He lives in {self.city}, {self.country}.'\n",
    "      def add_skill(self, skill):\n",
    "            self.skills.append(skill)\n",
    "\n",
    "p1 = Person()\n",
    "print(p1.person_info())\n",
    "p1.add_skill('Python')\n",
    "p1.add_skill('MATLAB')\n",
    "p1.add_skill('R')\n",
    "p2 = Person('Ben', 'Doe', 30, 'Finland', 'Tampere')\n",
    "print(p2.person_info())\n",
    "print(p1.skills)\n",
    "print(p2.skills)\n",
    "p3=Person()            \n",
    "print(p3.person_info())   # here it shows the default values set in the __init__"
   ]
  },
  {
   "cell_type": "code",
   "execution_count": 0,
   "metadata": {
    "application/vnd.databricks.v1+cell": {
     "cellMetadata": {},
     "inputWidgets": {},
     "nuid": "d613f832-7f4b-49ca-84c2-766573fa63dc",
     "showTitle": false,
     "title": ""
    }
   },
   "outputs": [],
   "source": [
    "# 09.03.2023\n",
    "# decorators\n",
    "# using the 'if' check for the main function\n",
    "\n",
    "# Decorator\n",
    "\n",
    "# i am passing a parameter which can be a variable or function but these time its a function\n",
    "\n",
    "# what is the use :- \n",
    "# deposit money or withdraw money you can have a function call audit\n",
    "# \n",
    "def my_decorator(my_function):\n",
    "    def inner_decorator():\n",
    "        print(\"this happend before\")     # you add the balance\n",
    "        my_function()    # when you call my function the my_decorated function get executed   # here you do the audit function call\n",
    "        print(\"this happened after\")   # ensure database is updated\n",
    "        print(\"This happend at end!!!!\")  # drop a message on console\n",
    "    return inner_decorator\n",
    "\n",
    "@my_decorator\n",
    "def my_decorated():\n",
    "    print(\"welcome to first lecture of class\")\n",
    "\n",
    "# whenever you write a python file first function which get invoked is main function\n",
    "if __name__ == \"__main__\":    # these code check name of the function is it main\n",
    "    my_decorated()"
   ]
  },
  {
   "cell_type": "code",
   "execution_count": 0,
   "metadata": {
    "application/vnd.databricks.v1+cell": {
     "cellMetadata": {},
     "inputWidgets": {},
     "nuid": "048cd4c4-d0d3-46fd-bf44-29756aaf31bc",
     "showTitle": false,
     "title": ""
    }
   },
   "outputs": [],
   "source": [
    "# decorator is a special type of function that is used to modify or extend the behavior of other functions or classes.\n",
    "# Decorators are themselves functions that take another function as an argument \n",
    "# and return a new function that wraps the original function with some additional functionality.\n",
    "import datetime\n",
    "def my_decorator(my_function): # to make an extension of a function\n",
    "    def inner_decorator(*args):\n",
    "        print(\"this happend before\")     # you add the balance\n",
    "        my_function(*args)    # when you call my function the my_decorated function get executed   # here you do the audit function call\n",
    "        print(datetime.datetime.utcnow())  # during the process time\n",
    "        print(\"this happened after\")   # ensure database is updated\n",
    "        print(\"This happend at end!!!!\")  # drop a message on console\n",
    "    return inner_decorator\n",
    "\n",
    "@my_decorator\n",
    "def my_decorated():\n",
    "    print(\"welcome to first lecture of class\",datetime.datetime.utcnow())\n",
    "@my_decorator\n",
    "def add (a,b):\n",
    "    print (a+b)\n",
    "    \n",
    "# whenever you write a python file first function which get invoked is main function\n",
    "if __name__ == \"__main__\":    # these code check name of the function is it main\n",
    "    print(datetime.datetime.utcnow())   # the start time\n",
    "    add(3,4)\n",
    "    print(datetime.datetime.utcnow())   # the end time\n",
    "    my_decorated()\n",
    "    "
   ]
  },
  {
   "cell_type": "code",
   "execution_count": 0,
   "metadata": {
    "application/vnd.databricks.v1+cell": {
     "cellMetadata": {},
     "inputWidgets": {},
     "nuid": "809e52f4-7c50-4021-b8f1-7ff74766e2ba",
     "showTitle": false,
     "title": ""
    }
   },
   "outputs": [],
   "source": [
    "# try-except-finally \n",
    "try :\n",
    "    print('try is done here')\n",
    "except:\n",
    "    print('the try part failed')\n",
    "finally:\n",
    "    print('we are here finally!!')"
   ]
  },
  {
   "cell_type": "code",
   "execution_count": 0,
   "metadata": {
    "application/vnd.databricks.v1+cell": {
     "cellMetadata": {},
     "inputWidgets": {},
     "nuid": "8d66a5f0-1cd5-4581-941f-b9fa9a1bbd47",
     "showTitle": false,
     "title": ""
    }
   },
   "outputs": [],
   "source": [
    "# try-except-finally \n",
    "try :\n",
    "    print(ser)\n",
    "    print('try is done here')\n",
    "except Exception as ex:   # here we define the error\n",
    "    print(ex)\n",
    "finally:\n",
    "    print('we are here finally!!')"
   ]
  },
  {
   "cell_type": "code",
   "execution_count": 0,
   "metadata": {
    "application/vnd.databricks.v1+cell": {
     "cellMetadata": {},
     "inputWidgets": {},
     "nuid": "f131432e-36e8-40ba-947f-5368cbdd85c9",
     "showTitle": false,
     "title": ""
    }
   },
   "outputs": [],
   "source": [
    "# decorator is a special type of function that is used to modify or extend the behavior of other functions or classes.\n",
    "# Decorators are themselves functions that take another function as an argument \n",
    "# and return a new function that wraps the original function with some additional functionality.\n",
    "import datetime\n",
    "def my_decorator(my_function): # to make an extension of a function\n",
    "    def inner_decorator(*args):\n",
    "        print(\"this happend before\")     # you add the balance\n",
    "        try:\n",
    "            my_function(*args)    # when you call my function the my_decorated function get executed   # here you do the audit function call\n",
    "            return my_function\n",
    "        except ZeroDivisionError as error: # if you are sure that the errors you may get here is a zeroDivision error\n",
    "            print('zero error',error)\n",
    "        except Exception as ex:\n",
    "            print('from exception',ex)\n",
    "        \n",
    "        print(datetime.datetime.utcnow())  # during the process time\n",
    "        print(\"this happened after\")   # ensure database is updated\n",
    "        print(\"This happend at end!!!!\")  # drop a message on console\n",
    "    return inner_decorator\n",
    "\n",
    "@my_decorator\n",
    "def my_decorated():\n",
    "    print(\"welcome to first lecture of class\",datetime.datetime.utcnow())\n",
    "@my_decorator\n",
    "def add (a,b):\n",
    "    print (a+b)\n",
    "@my_decorator\n",
    "def divide(a,b):\n",
    "    print(a/b)\n",
    "    \n",
    "# whenever you write a python file first function which get invoked is main function\n",
    "if __name__ == \"__main__\":    # these code check name of the function is it main\n",
    "    print(datetime.datetime.utcnow())   # the start time\n",
    "#    add(3,4)\n",
    "    print(datetime.datetime.utcnow())   # the end time\n",
    " #   my_decorated()\n",
    "    divide(5,0)"
   ]
  },
  {
   "cell_type": "code",
   "execution_count": 0,
   "metadata": {
    "application/vnd.databricks.v1+cell": {
     "cellMetadata": {},
     "inputWidgets": {},
     "nuid": "5a350f18-8a86-4209-b70d-14cdbb2a5ccf",
     "showTitle": false,
     "title": ""
    }
   },
   "outputs": [],
   "source": [
    "# Jinesh\n",
    "# Error types\n",
    "try :  \n",
    "    print(1/0)   # failuere codnition code can be written here\n",
    "    raise RuntimeError(\"you are wrong\")\n",
    "except ZeroDivisionError as error:   # only when you get an error\n",
    "    print(\"an error occured\",error)\n",
    "except Exception as ex:   # only when you get an error\n",
    "    print(\"from exception\",ex)\n",
    "finally:  # these is always getting executed\n",
    "    print(\"hi how are ayoposadjklasndksanknd\")\n",
    "    print(\"I am good\")"
   ]
  },
  {
   "cell_type": "code",
   "execution_count": 0,
   "metadata": {
    "application/vnd.databricks.v1+cell": {
     "cellMetadata": {},
     "inputWidgets": {},
     "nuid": "a2303453-0618-42bc-8a52-e14aeb6688c2",
     "showTitle": false,
     "title": ""
    }
   },
   "outputs": [],
   "source": [
    "try:\n",
    "    result = divide(10, 0)\n",
    "except RuntimeError as e:\n",
    "    print(\"An error occurred:\", e)\n"
   ]
  },
  {
   "cell_type": "code",
   "execution_count": 0,
   "metadata": {
    "application/vnd.databricks.v1+cell": {
     "cellMetadata": {},
     "inputWidgets": {},
     "nuid": "54c424fd-8137-44ba-923e-39e51b98943c",
     "showTitle": false,
     "title": ""
    }
   },
   "outputs": [],
   "source": [
    "# decorator is a special type of function that is used to modify or extend the behavior of other functions or classes.\n",
    "# Decorators are themselves functions that take another function as an argument \n",
    "# and return a new function that wraps the original function with some additional functionality.\n",
    "def operations(my_function): \n",
    "    def inner_decorator(*args):\n",
    "    #    print(\"this happend before\") \n",
    "        my_function(*args)    \n",
    "    return inner_decorator\n",
    "\n",
    "\n",
    "@my_decorator\n",
    "def add (a,b):\n",
    "    print (a+b)\n",
    "@my_decorator\n",
    "def subtr(a,b):\n",
    "    print(a-b)\n",
    "    \n",
    "if __name__ == \"__main__\": \n",
    "    add(3,4)\n",
    "    subtr(4,2)"
   ]
  },
  {
   "cell_type": "code",
   "execution_count": 0,
   "metadata": {
    "application/vnd.databricks.v1+cell": {
     "cellMetadata": {},
     "inputWidgets": {},
     "nuid": "7f7ccb3a-6e0e-4fca-97f9-e925e396c151",
     "showTitle": false,
     "title": ""
    }
   },
   "outputs": [],
   "source": [
    "def operations(my_function): \n",
    "    def inner_decorator(*args):\n",
    "    #    print(\"this happend before\") \n",
    "        my_function(*args)    \n",
    "    return inner_decorator\n",
    "\n",
    "\n",
    "@operations\n",
    "def add (a,b):\n",
    "    print (a+b)\n",
    "@operations\n",
    "def subtr(a,b):\n",
    "    print(a-b)\n",
    "    \n",
    "if __name__ == \"__main__\": \n",
    "    add(3,4)\n",
    "    subtr(4,2)"
   ]
  },
  {
   "cell_type": "code",
   "execution_count": 0,
   "metadata": {
    "application/vnd.databricks.v1+cell": {
     "cellMetadata": {},
     "inputWidgets": {},
     "nuid": "0017d071-c100-41d6-8a31-809f2116077d",
     "showTitle": false,
     "title": ""
    }
   },
   "outputs": [],
   "source": [
    "#doing summing/subtracting operations\n",
    "def operations(my_function): \n",
    "    def inner_decorator(*args,**kwrgs):\n",
    "    #    print(\"this happend before\") \n",
    "        try:\n",
    "            my_function(*args,**kwrgs)\n",
    "        except Exception as ex:\n",
    "            print('stop!!',ex)    \n",
    "    return inner_decorator\n",
    "\n",
    "\n",
    "@operations\n",
    "def add (*args:int)->int:\n",
    "    print (sum(args))\n",
    "@operations\n",
    "def subtr(*args:float)->float:\n",
    "   sub=args[0]\n",
    "   for i in range(1,len(args)):sub=sub-args[i]\n",
    "   print(sub)\n",
    "    \n",
    "if __name__ == \"__main__\": \n",
    "    add(3,'g')\n",
    "    add(5,76)\n",
    "    subtr(4,2.1)"
   ]
  },
  {
   "cell_type": "code",
   "execution_count": 0,
   "metadata": {
    "application/vnd.databricks.v1+cell": {
     "cellMetadata": {},
     "inputWidgets": {},
     "nuid": "01d55e3a-872f-40bd-964d-e3abcbdfe28f",
     "showTitle": false,
     "title": ""
    }
   },
   "outputs": [],
   "source": [
    "# using **kwrgs\n",
    "def operations(my_function): \n",
    "    def inner_decorator(*args,**kwrgs):\n",
    "    #    print(\"this happend before\") \n",
    "        try:\n",
    "            my_function(*args,**kwrgs)\n",
    "        except ZeroDivisionError as error:\n",
    "            print('zero error',error)\n",
    "        except Exception as ex:\n",
    "            print('stop!!',ex)    \n",
    "    return inner_decorator\n",
    "\n",
    "\n",
    "@operations\n",
    "def add (*args:int,**kwrgs)->int:\n",
    "    x=sum(args)\n",
    "    for key,value in kwrgs.items(): x=x+value\n",
    "    print(x)\n",
    "@operations\n",
    "def subtr(*args:float)->float:\n",
    "   sub=args[0]\n",
    "   for i in range(1,len(args)):sub=sub-args[i]\n",
    "   print(sub)\n",
    "    \n",
    "if __name__ == \"__main__\": \n",
    "    add(3,7,item=30)\n",
    "    add(item1=4,item2=6)\n",
    "    add(3,7,item='f')\n",
    "    subtr(4,2.1)"
   ]
  },
  {
   "cell_type": "code",
   "execution_count": 0,
   "metadata": {
    "application/vnd.databricks.v1+cell": {
     "cellMetadata": {},
     "inputWidgets": {},
     "nuid": "26d906da-eba2-4858-ba55-ea34b95d7a0d",
     "showTitle": false,
     "title": ""
    }
   },
   "outputs": [],
   "source": [
    "# using **kwrgs\n",
    "def operations(my_function): \n",
    "    def inner_decorator(*args,**kwrgs):\n",
    "    #    print(\"this happend before\") \n",
    "        try:\n",
    "            if my_function is add():\n",
    "                my_function(*args,**kwrgs)\n",
    "           \n",
    "\n",
    "        except Exception as ex:\n",
    "            print('stop!!',ex)    \n",
    "    return inner_decorator\n",
    "\n",
    "\n",
    "@operations\n",
    "def add (*args:int,**kwrgs)->int:\n",
    "    x=sum(args)\n",
    "    for key,value in kwrgs.items(): x=x+value\n",
    "    print(x)\n",
    "@operations\n",
    "def subtr(*args:float)->float:\n",
    "   sub=args[0]\n",
    "   for i in range(1,len(args)):sub=sub-args[i]\n",
    "   print(sub)\n",
    "    \n",
    "if __name__ == \"__main__\": \n",
    "    add(3,7,item=30)\n",
    "    add(item1=4,item2=6)\n",
    "    add(3,7,item='f')\n",
    "    subtr(4,2.1)"
   ]
  },
  {
   "cell_type": "code",
   "execution_count": 0,
   "metadata": {
    "application/vnd.databricks.v1+cell": {
     "cellMetadata": {},
     "inputWidgets": {},
     "nuid": "94a16b64-3939-4790-a78b-a1ec6acc8514",
     "showTitle": false,
     "title": ""
    }
   },
   "outputs": [],
   "source": [
    "class Point:\n",
    "    def __init__(self, x=0, y=0):\n",
    "        self.x = x\n",
    "        self.y = y\n",
    "\n",
    "    def __str__(self):\n",
    "        return \"({0},{1})\".format(self.x, self.y)\n",
    "    #these function is created by me\n",
    "\n",
    "    def __add__(self, other):\n",
    "        x = self.x + other.x\n",
    "        y = self.y + other.y\n",
    "        return Point(x, y)\n",
    "    def __sub__(self,other):\n",
    "        x = self.x - other.x\n",
    "        y = self.y - other.y\n",
    "        return Point(x, y)\n",
    "    \n",
    "    def multiply(self,other):\n",
    "        x= self.x * other.x\n",
    "        y = self.y * other.y \n",
    "        return Point(x,y)\n",
    "    def dot(self, no):\n",
    "        return self.x*no.x+self.y*no.y\n",
    "\n",
    "p1 = Point(1, 2)\n",
    "p2 = Point(2, 3)\n",
    "\n",
    "print(p1-p2)   \n",
    "print(p1+p2)\n",
    "\n",
    "p1.multiply(p2)\n",
    "\n",
    "# to get the equation of (p1.p2)+(p3)    p1.p2 called dot operation\n",
    "p3=Point(4,5)\n",
    "x=p1.dot(p2)\n",
    "print(x)\n"
   ]
  },
  {
   "cell_type": "code",
   "execution_count": 0,
   "metadata": {
    "application/vnd.databricks.v1+cell": {
     "cellMetadata": {},
     "inputWidgets": {},
     "nuid": "a73f86a1-4ac9-4110-9aa3-1d4290eeff5f",
     "showTitle": false,
     "title": ""
    }
   },
   "outputs": [],
   "source": [
    "class Company:\n",
    "    def __init__(self,Company_name,address):\n",
    "        self.name=Company_name\n",
    "        self.address=address\n",
    "\n",
    "class Department(Company):\n",
    "    def __init__(self, Company_name, address,Department,Employee,Position,salary):\n",
    "        super().__init__(Company_name, address)\n",
    "        self.Department=Department\n",
    "        self.Employee=Employee\n",
    "        self.Position=Position\n",
    "        self.__salary=salary\n",
    "        \n",
    "        \n",
    "        \n",
    "class Human_resources(Department):\n",
    "    def __init__(self, Company_name, address, Department, Employee, Position):\n",
    "        super().__init__(Company_name, address, Department, Employee, Position)\n",
    "\n",
    "    def show_salary_Employee(self,Employee):\n",
    "\n",
    "\n",
    "class Production(Human_resources):\n",
    "    def __init__(self, Company_name, address, Department, Manager, Employee):\n",
    "        super().__init__(Company_name, address, Department, Manager, Employee)\n",
    "\n",
    "\n",
    "        "
   ]
  },
  {
   "cell_type": "code",
   "execution_count": 0,
   "metadata": {
    "application/vnd.databricks.v1+cell": {
     "cellMetadata": {},
     "inputWidgets": {},
     "nuid": "b8957a09-85a2-4845-a790-5e5a3eebda0c",
     "showTitle": false,
     "title": ""
    }
   },
   "outputs": [],
   "source": [
    "#10.03.2023\n",
    "# if you want your code to stop executing\n",
    "print('hello')\n",
    "raise SystemExit\n",
    "print('hello again!')"
   ]
  },
  {
   "cell_type": "code",
   "execution_count": 0,
   "metadata": {
    "application/vnd.databricks.v1+cell": {
     "cellMetadata": {},
     "inputWidgets": {},
     "nuid": "774d04d6-f7f4-4d81-a42f-351ee9f1133b",
     "showTitle": false,
     "title": ""
    }
   },
   "outputs": [],
   "source": [
    "# customized error\n",
    "class customerror(Exception):\n",
    "    def __init__(self,message):\n",
    "        self.message=message\n",
    "\n",
    "    def __str__(self):\n",
    "        return f'{self.__class__.__name__}:{self.message} written by Rovy'\n",
    "    \n",
    "print('welcome')\n",
    "raise customerror('sorry here is an error for you!')"
   ]
  },
  {
   "cell_type": "code",
   "execution_count": 0,
   "metadata": {
    "application/vnd.databricks.v1+cell": {
     "cellMetadata": {},
     "inputWidgets": {},
     "nuid": "b587a173-ae64-480b-9032-928ac103f992",
     "showTitle": false,
     "title": ""
    }
   },
   "outputs": [],
   "source": [
    "# customized error\n",
    "# here it can be raised without writting custom message\n",
    "# both are the same depends on the user prefering\n",
    "class customerror(Exception):\n",
    "    pass\n",
    "    \n",
    "print('welcome')\n",
    "raise customerror('sorry here is an error for you!')"
   ]
  },
  {
   "cell_type": "code",
   "execution_count": 0,
   "metadata": {
    "application/vnd.databricks.v1+cell": {
     "cellMetadata": {},
     "inputWidgets": {},
     "nuid": "ec868acd-a420-4832-87ac-fc5cf7cba22c",
     "showTitle": false,
     "title": ""
    }
   },
   "outputs": [],
   "source": []
  },
  {
   "cell_type": "code",
   "execution_count": 0,
   "metadata": {
    "application/vnd.databricks.v1+cell": {
     "cellMetadata": {},
     "inputWidgets": {},
     "nuid": "8efc0812-0d97-4fec-b2ef-c87073c9c098",
     "showTitle": false,
     "title": ""
    }
   },
   "outputs": [],
   "source": [
    "#each exception should have an error code\n",
    "class CustomException(Exception):\n",
    "    def __init__(self, message,code):\n",
    "        self.message=message\n",
    "        self.code=code\n",
    "    def __str__(self) -> str:\n",
    "        return f\"{self.code} : {self.message}\"\n",
    "\n",
    "print(\"ehllo\")\n",
    "raise CustomException(\"Ths is a custom exception message for class C339\", 17362178)"
   ]
  },
  {
   "cell_type": "code",
   "execution_count": 0,
   "metadata": {
    "application/vnd.databricks.v1+cell": {
     "cellMetadata": {},
     "inputWidgets": {},
     "nuid": "da142611-0fec-4f85-af9d-c5085f7b429d",
     "showTitle": false,
     "title": ""
    }
   },
   "outputs": [],
   "source": [
    "class CustomException(Exception):\n",
    "       pass\n",
    "\n",
    "print(\"ehllo\")\n",
    "raise CustomException(\"Ths is a custom exception message for class C339\", 17362178)\n",
    "print('sdf')"
   ]
  },
  {
   "cell_type": "code",
   "execution_count": 0,
   "metadata": {
    "application/vnd.databricks.v1+cell": {
     "cellMetadata": {},
     "inputWidgets": {},
     "nuid": "205344c8-96a7-4f0b-bfdd-5d4da72cfd8e",
     "showTitle": false,
     "title": ""
    }
   },
   "outputs": [],
   "source": [
    "# Data Processing using Python\n",
    "#splitting\n",
    "my_string='finally! the weekeeeend'\n",
    "b=my_string.split()\n",
    "print(b)"
   ]
  },
  {
   "cell_type": "code",
   "execution_count": 0,
   "metadata": {
    "application/vnd.databricks.v1+cell": {
     "cellMetadata": {},
     "inputWidgets": {},
     "nuid": "eec8cc35-9e36-4a27-a439-dab07d045533",
     "showTitle": false,
     "title": ""
    }
   },
   "outputs": [],
   "source": [
    "#splitting integers and turn them to int.\n",
    "my_string='1 2 3 4 5 6'\n",
    "c=my_string.split()\n",
    "listing=[]\n",
    "for num in c:\n",
    "    num=int(num)\n",
    "    listing.append(num)\n",
    "print(listing)\n"
   ]
  },
  {
   "cell_type": "code",
   "execution_count": 0,
   "metadata": {
    "application/vnd.databricks.v1+cell": {
     "cellMetadata": {},
     "inputWidgets": {},
     "nuid": "393df429-bc9c-4e44-8427-b5829cef0255",
     "showTitle": false,
     "title": ""
    }
   },
   "outputs": [],
   "source": [
    "#join\n",
    "'*'.join(my_string)\n",
    "'*'.join(['1','2','3'])\n"
   ]
  },
  {
   "cell_type": "code",
   "execution_count": 0,
   "metadata": {
    "application/vnd.databricks.v1+cell": {
     "cellMetadata": {},
     "inputWidgets": {},
     "nuid": "006fcf7d-0418-40f0-ae83-43bf4fef8568",
     "showTitle": false,
     "title": ""
    }
   },
   "outputs": [],
   "source": [
    "print('\\n'.join(['c339 btach is really awesome', 'They just need some python practise time']))"
   ]
  },
  {
   "cell_type": "code",
   "execution_count": 0,
   "metadata": {
    "application/vnd.databricks.v1+cell": {
     "cellMetadata": {},
     "inputWidgets": {},
     "nuid": "b404abdd-f0bc-4244-b93c-ce8803c32c55",
     "showTitle": false,
     "title": ""
    }
   },
   "outputs": [],
   "source": [
    "'      here is the weekend   \\n   '.strip()"
   ]
  },
  {
   "cell_type": "code",
   "execution_count": 0,
   "metadata": {
    "application/vnd.databricks.v1+cell": {
     "cellMetadata": {},
     "inputWidgets": {},
     "nuid": "d5120326-11e7-4188-9857-a63e1917dc95",
     "showTitle": false,
     "title": ""
    }
   },
   "outputs": [],
   "source": [
    "'      here is the weekend   \\n   '.lstrip()"
   ]
  },
  {
   "cell_type": "code",
   "execution_count": 0,
   "metadata": {
    "application/vnd.databricks.v1+cell": {
     "cellMetadata": {},
     "inputWidgets": {},
     "nuid": "ce0fc36f-ce38-4eaa-bb72-d7c0a6e89d51",
     "showTitle": false,
     "title": ""
    }
   },
   "outputs": [],
   "source": [
    "'      here is the weekend   \\n   '.rstrip()"
   ]
  },
  {
   "cell_type": "code",
   "execution_count": 0,
   "metadata": {
    "application/vnd.databricks.v1+cell": {
     "cellMetadata": {},
     "inputWidgets": {},
     "nuid": "04c35626-7fc1-4f5b-adbb-c7f2e7d7f249",
     "showTitle": false,
     "title": ""
    }
   },
   "outputs": [],
   "source": [
    "'        so      much      wide      space  ?       \\n       \\t          '.strip()"
   ]
  },
  {
   "cell_type": "code",
   "execution_count": 0,
   "metadata": {
    "application/vnd.databricks.v1+cell": {
     "cellMetadata": {},
     "inputWidgets": {},
     "nuid": "e3f53641-138e-469d-ab39-2c26dc0ccf24",
     "showTitle": false,
     "title": ""
    }
   },
   "outputs": [],
   "source": [
    "#startswith method\n",
    "'the quick racing round....'.startswith('t')"
   ]
  },
  {
   "cell_type": "code",
   "execution_count": 0,
   "metadata": {
    "application/vnd.databricks.v1+cell": {
     "cellMetadata": {},
     "inputWidgets": {},
     "nuid": "c82153ea-83bc-4a93-b0c9-262cbb02eea6",
     "showTitle": false,
     "title": ""
    }
   },
   "outputs": [],
   "source": [
    "# returning tuple of trues and falses\n",
    "'ea' in 'team' , 'I' in 'team', 'oo' in 'zoom'"
   ]
  },
  {
   "cell_type": "code",
   "execution_count": 0,
   "metadata": {
    "application/vnd.databricks.v1+cell": {
     "cellMetadata": {},
     "inputWidgets": {},
     "nuid": "f19084c7-ebe7-4dfe-b865-55bd8ed73b83",
     "showTitle": false,
     "title": ""
    }
   },
   "outputs": [],
   "source": [
    "#getting the part of strings\n",
    "'the quick brown fox..'[4:9]"
   ]
  },
  {
   "cell_type": "code",
   "execution_count": 0,
   "metadata": {
    "application/vnd.databricks.v1+cell": {
     "cellMetadata": {},
     "inputWidgets": {},
     "nuid": "af4c4913-93e0-4c40-b120-839b2c2b1eb2",
     "showTitle": false,
     "title": ""
    }
   },
   "outputs": [],
   "source": [
    "import re\n",
    "list_of_Account=['Acc1.ID242342 : London . 06/03/2019',\n",
    "                 'Acc1.ID2423342 : US . 07/03/2019',\n",
    "                 'banana',\n",
    "                 'Acc1.ID24243342 : Egypt . 08/03/2019',\n",
    "                 'Acc1.ID23442342 : London . 09/03/2019',\n",
    "                 'Acc1.ID24233442 : Germany . 10/03/2019']\n",
    "listing=[]\n",
    "dates=[string.split('.')[-1].strip() for string in list_of_Account if (string.startswith('Acc') == True)]\n",
    "print(dates)\n",
    "for strr in list_of_Account:    \n",
    "    if strr.startswith('Acc'):\n",
    "        d=strr.split(':')[1].split('.')[1]\n",
    "        listing.append(d)\n",
    "print(listing)"
   ]
  },
  {
   "cell_type": "code",
   "execution_count": 0,
   "metadata": {
    "application/vnd.databricks.v1+cell": {
     "cellMetadata": {},
     "inputWidgets": {},
     "nuid": "b02d968a-652c-4a88-806a-6736d063cef5",
     "showTitle": false,
     "title": ""
    }
   },
   "outputs": [],
   "source": []
  },
  {
   "cell_type": "code",
   "execution_count": 0,
   "metadata": {
    "application/vnd.databricks.v1+cell": {
     "cellMetadata": {},
     "inputWidgets": {},
     "nuid": "2f62c484-0b3a-4d3d-8554-b97847223ef2",
     "showTitle": false,
     "title": ""
    }
   },
   "outputs": [],
   "source": [
    "import re\n",
    "y=[]\n",
    "for strr in list_of_Account:\n",
    "    if strr.startswith('Acc'):\n",
    "        x=re.findall('.+(\\d\\d.*/.*/.*)',strr)\n",
    "        y=y+x\n",
    "print(y)\n"
   ]
  },
  {
   "cell_type": "code",
   "execution_count": 0,
   "metadata": {
    "application/vnd.databricks.v1+cell": {
     "cellMetadata": {},
     "inputWidgets": {},
     "nuid": "cc7fa733-07cc-45fd-b371-ec1981540435",
     "showTitle": false,
     "title": ""
    }
   },
   "outputs": [],
   "source": [
    "#getting the code after ID with regex\n",
    "l=[]\n",
    "for strr in list_of_Account:\n",
    "    x=strr.split(':')\n",
    "    f=re.findall('.+ID(\\d*)',x[0])\n",
    "    l=l+f\n",
    "print(l)\n",
    "\n",
    "   \n"
   ]
  },
  {
   "cell_type": "code",
   "execution_count": 0,
   "metadata": {
    "application/vnd.databricks.v1+cell": {
     "cellMetadata": {},
     "inputWidgets": {},
     "nuid": "d7c3061f-d2fe-4579-a262-b2e588182c0a",
     "showTitle": false,
     "title": ""
    }
   },
   "outputs": [],
   "source": [
    "# another way without regex\n",
    "listing=[]\n",
    "for strr in list_of_Account:\n",
    "    if strr.startswith('Acc'):\n",
    "        d=strr[strr.find('ID')+2: strr.find(':')].strip()\n",
    "        listing.append(d)\n",
    "print(listing)"
   ]
  },
  {
   "cell_type": "code",
   "execution_count": 0,
   "metadata": {
    "application/vnd.databricks.v1+cell": {
     "cellMetadata": {},
     "inputWidgets": {},
     "nuid": "67f3a152-d13b-488e-ba9e-0f62b0232a16",
     "showTitle": false,
     "title": ""
    }
   },
   "outputs": [],
   "source": [
    "location=list()\n",
    "for strr in list_of_Account:\n",
    "    if strr.startswith('Acc'):\n",
    "        x=strr.split(':')[1].split('.')[0]\n",
    "        #print(x)\n",
    "        location.append(x)\n",
    "print(location)"
   ]
  },
  {
   "cell_type": "code",
   "execution_count": 0,
   "metadata": {
    "application/vnd.databricks.v1+cell": {
     "cellMetadata": {},
     "inputWidgets": {},
     "nuid": "cc9eb7d2-1a5e-4e82-a2d5-f6697d7484fc",
     "showTitle": false,
     "title": ""
    }
   },
   "outputs": [],
   "source": [
    "# executing an array/matrix using function\n",
    "import timeit  # if %%timeit gives a usage error,you can import timeit\n",
    "def make_matrix(n_rows,n_cols):\n",
    "    return [list(range(n_cols *i , n_cols*(i+1))) for i in range(n_rows)]\n",
    "\n",
    "test_data=make_matrix(40,5)\n",
    "#test_data\n",
    "time_taken = timeit.timeit(lambda: make_matrix(40, 5), number=1000)\n",
    "print(time_taken)"
   ]
  },
  {
   "cell_type": "code",
   "execution_count": 0,
   "metadata": {
    "application/vnd.databricks.v1+cell": {
     "cellMetadata": {},
     "inputWidgets": {},
     "nuid": "b77dbaa9-286d-4fbd-8596-477be335dec9",
     "showTitle": false,
     "title": ""
    }
   },
   "outputs": [],
   "source": [
    "%%timeit\n",
    "a = sum([sum(r) for r in test_data])\n"
   ]
  },
  {
   "cell_type": "code",
   "execution_count": 0,
   "metadata": {
    "application/vnd.databricks.v1+cell": {
     "cellMetadata": {},
     "inputWidgets": {},
     "nuid": "51a48242-762f-4f9d-8eea-53349080c5ac",
     "showTitle": false,
     "title": ""
    }
   },
   "outputs": [],
   "source": [
    "pip install numpy"
   ]
  },
  {
   "cell_type": "code",
   "execution_count": 0,
   "metadata": {
    "application/vnd.databricks.v1+cell": {
     "cellMetadata": {},
     "inputWidgets": {},
     "nuid": "bcc7cc9b-619f-4047-bbc9-f2281eaa39b6",
     "showTitle": false,
     "title": ""
    }
   },
   "outputs": [],
   "source": [
    "%%timeit\n",
    "import numpy as np\n",
    "test_np_Array=np.array(test_data)\n",
    "#print(test_np_Array)"
   ]
  },
  {
   "cell_type": "code",
   "execution_count": 0,
   "metadata": {
    "application/vnd.databricks.v1+cell": {
     "cellMetadata": {},
     "inputWidgets": {},
     "nuid": "b695c86d-eb2a-4d55-8e1f-481c7895a244",
     "showTitle": false,
     "title": ""
    }
   },
   "outputs": [],
   "source": [
    "# getting the sum of array using Numpy; numerical python\n",
    "%timeit\n",
    "summing=np.array(test_data).sum()  # option 1\n",
    "summing1=np.sum(test_data)   # option 2\n",
    "print(summing);print(summing1)"
   ]
  },
  {
   "cell_type": "code",
   "execution_count": 0,
   "metadata": {
    "application/vnd.databricks.v1+cell": {
     "cellMetadata": {},
     "inputWidgets": {},
     "nuid": "273bf378-d9b5-4437-9771-d54ce5c79d68",
     "showTitle": false,
     "title": ""
    }
   },
   "outputs": [],
   "source": [
    "# Numpy stands for Numerical Python.\n",
    "#NumPy provides a multi-dimensional array object, ndarray, which is faster and more efficient than Python's built-in data structures such as lists and tuples. \n",
    "# The ndarray object is used to store homogeneous data (elements of the same data type) in a fixed-size, contiguous block of memory.\n",
    "# also provides a large collection of mathematical functions and operations that can be applied to arrays. These include mathematical operations such as\n",
    "# addition, subtraction, multiplication, division, and exponentiation, as well as statistical functions, \n",
    "# random number generation, linear algebra, Fourier analysis, and more.\n",
    "import numpy as np\n",
    "arr=np.array([1 2 3 4 5],float)\n",
    "print(arr)\n",
    "arr2d=np.array([[1,2,3],[4,5,6],[7,8,9]])\n",
    "print(arr2d)"
   ]
  },
  {
   "cell_type": "code",
   "execution_count": 0,
   "metadata": {
    "application/vnd.databricks.v1+cell": {
     "cellMetadata": {},
     "inputWidgets": {},
     "nuid": "f3468d62-244f-4c0a-9ef6-3f2ae73d4eaf",
     "showTitle": false,
     "title": ""
    }
   },
   "outputs": [],
   "source": [
    "print(arr[3])   # array scaler gettig one element from numpy array\n",
    "print(arr2d[0][2]) # to access the element at row 0 and column 2 of the array\n",
    "print(arr2d[0,2]) # to access the element at row 0 and column 2 of the array; gives the same result"
   ]
  },
  {
   "cell_type": "code",
   "execution_count": 0,
   "metadata": {
    "application/vnd.databricks.v1+cell": {
     "cellMetadata": {},
     "inputWidgets": {},
     "nuid": "d43acd64-48c1-458e-a7e0-9e1cd92dc5d0",
     "showTitle": false,
     "title": ""
    }
   },
   "outputs": [],
   "source": [
    "print(arr.shape)    # get the size of row\n",
    "print(arr2d.shape)   # get the size of row and columns\n",
    "print(arr.dtype)   # get the data type\n",
    "# these is for mutiplying 2 with the array elements\n",
    "arr_squared = arr2d *2\n",
    "print(arr_squared)\n",
    "# these code is for doing numpy transpose of matrix\n",
    "arr2d_transpose=np.transpose(arr2d)\n",
    "print(arr2d_transpose)\n",
    "# this also works, it is more like mathematical notation\n",
    "arr2d_transpose = arr2d.T\n",
    "print(arr2d_transpose)"
   ]
  },
  {
   "cell_type": "code",
   "execution_count": 0,
   "metadata": {
    "application/vnd.databricks.v1+cell": {
     "cellMetadata": {},
     "inputWidgets": {},
     "nuid": "b516609b-490c-4b0b-b6ec-939c4ed701f0",
     "showTitle": false,
     "title": ""
    }
   },
   "outputs": [],
   "source": [
    "# to specify the data type in the matrix\n",
    "acomplex=np.array([1,2,3],dtype=\"complex\")\n",
    "print(acomplex)"
   ]
  },
  {
   "cell_type": "code",
   "execution_count": 0,
   "metadata": {
    "application/vnd.databricks.v1+cell": {
     "cellMetadata": {},
     "inputWidgets": {},
     "nuid": "124d6977-7ed3-4496-be27-7404cb695668",
     "showTitle": false,
     "title": ""
    }
   },
   "outputs": [],
   "source": [
    "# giving the range of number inserted in the matrix using linspace(); start point,end point and the increment\n",
    "# the end point here is included which is different here from using range()\n",
    "array=np.linspace(0,12,4,dtype=int)\n",
    "print(array)"
   ]
  },
  {
   "cell_type": "code",
   "execution_count": 0,
   "metadata": {
    "application/vnd.databricks.v1+cell": {
     "cellMetadata": {},
     "inputWidgets": {},
     "nuid": "ae375b7c-ca4d-4fb4-97c3-f838fdd513fa",
     "showTitle": false,
     "title": ""
    }
   },
   "outputs": [],
   "source": [
    "# here endpoint is not included\n",
    "array=np.arange(0,11,2)\n",
    "print(array)"
   ]
  },
  {
   "cell_type": "code",
   "execution_count": 0,
   "metadata": {
    "application/vnd.databricks.v1+cell": {
     "cellMetadata": {},
     "inputWidgets": {},
     "nuid": "66263d25-dfc1-43fe-94eb-a1e92c0b20d4",
     "showTitle": false,
     "title": ""
    }
   },
   "outputs": [],
   "source": [
    "# used to seed the random number generator. \n",
    "# numpy.random.seed(seed=None)\n",
    "# seed is an optional integer value that is used to initialize the random number generator\n",
    "# By setting the same seed value, you can ensure that the random number generator produces the same sequence of random numbers every time the code is run.\n",
    "# This can be useful for testing and debugging, as it allows you to reproduce the same results.\n",
    "np.random.seed(0)   # set random set for consistency\n",
    "array_random=np.random.rand(5,2)\n",
    "print(array_random)\n",
    "\n",
    "# getting random integers specifying the number of random integers to be generated\n",
    "np.random.seed(42)\n",
    "x = np.random.randint(0, 10, size=5)\n",
    "print(x)\n",
    "\n",
    "array_zeros=  np.zeros((2,3))  # gives an array of zeros\n",
    "print(array_zeros)\n"
   ]
  },
  {
   "cell_type": "code",
   "execution_count": 0,
   "metadata": {
    "application/vnd.databricks.v1+cell": {
     "cellMetadata": {},
     "inputWidgets": {},
     "nuid": "eb0609ac-a148-4b04-9f4e-b0c96652f41f",
     "showTitle": false,
     "title": ""
    }
   },
   "outputs": [],
   "source": [
    "# The np.where() function is used to create a new array filtered_arr of the same shape as arr\n",
    "np.random.seed(42)\n",
    "x = np.random.randint(0, 10, size=5)\n",
    "print(x)\n",
    "filtering=np.where(x>4,x,0) # to filter arrays\n",
    "print(filtering)"
   ]
  },
  {
   "cell_type": "code",
   "execution_count": 0,
   "metadata": {
    "application/vnd.databricks.v1+cell": {
     "cellMetadata": {},
     "inputWidgets": {},
     "nuid": "4ecc3587-7466-4798-a144-b8e2f1737d63",
     "showTitle": false,
     "title": ""
    }
   },
   "outputs": [],
   "source": [
    "# filtering the array using the logical operators\n",
    "x[:] >3"
   ]
  },
  {
   "cell_type": "code",
   "execution_count": 0,
   "metadata": {
    "application/vnd.databricks.v1+cell": {
     "cellMetadata": {},
     "inputWidgets": {},
     "nuid": "c7d1addf-16a2-4ba4-b16a-35680461f29d",
     "showTitle": false,
     "title": ""
    }
   },
   "outputs": [],
   "source": [
    "# using reshape() if we have huge data set in an excel file in one row\n",
    "# so we divide it/simplify it by using the reshape func. to form a matrix\n",
    "np.random.seed(17)\n",
    "small_array=np.random.rand(12)  # here the size is specified to be 12x0 ; 12 rows only\n",
    "print(small_array)\n",
    "print(small_array.shape)\n",
    "small_array= small_array.reshape(4,3) # but now we want to reshape it with different size to make it easy to read\n",
    "small_array"
   ]
  },
  {
   "cell_type": "code",
   "execution_count": 0,
   "metadata": {
    "application/vnd.databricks.v1+cell": {
     "cellMetadata": {},
     "inputWidgets": {},
     "nuid": "6fbe239c-9117-4ea9-9b54-9700fb2e2908",
     "showTitle": false,
     "title": ""
    }
   },
   "outputs": [],
   "source": [
    "small_array_copy=small_array.copy()\n",
    "small_array_copy"
   ]
  },
  {
   "cell_type": "code",
   "execution_count": 0,
   "metadata": {
    "application/vnd.databricks.v1+cell": {
     "cellMetadata": {},
     "inputWidgets": {},
     "nuid": "f5f2c489-9c03-4a49-b8fe-542bac665abb",
     "showTitle": false,
     "title": ""
    }
   },
   "outputs": [],
   "source": [
    "# to get specific rows and columns\n",
    "small_array[1:,2:]\n"
   ]
  },
  {
   "cell_type": "code",
   "execution_count": 0,
   "metadata": {
    "application/vnd.databricks.v1+cell": {
     "cellMetadata": {},
     "inputWidgets": {},
     "nuid": "3085b26e-7fbe-4265-af5c-678baf14730f",
     "showTitle": false,
     "title": ""
    }
   },
   "outputs": [],
   "source": [
    "# to get specific rows and columns\n",
    "arr2d[1:,2:]\n"
   ]
  },
  {
   "cell_type": "code",
   "execution_count": 0,
   "metadata": {
    "application/vnd.databricks.v1+cell": {
     "cellMetadata": {},
     "inputWidgets": {},
     "nuid": "30467a70-362b-4664-bbe8-583571a48a91",
     "showTitle": false,
     "title": ""
    }
   },
   "outputs": [],
   "source": [
    "#slicing the rows and columns\n",
    "small_array[1:2,0:]=0\n",
    "print(small_array)\n",
    "\n",
    "#slicing the rows and columns\n",
    "small_array[2:3,1: ]=5\n",
    "print(small_array)"
   ]
  },
  {
   "cell_type": "code",
   "execution_count": 0,
   "metadata": {
    "application/vnd.databricks.v1+cell": {
     "cellMetadata": {},
     "inputWidgets": {},
     "nuid": "6998abae-28a7-46a1-b7e8-10a7833a026d",
     "showTitle": false,
     "title": ""
    }
   },
   "outputs": [],
   "source": [
    "print(small_array)\n",
    "small_array_copy  # here we maintained a copy of the original array"
   ]
  },
  {
   "cell_type": "code",
   "execution_count": 0,
   "metadata": {
    "application/vnd.databricks.v1+cell": {
     "cellMetadata": {},
     "inputWidgets": {},
     "nuid": "a06324c5-460b-4887-be70-cd7a99a21fb1",
     "showTitle": false,
     "title": ""
    }
   },
   "outputs": [],
   "source": [
    "# filtering the array using boolean indexing\n",
    "small_array_copy[ :]>0.5"
   ]
  },
  {
   "cell_type": "code",
   "execution_count": 0,
   "metadata": {
    "application/vnd.databricks.v1+cell": {
     "cellMetadata": {},
     "inputWidgets": {},
     "nuid": "4fb12f0f-8a51-4036-a4bb-9f79a32102ae",
     "showTitle": false,
     "title": ""
    }
   },
   "outputs": [],
   "source": [
    "small_array_copy[small_array_copy[ :]>0.5]"
   ]
  },
  {
   "cell_type": "code",
   "execution_count": 0,
   "metadata": {
    "application/vnd.databricks.v1+cell": {
     "cellMetadata": {},
     "inputWidgets": {},
     "nuid": "f1fd7c53-562d-49e0-a1b7-47ee1c1e515f",
     "showTitle": false,
     "title": ""
    }
   },
   "outputs": [],
   "source": [
    "small_array_copy[small_array_copy[:,1]>0.5,:]"
   ]
  },
  {
   "cell_type": "code",
   "execution_count": 0,
   "metadata": {
    "application/vnd.databricks.v1+cell": {
     "cellMetadata": {},
     "inputWidgets": {},
     "nuid": "1797a2df-1715-4a7b-b772-702d6ac71dec",
     "showTitle": false,
     "title": ""
    }
   },
   "outputs": [],
   "source": [
    "#the difference between fake and real copy:\n",
    "# creating a copy vs assiging new name\n",
    "my_arr = np.arange(3)\n",
    "my_arr_not_copy = my_arr # here it changes whenever there is any change in the array; called a shallow copy\n",
    "my_arr_copy = my_arr.copy() # here it maintain the original copy however changes made to the original one; called a deep copy\n",
    "\n",
    "print(my_arr, my_arr_not_copy, my_arr_copy)\n",
    "#my_arr_not_copy[0] = 10\n",
    "#print(my_arr, my_arr_not_copy, my_arr_copy)\n",
    "my_arr[:]=5\n",
    "print(my_arr, my_arr_not_copy, my_arr_copy)\n"
   ]
  },
  {
   "cell_type": "code",
   "execution_count": 0,
   "metadata": {
    "application/vnd.databricks.v1+cell": {
     "cellMetadata": {},
     "inputWidgets": {},
     "nuid": "a9986b67-57b0-4555-b313-914e0817dfa8",
     "showTitle": false,
     "title": ""
    }
   },
   "outputs": [],
   "source": [
    "#print(small_array_copy)\n",
    "print(np.sin(small_array_copy))\n",
    "\n"
   ]
  },
  {
   "cell_type": "code",
   "execution_count": 0,
   "metadata": {
    "application/vnd.databricks.v1+cell": {
     "cellMetadata": {},
     "inputWidgets": {},
     "nuid": "f15b7b46-6d97-4abd-b558-49a710f311ee",
     "showTitle": false,
     "title": ""
    }
   },
   "outputs": [],
   "source": [
    "np.tan(small_array_copy)"
   ]
  },
  {
   "cell_type": "code",
   "execution_count": 0,
   "metadata": {
    "application/vnd.databricks.v1+cell": {
     "cellMetadata": {},
     "inputWidgets": {},
     "nuid": "8ad7ff20-fb20-4ccd-b680-0d7ac24be27e",
     "showTitle": false,
     "title": ""
    }
   },
   "outputs": [],
   "source": [
    "np.cos(small_array_copy)"
   ]
  },
  {
   "cell_type": "code",
   "execution_count": 0,
   "metadata": {
    "application/vnd.databricks.v1+cell": {
     "cellMetadata": {},
     "inputWidgets": {},
     "nuid": "87accafd-8e6e-405b-91d4-13139d40f0dd",
     "showTitle": false,
     "title": ""
    }
   },
   "outputs": [],
   "source": [
    "np.log(small_array_copy)"
   ]
  },
  {
   "cell_type": "code",
   "execution_count": 0,
   "metadata": {
    "application/vnd.databricks.v1+cell": {
     "cellMetadata": {},
     "inputWidgets": {},
     "nuid": "46249ce0-1ec3-4224-8a52-b9bc83792140",
     "showTitle": false,
     "title": ""
    }
   },
   "outputs": [],
   "source": [
    "np.log2(small_array_copy)"
   ]
  },
  {
   "cell_type": "code",
   "execution_count": 0,
   "metadata": {
    "application/vnd.databricks.v1+cell": {
     "cellMetadata": {},
     "inputWidgets": {},
     "nuid": "1e02e842-a04b-4926-9199-22bd2665f331",
     "showTitle": false,
     "title": ""
    }
   },
   "outputs": [],
   "source": [
    "np.log10(small_array_copy)"
   ]
  },
  {
   "cell_type": "code",
   "execution_count": 0,
   "metadata": {
    "application/vnd.databricks.v1+cell": {
     "cellMetadata": {},
     "inputWidgets": {},
     "nuid": "925d44de-cdc9-4d60-81e4-871370e19a23",
     "showTitle": false,
     "title": ""
    }
   },
   "outputs": [],
   "source": [
    "np.sqrt(small_array_copy)"
   ]
  },
  {
   "cell_type": "code",
   "execution_count": 0,
   "metadata": {
    "application/vnd.databricks.v1+cell": {
     "cellMetadata": {},
     "inputWidgets": {},
     "nuid": "61e33b87-7995-4ded-9cc9-59c00738dae6",
     "showTitle": false,
     "title": ""
    }
   },
   "outputs": [],
   "source": [
    "np.random.seed(5)\n",
    "array1=np.random.rand(4,5)\n",
    "array2=np.random.rand(4,5)\n",
    "print(array1);print(array2)"
   ]
  },
  {
   "cell_type": "code",
   "execution_count": 0,
   "metadata": {
    "application/vnd.databricks.v1+cell": {
     "cellMetadata": {},
     "inputWidgets": {},
     "nuid": "eb3dfa3a-7fed-4e73-b56d-6250d6411bb4",
     "showTitle": false,
     "title": ""
    }
   },
   "outputs": [],
   "source": [
    "multiplication=array1*array2\n",
    "multiplication   # here it will give the multiplication in the same array size; it multiplies each element with its spouse"
   ]
  },
  {
   "cell_type": "code",
   "execution_count": 0,
   "metadata": {
    "application/vnd.databricks.v1+cell": {
     "cellMetadata": {},
     "inputWidgets": {},
     "nuid": "11321aa9-be1e-4374-b611-fad7777a6641",
     "showTitle": false,
     "title": ""
    }
   },
   "outputs": [],
   "source": [
    "subtr=array1-array2\n",
    "subtr # it subtracts each element with each spouse"
   ]
  },
  {
   "cell_type": "code",
   "execution_count": 0,
   "metadata": {
    "application/vnd.databricks.v1+cell": {
     "cellMetadata": {},
     "inputWidgets": {},
     "nuid": "84062a09-6030-4628-9a34-50a178b81c52",
     "showTitle": false,
     "title": ""
    }
   },
   "outputs": [],
   "source": [
    "#dot=np.dot(array1,array2)   # here it will give error because one of them needs to be transposed\n",
    "dot=np.dot(array1,array2.T)\n",
    "dot   # here array1 size is 4x5 and  array2 size is 5x4 so the result will be 4x4 array size"
   ]
  },
  {
   "cell_type": "code",
   "execution_count": 0,
   "metadata": {
    "application/vnd.databricks.v1+cell": {
     "cellMetadata": {},
     "inputWidgets": {},
     "nuid": "d5e260a0-ee60-4d9a-82c8-5b4aed280eb0",
     "showTitle": false,
     "title": ""
    }
   },
   "outputs": [],
   "source": [
    "# to get the max and min value in the array\n",
    "maximum=np.max(array1)\n",
    "print(maximum)\n",
    "minimum=np.min(array1)\n",
    "minimum"
   ]
  },
  {
   "cell_type": "code",
   "execution_count": 0,
   "metadata": {
    "application/vnd.databricks.v1+cell": {
     "cellMetadata": {},
     "inputWidgets": {},
     "nuid": "af476273-7902-4b87-bb65-1178f4fb813f",
     "showTitle": false,
     "title": ""
    }
   },
   "outputs": [],
   "source": [
    "# to get the min and max value of the array using indexing\n",
    "minimum_indexing=array1.argmin()\n",
    "print(minimum_indexing)\n",
    "maximum_indexing=array1.argmax()\n",
    "print(maximum_indexing)\n",
    "array1[:,0].argmin()  # to get the min value in specific column or row"
   ]
  },
  {
   "cell_type": "code",
   "execution_count": 0,
   "metadata": {
    "application/vnd.databricks.v1+cell": {
     "cellMetadata": {},
     "inputWidgets": {},
     "nuid": "08eb44e8-09f0-41a2-b736-5db2e7e9f8e1",
     "showTitle": false,
     "title": ""
    }
   },
   "outputs": [],
   "source": [
    "# Nick's example\n",
    "np.random.seed(12345)\n",
    "height_of_students = np.random.randint(150, 220, size=(4,3))\n",
    "print(height_of_students)\n",
    "grades_of_students = np.random.uniform(0,10,[4,3]).round(2)\n",
    "print(grades_of_students)\n",
    "# Get the average grade of the students with height > 190\n",
    "print(\"Students with height greater than 190:\\n\", height_of_students > 190,'\\n')\n",
    "print(\"Grades of students with height > 190:\\n\" , grades_of_students[height_of_students > 190],'\\n')\n",
    "print(\"Average grade of students with height > 190:\\n\", grades_of_students[height_of_students > 190].mean().round(2))"
   ]
  },
  {
   "cell_type": "code",
   "execution_count": 0,
   "metadata": {
    "application/vnd.databricks.v1+cell": {
     "cellMetadata": {},
     "inputWidgets": {},
     "nuid": "2892f2f3-3a93-4474-aeb2-5a392cb77143",
     "showTitle": false,
     "title": ""
    }
   },
   "outputs": [],
   "source": [
    "# to save an array in a file\n",
    "import numpy as np\n",
    "np.save('test.npy',array1)"
   ]
  },
  {
   "cell_type": "code",
   "execution_count": 0,
   "metadata": {
    "application/vnd.databricks.v1+cell": {
     "cellMetadata": {},
     "inputWidgets": {},
     "nuid": "5e811f51-1469-4bce-8232-d83cd5099225",
     "showTitle": false,
     "title": ""
    }
   },
   "outputs": [],
   "source": [
    "#to retrieve the array saved\n",
    "retrive_array=np.load('test.npy')\n",
    "retrive_array"
   ]
  },
  {
   "cell_type": "code",
   "execution_count": 0,
   "metadata": {
    "application/vnd.databricks.v1+cell": {
     "cellMetadata": {},
     "inputWidgets": {},
     "nuid": "d5d5910b-f915-47df-8008-e71f0d57512b",
     "showTitle": false,
     "title": ""
    }
   },
   "outputs": [],
   "source": [
    "# to save the data of the array in a text file \n",
    "np.savetxt('test.txt.npy',array1,delimiter=',') # the delimiter is used to separate between the data of the array"
   ]
  },
  {
   "cell_type": "code",
   "execution_count": 0,
   "metadata": {
    "application/vnd.databricks.v1+cell": {
     "cellMetadata": {},
     "inputWidgets": {},
     "nuid": "2762d3d9-dae6-4fd0-ac19-095cd962828c",
     "showTitle": false,
     "title": ""
    }
   },
   "outputs": [],
   "source": [
    "np.savetxt('test.txt.csv',array1,fmt='%f',delimiter=',',header='Array1')"
   ]
  },
  {
   "cell_type": "code",
   "execution_count": 0,
   "metadata": {
    "application/vnd.databricks.v1+cell": {
     "cellMetadata": {},
     "inputWidgets": {},
     "nuid": "5e083050-9fea-4ed9-8c9c-37a5e52f955d",
     "showTitle": false,
     "title": ""
    }
   },
   "outputs": [],
   "source": [
    "x = np.array([3,4,5])\n",
    "np.savetxt(\"my_data.csv\", x, fmt=\"%d\")"
   ]
  },
  {
   "cell_type": "code",
   "execution_count": 0,
   "metadata": {
    "application/vnd.databricks.v1+cell": {
     "cellMetadata": {},
     "inputWidgets": {},
     "nuid": "5cfcd813-c633-47b4-89ae-898ff1382b3b",
     "showTitle": false,
     "title": ""
    }
   },
   "outputs": [],
   "source": [
    "# to retrieve the array which is saved in the text file .csv\n",
    "retrivefromcsv=np.loadtxt('test.txt.csv',delimiter=',')\n",
    "retrivefromcsv"
   ]
  },
  {
   "cell_type": "code",
   "execution_count": 0,
   "metadata": {
    "application/vnd.databricks.v1+cell": {
     "cellMetadata": {},
     "inputWidgets": {},
     "nuid": "fb043a22-ba9d-4a6a-ab41-ec0178e5e9a8",
     "showTitle": false,
     "title": ""
    }
   },
   "outputs": [],
   "source": [
    "%ls -l *.npy"
   ]
  },
  {
   "cell_type": "code",
   "execution_count": 0,
   "metadata": {
    "application/vnd.databricks.v1+cell": {
     "cellMetadata": {},
     "inputWidgets": {},
     "nuid": "5acb9eb7-a244-44ae-bb8c-f4da43a97d48",
     "showTitle": false,
     "title": ""
    }
   },
   "outputs": [],
   "source": [
    "# Numpy array here contains heterogeneous data types. \n",
    "#Specifically, the first column contains strings ('abc' and 'jinesh'), while the second and third columns contain integers (21, 67, 50, and 8).\n",
    "#One potential use case for such an array in the context of classes and objects is as a data structure for storing and manipulating heterogeneous data for each instance of a class.\n",
    "# For example, imagine you have a Person class with attributes such as name, age, and height,\n",
    "# but you also want to store additional information that might vary from person to person (e.g., a list of their favorite foods, their SAT scores, etc.).\n",
    "#Instead of creating separate attributes for each of these additional pieces of information (which would quickly become unwieldy),\n",
    "# you could create a NumPy array to store this data, with each row corresponding to a different person and each column corresponding to a different attribute.\n",
    "# Then, you could write methods for your Person class that use NumPy functions like np.mean or np.sort to manipulate this array and extract relevant information about the data it contains\n",
    "import numpy as np\n",
    "a = np.array([('abc',21,50),(\"rovan\",67,8)])  # like instance variables in classes for data structure; multiple instances are stored in tuples\n",
    "print(a)"
   ]
  },
  {
   "cell_type": "code",
   "execution_count": 0,
   "metadata": {
    "application/vnd.databricks.v1+cell": {
     "cellMetadata": {},
     "inputWidgets": {},
     "nuid": "0f6a7812-5f51-48f7-a9f1-2667f91c896f",
     "showTitle": false,
     "title": ""
    }
   },
   "outputs": [],
   "source": [
    "\n",
    "class Myclass:\n",
    "    def __init__(self,value1,value2):\n",
    "        self.value1=value1\n",
    "        self.value2=value2\n",
    "obj=Myclass(42,'rffe')  # here we want to save the object in numpy file so we have to convert it to array first\n",
    "obj1=Myclass(50,'ds')\n",
    "np.array(obj,dtype=object) #optional step: converting it to array\n",
    "np.save('abc.npy',obj)  # saving it in numpy file\n",
    "loaded_obj=np.load('abc.npy',allow_pickle=True)  # retrieving the data using allow_pickle to be able to load the data from the file \n",
    "loaded_obj=loaded_obj.item()    # we convert the array to object again so we can see the data using .item()\n",
    "print(loaded_obj.value1)  # the normal way of retrieving the attribute from an object/instance\n",
    "loaded_obj.value2\n"
   ]
  },
  {
   "cell_type": "code",
   "execution_count": 0,
   "metadata": {
    "application/vnd.databricks.v1+cell": {
     "cellMetadata": {},
     "inputWidgets": {},
     "nuid": "eddacbd7-b843-43b8-931b-363eba7b3297",
     "showTitle": false,
     "title": ""
    }
   },
   "outputs": [],
   "source": [
    "# to store more than one object\n",
    "class Myclass:\n",
    "    def __init__(self,value1,value2):\n",
    "        self.value1=value1\n",
    "        self.value2=value2\n",
    "obj=Myclass(42,'rffe')  # here we want to save the object in numpy file so we have to convert it to array first\n",
    "obj1=Myclass(50,'ds')\n",
    "objects={'obj':obj,'obj1':obj1}  # create a dictionary\n",
    "#np.array(objects,dtype=object) # converting it to array\n",
    "np.save('abc.npy',objects)  # saving it in numpy file\n",
    "loaded_obj=np.load('abc.npy',allow_pickle=True)  # retrieving the data using allow_pickle to be able to load the data from the file \n",
    "loaded_obj=loaded_obj.item()    # we cnvert the array to object again so we can see the data using .item()\n",
    "print(loaded_obj['obj'].__dict__)\n",
    "print(loaded_obj['obj1'].__dict__)"
   ]
  },
  {
   "cell_type": "code",
   "execution_count": 0,
   "metadata": {
    "application/vnd.databricks.v1+cell": {
     "cellMetadata": {},
     "inputWidgets": {},
     "nuid": "18d545eb-f007-493c-a835-968c7f04e6a0",
     "showTitle": false,
     "title": ""
    }
   },
   "outputs": [],
   "source": [
    "#jinesh's way\n",
    "class Myclass:\n",
    "    def __init__(self,value1,valye2):\n",
    "        self.value=value1\n",
    "        self.value2=valye2\n",
    "obj1= Myclass(42,'asdhkasd')\n",
    "obj2=Myclass(123,'dsjkhkjhsdkhdaskjhd')\n",
    "obj3=Myclass(2123,'d422sjkhkjhsdkhdaskjhd')\n",
    "np.savez('mycustom.npz',obj1=obj1,obj2=obj2,obj3=obj3)\n",
    "\n",
    "loaded_temp_obj=np.load('mycustom.npz',allow_pickle=True)\n",
    "loaded_obj1=loaded_temp_obj['obj2'].item()\n",
    "print(loaded_obj1.__dict__)"
   ]
  },
  {
   "cell_type": "code",
   "execution_count": 0,
   "metadata": {
    "application/vnd.databricks.v1+cell": {
     "cellMetadata": {},
     "inputWidgets": {},
     "nuid": "a6061652-4e26-44f5-aa4b-cf70ccd1c23f",
     "showTitle": false,
     "title": ""
    }
   },
   "outputs": [],
   "source": [
    "#jinesh\n",
    "import numpy as np\n",
    "class Myclass:\n",
    "    def __init__(self,value1,valye2):\n",
    "        self.value=value1\n",
    "        self.value2=valye2\n",
    "    \n",
    "obj= Myclass(42,'asdhkasd')\n",
    "np.save('abc.npy',obj)\n",
    "loaded_obj=np.load('abc.npy',allow_pickle=True)\n",
    "#print('jinaskdnklasd', loaded_obj)\n",
    "loaded_obj_type=loaded_obj.item()\n",
    "print(loaded_obj_type.value)"
   ]
  },
  {
   "cell_type": "code",
   "execution_count": 0,
   "metadata": {
    "application/vnd.databricks.v1+cell": {
     "cellMetadata": {},
     "inputWidgets": {},
     "nuid": "372406fe-7e3f-4fdf-8ee1-dc2c2fabbc51",
     "showTitle": false,
     "title": ""
    }
   },
   "outputs": [],
   "source": [
    "import numpy as np\n",
    "#a = np.array([1,2,3],[4,5,6]) # it will give error as The elements of the array should be enclosed in a single set of square brackets. \n",
    "a = np.array([[1,2,3],[4,5,6]])  # The correct syntax should be like this\n",
    "b = a.reshape(3,2)\n",
    "print(b)"
   ]
  },
  {
   "cell_type": "code",
   "execution_count": 0,
   "metadata": {
    "application/vnd.databricks.v1+cell": {
     "cellMetadata": {},
     "inputWidgets": {},
     "nuid": "86d7d0f0-3413-4f6f-b479-5d6a779c0217",
     "showTitle": false,
     "title": ""
    }
   },
   "outputs": [],
   "source": [
    "                       # PANDAS   vs   Numpy\n",
    "# NumPy is mainly used for numerical and scientific computations. It provides a powerful N-dimensional array object, \n",
    "#tools for integrating C/C++ and Fortran code, and functions for linear algebra, Fourier analysis, and random number generation.\n",
    "\n",
    "#Pandas, on the other hand, is built on top of NumPy and provides high-level data manipulation tools for working with structured data. \n",
    "#It provides a DataFrame object for handling tabular data, as well as tools for reading and writing data from/to various data sources, \n",
    "#data alignment, reshaping, slicing, indexing, grouping, and aggregating data, and handling missing data.\n",
    "\n",
    "#In summary, NumPy is more focused on numerical computations, while Pandas is more focused on data manipulation and analysis."
   ]
  },
  {
   "cell_type": "code",
   "execution_count": 0,
   "metadata": {
    "application/vnd.databricks.v1+cell": {
     "cellMetadata": {},
     "inputWidgets": {},
     "nuid": "e004889a-d2f8-4f06-bf5a-ad5e28cafd53",
     "showTitle": false,
     "title": ""
    }
   },
   "outputs": [],
   "source": [
    "pip install pandas"
   ]
  },
  {
   "cell_type": "code",
   "execution_count": 0,
   "metadata": {
    "application/vnd.databricks.v1+cell": {
     "cellMetadata": {},
     "inputWidgets": {},
     "nuid": "7f40c679-59d4-4a60-b7e9-8030c534b956",
     "showTitle": false,
     "title": ""
    }
   },
   "outputs": [],
   "source": [
    "import pandas as pd\n",
    "s=pd.Series([1,2.2,3,9.35])\n",
    "s\n",
    "s[1]"
   ]
  },
  {
   "cell_type": "code",
   "execution_count": 0,
   "metadata": {
    "application/vnd.databricks.v1+cell": {
     "cellMetadata": {},
     "inputWidgets": {},
     "nuid": "f3c03749-edee-4dc5-a6d5-681e0bbb5bc7",
     "showTitle": false,
     "title": ""
    }
   },
   "outputs": [],
   "source": [
    "# renaming the indexes\n",
    "s=pd.Series([1,2.2,3,9.35],index=['a','b','c','d'])\n",
    "s"
   ]
  },
  {
   "cell_type": "code",
   "execution_count": 0,
   "metadata": {
    "application/vnd.databricks.v1+cell": {
     "cellMetadata": {},
     "inputWidgets": {},
     "nuid": "c860152e-9adc-4fcd-90c3-de0947787225",
     "showTitle": false,
     "title": ""
    }
   },
   "outputs": [],
   "source": [
    "# accessing data\n",
    "s['a']"
   ]
  },
  {
   "cell_type": "code",
   "execution_count": 0,
   "metadata": {
    "application/vnd.databricks.v1+cell": {
     "cellMetadata": {},
     "inputWidgets": {},
     "nuid": "b9720a12-52a1-400a-9af4-5c7a1d5a3a67",
     "showTitle": false,
     "title": ""
    }
   },
   "outputs": [],
   "source": [
    "# to check the indexes specified\n",
    "#to access the data using indexes\n",
    "print(s.index)\n",
    "print(s['a':'c'])"
   ]
  },
  {
   "cell_type": "code",
   "execution_count": 0,
   "metadata": {
    "application/vnd.databricks.v1+cell": {
     "cellMetadata": {},
     "inputWidgets": {},
     "nuid": "7420e4e7-c800-44a9-a392-8d45160a2186",
     "showTitle": false,
     "title": ""
    }
   },
   "outputs": [],
   "source": [
    "import numpy\n",
    "\n",
    "def arrays(arr):\n",
    "    # complete this function\n",
    "    # use numpy.array\n",
    "    array=numpy.array(arr,float)\n",
    "    return numpy.flip(array)    # to reverse an array\n",
    "arr = input().strip().split(' ')\n",
    "result = arrays(arr)\n",
    "print(result)   # input 1 2 3 4 5 "
   ]
  },
  {
   "cell_type": "code",
   "execution_count": 0,
   "metadata": {
    "application/vnd.databricks.v1+cell": {
     "cellMetadata": {},
     "inputWidgets": {},
     "nuid": "e25a008d-dc09-4f3b-93b6-212d1b860aa4",
     "showTitle": false,
     "title": ""
    }
   },
   "outputs": [],
   "source": [
    "# summin two tabular data by the indexes\n",
    "import pandas as pd\n",
    "s1=pd.Series([1,2,3],index=['a','b','c'])\n",
    "s2=pd.Series([4,5,6],index=['a','b','d'])\n",
    "print(s1+s2)  # here it shows the uncommon indexes result is NaN ( not a number);represents undefined data or value/when data is missing\n",
    "s1.add(s2,fill_value=0)"
   ]
  },
  {
   "cell_type": "code",
   "execution_count": 0,
   "metadata": {
    "application/vnd.databricks.v1+cell": {
     "cellMetadata": {},
     "inputWidgets": {},
     "nuid": "5dcfe0d7-75b7-435f-857a-54a789435c1e",
     "showTitle": false,
     "title": ""
    }
   },
   "outputs": [],
   "source": [
    "# to convert the data stored in Series in Pandas to Numpy Array to perform mathematical operations\n",
    "# Series is a one dimensional array-like object- that may contain integers,strings,floats\n",
    "# the data stored in series is similar to a column in spreadsheet or a sql table\n",
    "s1.values\n",
    "##"
   ]
  },
  {
   "cell_type": "code",
   "execution_count": 0,
   "metadata": {
    "application/vnd.databricks.v1+cell": {
     "cellMetadata": {},
     "inputWidgets": {},
     "nuid": "80b312e3-ca5c-4ee4-bbfb-89e3958e197d",
     "showTitle": false,
     "title": ""
    }
   },
   "outputs": [],
   "source": [
    "s2=pd.Series([4,5,6],index=['a','b','d'])\n",
    "s2.values\n",
    "np.sum(s2)"
   ]
  },
  {
   "cell_type": "code",
   "execution_count": 0,
   "metadata": {
    "application/vnd.databricks.v1+cell": {
     "cellMetadata": {},
     "inputWidgets": {},
     "nuid": "8744f6ac-59fc-4d0f-a44f-ee9f900ad7fd",
     "showTitle": false,
     "title": ""
    }
   },
   "outputs": [],
   "source": [
    "s2=pd.Series(['rovan','rov','df'],index=['a','b','d']) # here it shows the data type as object not string as the array data is stored either in integers or objects\n",
    "s2.values"
   ]
  },
  {
   "cell_type": "code",
   "execution_count": 0,
   "metadata": {
    "application/vnd.databricks.v1+cell": {
     "cellMetadata": {},
     "inputWidgets": {},
     "nuid": "5aeb5f59-8138-4bc4-81f1-d85b33aa31e9",
     "showTitle": false,
     "title": ""
    }
   },
   "outputs": [],
   "source": [
    "#lina's\n",
    "from plotnine.data import economics\n",
    "\n",
    "economics\n",
    "# pce = personal consumption expenditure (bilions US$)\n",
    "# pop = total population (thousands)\n",
    "# psavert = personal savings rate\n",
    "# uempmed = median unemployment duration (weeks)\n",
    "# unemploy = number of unemployed (thousands)"
   ]
  },
  {
   "cell_type": "code",
   "execution_count": 0,
   "metadata": {
    "application/vnd.databricks.v1+cell": {
     "cellMetadata": {},
     "inputWidgets": {},
     "nuid": "3755ca3b-d2ac-46b0-baaa-74d8b15ccfb1",
     "showTitle": false,
     "title": ""
    }
   },
   "outputs": [],
   "source": [
    "s1=pd.Series([1,2,3],index=['a','b','c'])\n",
    "print(s1)\n",
    "# here we want to add a header to the columns and add more columns as well..\n",
    "# so by using dictionary to specify the key(the column header) and the values (data for each column)' using DataFrame from pandas lib\n",
    "#why not using Series? because series is one dimensional array not 2D\n",
    "# DataFrame is a collection of Series, and each column in a DataFrame is represented as a Series.\n",
    "import numpy as np\n",
    "df1=pd.DataFrame({'customer':['rovan','rov','rovy'],'balance':['123','456','789'],'age':[22,27,25]},index=('a','b','c'))\n",
    "df1\n"
   ]
  },
  {
   "cell_type": "code",
   "execution_count": 0,
   "metadata": {
    "application/vnd.databricks.v1+cell": {
     "cellMetadata": {},
     "inputWidgets": {},
     "nuid": "3a26ca6f-ca32-4a71-8cc7-360c46970820",
     "showTitle": false,
     "title": ""
    }
   },
   "outputs": [],
   "source": [
    "# if there is ay missing/undefined data, we can use NaN from Numpy library\n",
    "df1=pd.DataFrame({'customer':['rovan','rov','rovy'],'balance':[123,456,789],'age':[22,27,np.NaN]})\n",
    "df1"
   ]
  },
  {
   "cell_type": "code",
   "execution_count": 0,
   "metadata": {
    "application/vnd.databricks.v1+cell": {
     "cellMetadata": {},
     "inputWidgets": {},
     "nuid": "d665b82a-76fd-425b-83bd-2e3e6b9f043c",
     "showTitle": false,
     "title": ""
    }
   },
   "outputs": [],
   "source": [
    "# getting the type of each series\n",
    "print(df1['customer']) # here we get the data type is object; the data in this series is object\n",
    "print(df1['age'])   # here the data type in this Series is int ; which shows that Pandas can store non-humogeneous data unlike Numpy\n",
    "print(type(df1))   # here the data type is dataframe\n",
    "print(type(df1['customer'])) # here the data type is series; Each column in a DataFrame is represented as a Series which is a 1-dimensional labeled array-like structure that can contain any data type.\n",
    "print(df1.dtypes)  # to get the data type of each column/series"
   ]
  },
  {
   "cell_type": "code",
   "execution_count": 0,
   "metadata": {
    "application/vnd.databricks.v1+cell": {
     "cellMetadata": {},
     "inputWidgets": {},
     "nuid": "f8c9e805-93f9-4544-964b-81ed2d6da3f2",
     "showTitle": false,
     "title": ""
    }
   },
   "outputs": [],
   "source": [
    "s=pd.Series({'customer':['rovan','rov','rovy'],'balance':[123,456,789],'age':[22,27,np.NaN]}) # observe the result here... that;s why we use dataframe\n",
    "s"
   ]
  },
  {
   "cell_type": "code",
   "execution_count": 0,
   "metadata": {
    "application/vnd.databricks.v1+cell": {
     "cellMetadata": {},
     "inputWidgets": {},
     "nuid": "312f6f1d-9467-4df0-b631-762c1de0919a",
     "showTitle": false,
     "title": ""
    }
   },
   "outputs": [],
   "source": [
    "# read data file\n",
    "# OPEID is simply a column label or name that refers to a column in a DataFrame. The data type of the OPEID column would depend on the data stored in that column.\n",
    "#If the OPEID column contains unique identifiers for institutions that participate in federal student aid programs in the United States,\n",
    "# then the data type of that column might be a string or object, since the OPEID typically consists of a six-digit number that is assigned as a string.\n",
    "import pandas as pd\n",
    "df = pd.read_csv('college_scorecard_2017-18.csv',dtype={'OPEID':str})\n",
    "#df = pd.read_csv(\"from Jinesh\\college_scorecard_2017-18.zip\",dtype={'OPEID':str})  # df = pd.read_csv(file_path, dtype={'OPEID': str})\n",
    "print(df.info())\n",
    "df.head()\n",
    "#df.info # shows the data in each column but not efficient\n",
    "df.shape  # here it shows the number of rows/entries and the number of columns\n",
    "# access first column of the first 5 rows\n",
    "print(df.iloc[:5,0])\n",
    "df.index  # if you want to know the range of the indexing for accessing the data you need  later\n",
    "df.columns # to get the column names in the file\n"
   ]
  },
  {
   "cell_type": "code",
   "execution_count": 0,
   "metadata": {
    "application/vnd.databricks.v1+cell": {
     "cellMetadata": {},
     "inputWidgets": {},
     "nuid": "a8e63ff4-872f-4a67-833b-a4064d868376",
     "showTitle": false,
     "title": ""
    }
   },
   "outputs": [],
   "source": []
  },
  {
   "cell_type": "code",
   "execution_count": 0,
   "metadata": {
    "application/vnd.databricks.v1+cell": {
     "cellMetadata": {},
     "inputWidgets": {},
     "nuid": "5a1cd463-2bcc-40fd-8fc9-3c614275b467",
     "showTitle": false,
     "title": ""
    }
   },
   "outputs": [],
   "source": [
    "opeid='01234567'\n",
    "opeid=int('012234567')\n",
    "opeid"
   ]
  },
  {
   "cell_type": "code",
   "execution_count": 0,
   "metadata": {
    "application/vnd.databricks.v1+cell": {
     "cellMetadata": {},
     "inputWidgets": {},
     "nuid": "ede17661-83a5-49e6-a94c-b0c7667b3b59",
     "showTitle": false,
     "title": ""
    }
   },
   "outputs": [],
   "source": [
    "df1.info()  # it shows all the columns and their data type\n",
    "#df1.info # here it shows the data in each column; not efficient .. to use df1.head() is better\n",
    "df1.head()  "
   ]
  },
  {
   "cell_type": "code",
   "execution_count": 0,
   "metadata": {
    "application/vnd.databricks.v1+cell": {
     "cellMetadata": {},
     "inputWidgets": {},
     "nuid": "4eae8c8f-ad32-464a-8ae5-da9a9b6e6fad",
     "showTitle": false,
     "title": ""
    }
   },
   "outputs": [],
   "source": [
    "pip install lxml"
   ]
  },
  {
   "cell_type": "code",
   "execution_count": 0,
   "metadata": {
    "application/vnd.databricks.v1+cell": {
     "cellMetadata": {},
     "inputWidgets": {},
     "nuid": "734d837a-6b89-4b83-9ff0-4311925a0399",
     "showTitle": false,
     "title": ""
    }
   },
   "outputs": [],
   "source": [
    "# reading table contents from an URL with HTML source\n",
    "import pandas as pd\n",
    "\n",
    "url = \"https://en.wikipedia.org/w/index.php?title=World_population&oldid=948301297\"\n",
    "# the above URL is an example from the UCI Machine Learning Repository, containing the Iris dataset\n",
    "\n",
    "df = pd.read_html(url)\n",
    "df3 = df[22]  # here you specify the table number you want to retrieve in an url with HTML source\n",
    "#print(df3)\n",
    "#df[1].head()\n",
    "df3.head()\n",
    "#df3.index\n"
   ]
  },
  {
   "cell_type": "code",
   "execution_count": 0,
   "metadata": {
    "application/vnd.databricks.v1+cell": {
     "cellMetadata": {},
     "inputWidgets": {},
     "nuid": "928f8587-877e-42e3-acb1-777766503b7a",
     "showTitle": false,
     "title": ""
    }
   },
   "outputs": [],
   "source": [
    "#to get all the table indexes in a web page \n",
    "tables = pd.read_html(url, match='.*')\n",
    "#print(tables)\n",
    "# `tables` is a list of DataFrames, one for each table on the page\n",
    "for i, df in enumerate(tables):\n",
    "    print(f'Table {i}:')\n",
    "    df.head()"
   ]
  },
  {
   "cell_type": "code",
   "execution_count": 0,
   "metadata": {
    "application/vnd.databricks.v1+cell": {
     "cellMetadata": {},
     "inputWidgets": {},
     "nuid": "ed964d53-0467-4b9b-846f-9b589867ca5b",
     "showTitle": false,
     "title": ""
    }
   },
   "outputs": [],
   "source": []
  },
  {
   "cell_type": "code",
   "execution_count": 0,
   "metadata": {
    "application/vnd.databricks.v1+cell": {
     "cellMetadata": {},
     "inputWidgets": {},
     "nuid": "8b3c9c1f-240c-41ae-85a0-2c843b0c3291",
     "showTitle": false,
     "title": ""
    }
   },
   "outputs": [],
   "source": [
    "# trying to put the url in HTML\n",
    "url = \"https://en.wikipedia.org/w/index.php?title=World_population&oldid=948301297\"\n",
    "# the above URL is an example from the UCI Machine Learning Repository, containing the Iris dataset\n",
    "df = pd.read_html(url)\n",
    "df.index\n",
    "print(df)\n",
    "df[5].head()"
   ]
  },
  {
   "cell_type": "code",
   "execution_count": 0,
   "metadata": {
    "application/vnd.databricks.v1+cell": {
     "cellMetadata": {},
     "inputWidgets": {},
     "nuid": "b79b5a0a-e795-49e4-ac0e-c0e78d279b7e",
     "showTitle": false,
     "title": ""
    }
   },
   "outputs": [],
   "source": [
    "#using Lambda to call the function immediately instead of writing def functions\n",
    "#lambda is a keyword that is used to define a small, anonymous function.\n",
    "# It is also known as an anonymous function or a lambda function. It is a way to create a function without a name and can be defined in a single line of code.\n",
    "# the Lambda syntax:   lambda arguments: expression\n",
    "# Lambda can be used to filter,map or reduce a list of data in short period of time\n",
    "# The lambda function takes a single argument x which represents each item in the list \n",
    "\n",
    "b=lambda x,y:x+y  # anonymous functions\n",
    "result=b(6,5)\n",
    "print(result)"
   ]
  },
  {
   "cell_type": "code",
   "execution_count": 0,
   "metadata": {
    "application/vnd.databricks.v1+cell": {
     "cellMetadata": {},
     "inputWidgets": {},
     "nuid": "75b0039b-8379-4272-9a03-907cd1371db3",
     "showTitle": false,
     "title": ""
    }
   },
   "outputs": [],
   "source": [
    "product=lambda x,y:x*y\n",
    "result=product(3,2)\n",
    "print(result)"
   ]
  },
  {
   "cell_type": "code",
   "execution_count": 0,
   "metadata": {
    "application/vnd.databricks.v1+cell": {
     "cellMetadata": {},
     "inputWidgets": {},
     "nuid": "2cae3de5-48dc-4f0c-9aed-71b1a033f037",
     "showTitle": false,
     "title": ""
    }
   },
   "outputs": [],
   "source": [
    "#putting the lambda and the input in one line\n",
    "print((lambda x:x if(x>10) else 10)(5))"
   ]
  },
  {
   "cell_type": "code",
   "execution_count": 0,
   "metadata": {
    "application/vnd.databricks.v1+cell": {
     "cellMetadata": {},
     "inputWidgets": {},
     "nuid": "dda070dc-e70f-4932-984d-713b9c5eefa7",
     "showTitle": false,
     "title": ""
    }
   },
   "outputs": [],
   "source": [
    "# Trickyyyyyyyyyy\n",
    "print((lambda x:x*10 if x>10 else (x*5 if x<5 else x))(6))"
   ]
  },
  {
   "cell_type": "code",
   "execution_count": 0,
   "metadata": {
    "application/vnd.databricks.v1+cell": {
     "cellMetadata": {},
     "inputWidgets": {},
     "nuid": "5f3c28ea-1f15-46ff-bf22-e08db9e3a111",
     "showTitle": false,
     "title": ""
    }
   },
   "outputs": [],
   "source": [
    "# filtering a data\n",
    "# Define a list of numbers\n",
    "numbers = [1, 2, 3, 4, 5]\n",
    "\n",
    "# Use filter() and a lambda function to filter out the even numbers from the list\n",
    "evens = list(filter(lambda x: x % 2 == 0, numbers))  # it should be put in a list or tuple to be able to see the updated dataset\n",
    "\n",
    "# Print the even numbers\n",
    "print(evens)\n"
   ]
  },
  {
   "cell_type": "code",
   "execution_count": 0,
   "metadata": {
    "application/vnd.databricks.v1+cell": {
     "cellMetadata": {},
     "inputWidgets": {},
     "nuid": "f5c264e9-35a9-4615-b5bd-dcc2255d7d5e",
     "showTitle": false,
     "title": ""
    }
   },
   "outputs": [],
   "source": [
    "# sorting data using Lambda function\n",
    "lst = [(1, 4), (2, 3), (3, 2), (4, 1)]\n",
    "sorted_lst = sorted(lst, key=lambda x: x[1])\n",
    "print(sorted_lst)\n",
    "# Output: [(4, 1), (3, 2), (2, 3), (1, 4)]\n"
   ]
  },
  {
   "cell_type": "code",
   "execution_count": 0,
   "metadata": {
    "application/vnd.databricks.v1+cell": {
     "cellMetadata": {},
     "inputWidgets": {},
     "nuid": "ac456185-1377-4cfd-a827-1f6a13d73a8b",
     "showTitle": false,
     "title": ""
    }
   },
   "outputs": [],
   "source": [
    "# using map() to perform operation on each value of the data set\n",
    "# Define a list of numbers\n",
    "numbers = [1, 2, 3, 4, 5]\n",
    "\n",
    "# Use map() and a lambda function to square each number in the list\n",
    "squared = tuple(map(lambda x: x ** 2, numbers))\n",
    "sq=list(map(lambda x: {x: 'a'} if(x%2 ==0) else x, numbers))\n",
    "# Print the squared list\n",
    "print(squared)\n",
    "print(sq)\n"
   ]
  },
  {
   "cell_type": "code",
   "execution_count": 0,
   "metadata": {
    "application/vnd.databricks.v1+cell": {
     "cellMetadata": {},
     "inputWidgets": {},
     "nuid": "dcc60e40-57be-4b39-ae26-1970d14324cd",
     "showTitle": false,
     "title": ""
    }
   },
   "outputs": [],
   "source": [
    "# using map to a dataframe object\n",
    "\n",
    "import numpy as np\n",
    "df=pd.DataFrame({'A':[1,2,3,4],'B':['rv','ef','fes',np.NAN]})\n",
    "df.head()\n",
    "df['C']=df['A'].map(lambda x:x*2) # adding column using map\n",
    "df.head()\n",
    "#print(display(df))\n"
   ]
  },
  {
   "cell_type": "code",
   "execution_count": 0,
   "metadata": {
    "application/vnd.databricks.v1+cell": {
     "cellMetadata": {},
     "inputWidgets": {},
     "nuid": "af85eed5-daf5-415a-b600-fdacc3cc2f6f",
     "showTitle": false,
     "title": ""
    }
   },
   "outputs": [],
   "source": [
    "# using .apply() instead of .map()\n",
    "# map() is a Series method, while apply() is both a Series and DataFrame method.\n",
    "# map() can only be used with a function that takes a single value as input, while apply() can be used with functions that take one or more values as input.\n",
    "# map() applies the function element-wise to each value in the Series, while apply() applies the function along a specified axis of a DataFrame or Series.\n",
    "import numpy as np\n",
    "df=pd.DataFrame({'A':[1,2,3,4],'B':['rv','ef','fes',np.NAN]})\n",
    "df.head()\n",
    "df['C']=df['A'].apply(lambda x:x*2 if x>3 else x) # adding column using apply with specific constraints\n",
    "df.head()"
   ]
  },
  {
   "cell_type": "code",
   "execution_count": 0,
   "metadata": {
    "application/vnd.databricks.v1+cell": {
     "cellMetadata": {},
     "inputWidgets": {},
     "nuid": "5d66792e-3e27-474d-9103-6edc9581e3c7",
     "showTitle": false,
     "title": ""
    }
   },
   "outputs": [],
   "source": [
    "# using map() and Series() in Series data\n",
    "ff=pd.Series([1,2,3,4])\n",
    "ss=pd.Series([1,2,3,4])\n",
    "f=ff.apply(lambda x: x * 2)  # map can also be used\n",
    "f"
   ]
  },
  {
   "cell_type": "code",
   "execution_count": 0,
   "metadata": {
    "application/vnd.databricks.v1+cell": {
     "cellMetadata": {},
     "inputWidgets": {},
     "nuid": "cde23c58-e04a-4f32-8142-65fc6c673744",
     "showTitle": false,
     "title": ""
    }
   },
   "outputs": [],
   "source": [
    "# using map() or apply() in DataFrame objects\n",
    "fff=pd.DataFrame([1,2,3,4,5])\n",
    "fff.head()\n",
    "f=fff.apply(lambda x: x * 2)\n",
    "#f=fff.map(lambda x: x * 2)   # here it gives error because map() can't be used in Dataframe objects\n",
    "f"
   ]
  },
  {
   "cell_type": "code",
   "execution_count": 0,
   "metadata": {
    "application/vnd.databricks.v1+cell": {
     "cellMetadata": {},
     "inputWidgets": {},
     "nuid": "a2ca9e2b-1e28-468c-9550-66af8888df8e",
     "showTitle": false,
     "title": ""
    }
   },
   "outputs": [],
   "source": [
    "#using lambda with multiple parameters\n",
    "sum1=lambda *args : sum(*args)\n",
    "print(sum1([1,2,3,4]))"
   ]
  },
  {
   "cell_type": "code",
   "execution_count": 0,
   "metadata": {
    "application/vnd.databricks.v1+cell": {
     "cellMetadata": {},
     "inputWidgets": {},
     "nuid": "579e571a-059b-4c55-b850-d21730568afb",
     "showTitle": false,
     "title": ""
    }
   },
   "outputs": [],
   "source": [
    "multiply=lambda x,*args , **kwargs: x * sum(args)*kwargs['multiplier']\n",
    "print(multiply(2,1,2,3,multiplier=3))"
   ]
  },
  {
   "cell_type": "code",
   "execution_count": 0,
   "metadata": {
    "application/vnd.databricks.v1+cell": {
     "cellMetadata": {},
     "inputWidgets": {},
     "nuid": "caf06de9-ea7a-4145-9b5a-65eebe16b34e",
     "showTitle": false,
     "title": ""
    }
   },
   "outputs": [],
   "source": [
    "create_dict = lambda **kwargs:kwargs\n",
    "print(create_dict(a=1,b=2,c=3, d=4))"
   ]
  },
  {
   "cell_type": "code",
   "execution_count": 0,
   "metadata": {
    "application/vnd.databricks.v1+cell": {
     "cellMetadata": {},
     "inputWidgets": {},
     "nuid": "bcebac89-50eb-4f03-ab00-ba327f212975",
     "showTitle": false,
     "title": ""
    }
   },
   "outputs": [],
   "source": [
    "mutiply = lambda x , *args, **kwargs: x * sum(args) * kwargs['multiplier']\n",
    "print(mutiply(2,1,2,3,multiplier =3))   # here the first arg is x=2 , then *args= 1,2,3 ,then keyword argument=3"
   ]
  },
  {
   "cell_type": "code",
   "execution_count": 0,
   "metadata": {
    "application/vnd.databricks.v1+cell": {
     "cellMetadata": {},
     "inputWidgets": {},
     "nuid": "840ff3c8-6346-4bea-8a49-66903c2558a9",
     "showTitle": false,
     "title": ""
    }
   },
   "outputs": [],
   "source": [
    "# using reduce()\n",
    "from functools import reduce\n",
    "\n",
    "# Define a list of numbers\n",
    "numbers = [1, 2, 3, 4, 5]\n",
    "#print(numbers[ :2])  # gives [1,2]\n",
    "# Use reduce() and a lambda function to calculate the product of the numbers in the list\n",
    "product = reduce(lambda x, y: x * y, numbers)   # here we don;t need to put it in a list or tuple as it is reduced to one value\n",
    "\n",
    "# Print the product\n",
    "print(product)\n"
   ]
  },
  {
   "cell_type": "code",
   "execution_count": 0,
   "metadata": {
    "application/vnd.databricks.v1+cell": {
     "cellMetadata": {},
     "inputWidgets": {},
     "nuid": "4e422578-2a91-42dd-8dc8-64085183b013",
     "showTitle": false,
     "title": ""
    }
   },
   "outputs": [],
   "source": [
    "data=pd.read_csv('from Jinesh\\college_scorecard_2017-18.csv',dtype={'OPEID':str})\n",
    "data\n",
    "#sorting the data based on the city\n",
    "df_sorted = data.sort_values(by='CITY', ascending=True)\n",
    "df_sorted"
   ]
  },
  {
   "cell_type": "code",
   "execution_count": 0,
   "metadata": {
    "application/vnd.databricks.v1+cell": {
     "cellMetadata": {},
     "inputWidgets": {},
     "nuid": "e0dad18c-e13d-4768-bcd9-2deef7652703",
     "showTitle": false,
     "title": ""
    }
   },
   "outputs": [],
   "source": [
    "#if you want to show two columns data\n",
    "data[['CITY','INSTNM']].head()"
   ]
  },
  {
   "cell_type": "code",
   "execution_count": 0,
   "metadata": {
    "application/vnd.databricks.v1+cell": {
     "cellMetadata": {},
     "inputWidgets": {},
     "nuid": "9157a627-ae1b-4df8-9e4e-7c6a9d653f74",
     "showTitle": false,
     "title": ""
    }
   },
   "outputs": [],
   "source": [
    "filtering=data.loc[3] # to get the data for the fourth row for all columns\n",
    "filtering\n"
   ]
  },
  {
   "cell_type": "code",
   "execution_count": 0,
   "metadata": {
    "application/vnd.databricks.v1+cell": {
     "cellMetadata": {},
     "inputWidgets": {},
     "nuid": "af0a0c30-ea8f-48d1-90ea-0a917f4dff1a",
     "showTitle": false,
     "title": ""
    }
   },
   "outputs": [],
   "source": [
    "unique_=data['CITY'].unique()\n",
    "unique_"
   ]
  },
  {
   "cell_type": "code",
   "execution_count": 0,
   "metadata": {
    "application/vnd.databricks.v1+cell": {
     "cellMetadata": {},
     "inputWidgets": {},
     "nuid": "5697f8c7-494f-45ff-82f3-d31fd1a17dc9",
     "showTitle": false,
     "title": ""
    }
   },
   "outputs": [],
   "source": [
    "# filtering using loc and iloc(for indexing look up)\n",
    "# loc is used to access or modify DataFrame values by providing row and column labels as input. It takes two arguments:\n",
    "\n",
    "#The first argument is the row labels or indices you want to select.\n",
    "#The second argument is the column labels or names you want to select.\n",
    "#  loc can also be used to modify values in a DataFrame, not just access them.\n",
    "#allows you to access or modify specific rows and columns by integer-based indexing. iloc stands for \"integer location\".\n",
    "\n",
    "\n",
    "#iloc is used to access or modify DataFrame values by providing row and column positions as input. It takes two arguments:\n",
    "\n",
    "#The first argument is the row positions or indices you want to select.\n",
    "#The second argument is the column positions or indices you want to select.\n",
    "# Note that : iloc is different from loc in that it uses integer positions instead of label names.\n",
    "filtering=data.loc[3,'CITY']\n",
    "filtering"
   ]
  },
  {
   "cell_type": "code",
   "execution_count": 0,
   "metadata": {
    "application/vnd.databricks.v1+cell": {
     "cellMetadata": {},
     "inputWidgets": {},
     "nuid": "a8aea480-3d6d-4107-880d-626a177229bd",
     "showTitle": false,
     "title": ""
    }
   },
   "outputs": [],
   "source": [
    "data.loc[data['CITY']=='Normal']\n"
   ]
  },
  {
   "cell_type": "code",
   "execution_count": 0,
   "metadata": {
    "application/vnd.databricks.v1+cell": {
     "cellMetadata": {},
     "inputWidgets": {},
     "nuid": "a7293e67-9c9a-45f8-a4dc-c8fefd522cc9",
     "showTitle": false,
     "title": ""
    }
   },
   "outputs": [],
   "source": [
    "data.loc[data.CITY == 'Yuma'] # or like this"
   ]
  },
  {
   "cell_type": "code",
   "execution_count": 0,
   "metadata": {
    "application/vnd.databricks.v1+cell": {
     "cellMetadata": {},
     "inputWidgets": {},
     "nuid": "dc069984-1229-4c6d-89b2-de5c0b9905ef",
     "showTitle": false,
     "title": ""
    }
   },
   "outputs": [],
   "source": [
    "#loc enables you to modify the data as well\n",
    "#data.loc[data['CITY'] == 'Normal'] = 'Germany'\n",
    "data.loc[data['CITY'] == 'Germany']= 'Normal'"
   ]
  },
  {
   "cell_type": "code",
   "execution_count": 0,
   "metadata": {
    "application/vnd.databricks.v1+cell": {
     "cellMetadata": {},
     "inputWidgets": {},
     "nuid": "cb7d9da4-4532-4eb9-ab8c-ea15e8e93864",
     "showTitle": false,
     "title": ""
    }
   },
   "outputs": [],
   "source": [
    "# filtering data\n",
    "#display(data.loc[data['CITY']=='Normal'])  # df['CITY']=='Normal is a mask (a series returning True or False)\n"
   ]
  },
  {
   "cell_type": "code",
   "execution_count": 0,
   "metadata": {
    "application/vnd.databricks.v1+cell": {
     "cellMetadata": {},
     "inputWidgets": {},
     "nuid": "80f360dc-d65b-4915-aefe-f4a767ec9ff8",
     "showTitle": false,
     "title": ""
    }
   },
   "outputs": [],
   "source": [
    "## Filter the data using pandas functions\n",
    "filtered_df = df_sorted.loc[df_sorted['CITY'] =='Aberdeen']\n",
    "filtered_df\n",
    "# Save the filtered data to a new file\n",
    "filtered_df.to_csv('from Jinesh/filtered_data.csv', index=False)"
   ]
  },
  {
   "cell_type": "code",
   "execution_count": 0,
   "metadata": {
    "application/vnd.databricks.v1+cell": {
     "cellMetadata": {},
     "inputWidgets": {},
     "nuid": "098dcc9a-fdad-4b71-af44-7eb9481548c1",
     "showTitle": false,
     "title": ""
    }
   },
   "outputs": [],
   "source": [
    "data"
   ]
  },
  {
   "cell_type": "code",
   "execution_count": 0,
   "metadata": {
    "application/vnd.databricks.v1+cell": {
     "cellMetadata": {},
     "inputWidgets": {},
     "nuid": "ac6d5514-4abc-4889-9493-20ba552e77bb",
     "showTitle": false,
     "title": ""
    }
   },
   "outputs": [],
   "source": [
    "# get certain rows and columns\n",
    "Accessing=data.loc[[3,10],['INSTNM','ZIP']]\n",
    "Accessing"
   ]
  },
  {
   "cell_type": "code",
   "execution_count": 0,
   "metadata": {
    "application/vnd.databricks.v1+cell": {
     "cellMetadata": {},
     "inputWidgets": {},
     "nuid": "4ba2054c-5a72-43bb-b36e-cd1f46fe7675",
     "showTitle": false,
     "title": ""
    }
   },
   "outputs": [],
   "source": [
    "# iloc is for accessing rows and columns based on indexing\n",
    "# first arg: row index  second arg\" column index\n",
    "data.iloc[3,3]"
   ]
  },
  {
   "cell_type": "code",
   "execution_count": 0,
   "metadata": {
    "application/vnd.databricks.v1+cell": {
     "cellMetadata": {},
     "inputWidgets": {},
     "nuid": "3cdda0c9-42a7-414d-bf8e-712245a34aa7",
     "showTitle": false,
     "title": ""
    }
   },
   "outputs": [],
   "source": [
    "#data.loc[3,3] # here it gives error as loc is not for indexing look up\n",
    "data.loc[3,'CITY']\n"
   ]
  },
  {
   "cell_type": "code",
   "execution_count": 0,
   "metadata": {
    "application/vnd.databricks.v1+cell": {
     "cellMetadata": {},
     "inputWidgets": {},
     "nuid": "e87ad0ec-1686-45fc-9ffa-b2e550324ac1",
     "showTitle": false,
     "title": ""
    }
   },
   "outputs": [],
   "source": [
    "# setting new range of index labels that instead of the raw starts from zero,it will start from 1 which makes more sense and also the excel files starting from 1 not zero\n",
    "new_index=pd.RangeIndex(1,len(data)+1)\n",
    "new_index_data=data.set_index(new_index).head()\n",
    "new_index_data"
   ]
  },
  {
   "cell_type": "code",
   "execution_count": 0,
   "metadata": {
    "application/vnd.databricks.v1+cell": {
     "cellMetadata": {},
     "inputWidgets": {},
     "nuid": "52a25c3c-0187-4996-8b30-b6517c5b669d",
     "showTitle": false,
     "title": ""
    }
   },
   "outputs": [],
   "source": [
    "new_index"
   ]
  },
  {
   "cell_type": "code",
   "execution_count": 0,
   "metadata": {
    "application/vnd.databricks.v1+cell": {
     "cellMetadata": {},
     "inputWidgets": {},
     "nuid": "4786587d-8dea-4bf3-8322-35bd085968d3",
     "showTitle": false,
     "title": ""
    }
   },
   "outputs": [],
   "source": [
    "new_index_data.loc[3, :].head()"
   ]
  },
  {
   "cell_type": "code",
   "execution_count": 0,
   "metadata": {
    "application/vnd.databricks.v1+cell": {
     "cellMetadata": {},
     "inputWidgets": {},
     "nuid": "f8c28626-0fca-414b-9da6-6b73cf766634",
     "showTitle": false,
     "title": ""
    }
   },
   "outputs": [],
   "source": [
    "data.loc[3, :].head() # here it will show with the old row label"
   ]
  },
  {
   "cell_type": "code",
   "execution_count": 0,
   "metadata": {
    "application/vnd.databricks.v1+cell": {
     "cellMetadata": {},
     "inputWidgets": {},
     "nuid": "6170e709-2b1d-42aa-9943-94b4b88b9230",
     "showTitle": false,
     "title": ""
    }
   },
   "outputs": [],
   "source": [
    "new_index_data.iloc[3, :].head() # here it will not change as iloc depends on the indexing not labels"
   ]
  },
  {
   "cell_type": "code",
   "execution_count": 0,
   "metadata": {
    "application/vnd.databricks.v1+cell": {
     "cellMetadata": {},
     "inputWidgets": {},
     "nuid": "3e3f713e-8176-4030-b5e9-c8199935e378",
     "showTitle": false,
     "title": ""
    }
   },
   "outputs": [],
   "source": [
    "# setting a column name to be the index\n",
    "data_city_index=data.set_index('CITY')\n",
    "data_city_index.head()"
   ]
  },
  {
   "cell_type": "code",
   "execution_count": 0,
   "metadata": {
    "application/vnd.databricks.v1+cell": {
     "cellMetadata": {},
     "inputWidgets": {},
     "nuid": "b40b5771-1047-4844-b8a5-bfc641e7e117",
     "showTitle": false,
     "title": ""
    }
   },
   "outputs": [],
   "source": [
    "\n",
    "data_city_index.loc[data_city_index.index=='Montgomery'].head()"
   ]
  },
  {
   "cell_type": "code",
   "execution_count": 0,
   "metadata": {
    "application/vnd.databricks.v1+cell": {
     "cellMetadata": {},
     "inputWidgets": {},
     "nuid": "858b8056-02d4-483d-975f-bded1c4e2e16",
     "showTitle": false,
     "title": ""
    }
   },
   "outputs": [],
   "source": [
    "data = data.reset_index(drop=True)\n"
   ]
  },
  {
   "cell_type": "code",
   "execution_count": 0,
   "metadata": {
    "application/vnd.databricks.v1+cell": {
     "cellMetadata": {},
     "inputWidgets": {},
     "nuid": "c9509dec-37da-485d-a3b7-a68d07723da7",
     "showTitle": false,
     "title": ""
    }
   },
   "outputs": [],
   "source": [
    "data_renaming = data.rename(columns={'STABBR':'STATE'}) \n",
    "data_renaming\n"
   ]
  },
  {
   "cell_type": "code",
   "execution_count": 0,
   "metadata": {
    "application/vnd.databricks.v1+cell": {
     "cellMetadata": {},
     "inputWidgets": {},
     "nuid": "95380ae5-1893-4743-8222-a000ce120699",
     "showTitle": false,
     "title": ""
    }
   },
   "outputs": [],
   "source": [
    "data"
   ]
  },
  {
   "cell_type": "code",
   "execution_count": 0,
   "metadata": {
    "application/vnd.databricks.v1+cell": {
     "cellMetadata": {},
     "inputWidgets": {},
     "nuid": "d25c0c0b-cf6f-4bff-ba71-be031a043d6e",
     "showTitle": false,
     "title": ""
    }
   },
   "outputs": [],
   "source": [
    "data.set_index(['STATE','CITY']).loc['MN','Alexandria']   # setting the state and the city to be indexes labels which we can access from using loc"
   ]
  },
  {
   "cell_type": "code",
   "execution_count": 0,
   "metadata": {
    "application/vnd.databricks.v1+cell": {
     "cellMetadata": {},
     "inputWidgets": {},
     "nuid": "608a2334-5a85-421c-a812-63654b1c4f81",
     "showTitle": false,
     "title": ""
    }
   },
   "outputs": [],
   "source": [
    "data.set_index(['STATE','CITY']).loc['MN',:].loc['Bloomington',:]"
   ]
  },
  {
   "cell_type": "code",
   "execution_count": 0,
   "metadata": {
    "application/vnd.databricks.v1+cell": {
     "cellMetadata": {},
     "inputWidgets": {},
     "nuid": "04734ed7-2911-4e34-bf6b-bf172718c93f",
     "showTitle": false,
     "title": ""
    }
   },
   "outputs": [],
   "source": [
    "data_new=data"
   ]
  },
  {
   "cell_type": "code",
   "execution_count": 0,
   "metadata": {
    "application/vnd.databricks.v1+cell": {
     "cellMetadata": {},
     "inputWidgets": {},
     "nuid": "faa70336-9458-40fe-a407-3c8bc6ae8b57",
     "showTitle": false,
     "title": ""
    }
   },
   "outputs": [],
   "source": [
    "# axis =0 or axis='index  : means row\n",
    "# axis=1 or axis='columns' : means column\n",
    "# here we specify the type of the data we want to delete. is it column or row? using axis\n",
    "data_new=data_new.drop('CITY',axis='columns').head()  # here it will drop the column in the copy only not in the original data\n",
    "data_new"
   ]
  },
  {
   "cell_type": "code",
   "execution_count": 0,
   "metadata": {
    "application/vnd.databricks.v1+cell": {
     "cellMetadata": {},
     "inputWidgets": {},
     "nuid": "0ff241d7-3797-4ae1-8392-2322c800d716",
     "showTitle": false,
     "title": ""
    }
   },
   "outputs": [],
   "source": [
    "data_new = data_new.drop(index=1)\n",
    "data_new.head()"
   ]
  },
  {
   "cell_type": "code",
   "execution_count": 0,
   "metadata": {
    "application/vnd.databricks.v1+cell": {
     "cellMetadata": {},
     "inputWidgets": {},
     "nuid": "7feef58d-b3fb-4082-9c6d-79f784f48d4b",
     "showTitle": false,
     "title": ""
    }
   },
   "outputs": [],
   "source": [
    "data  # the city column is here' no change"
   ]
  },
  {
   "cell_type": "code",
   "execution_count": 0,
   "metadata": {
    "application/vnd.databricks.v1+cell": {
     "cellMetadata": {},
     "inputWidgets": {},
     "nuid": "9f328e39-5563-4502-b98d-9e43b8cc9bdf",
     "showTitle": false,
     "title": ""
    }
   },
   "outputs": [],
   "source": [
    "data_renaming.describe(include='all')"
   ]
  },
  {
   "cell_type": "code",
   "execution_count": 0,
   "metadata": {
    "application/vnd.databricks.v1+cell": {
     "cellMetadata": {},
     "inputWidgets": {},
     "nuid": "0da656e5-ab07-49eb-8a81-0f536fcb7373",
     "showTitle": false,
     "title": ""
    }
   },
   "outputs": [],
   "source": [
    "# to make sure that it has been dropped in the copied data\n",
    "# many ways to ensure that this column has been deleted\n",
    "'CITY' in data_new\n",
    "data_new.describe(include='all')\n",
    "data_new.info()\n",
    "data_new.columns"
   ]
  },
  {
   "cell_type": "code",
   "execution_count": 0,
   "metadata": {
    "application/vnd.databricks.v1+cell": {
     "cellMetadata": {},
     "inputWidgets": {},
     "nuid": "b67524d7-67f4-402a-92ba-c38661e3cc21",
     "showTitle": false,
     "title": ""
    }
   },
   "outputs": [],
   "source": [
    "#I am struggeling to drop by iloc:\n",
    "#drop by loc\n",
    "#works:\n",
    "df.set_index(\"OPEID\").drop(\"00105200\").head()\n",
    "#any chance anyone has a hint for iloc drop? like dropping first row after set index to non numeric?"
   ]
  },
  {
   "cell_type": "code",
   "execution_count": 0,
   "metadata": {
    "application/vnd.databricks.v1+cell": {
     "cellMetadata": {},
     "inputWidgets": {},
     "nuid": "da2db462-3a43-40d8-8405-0611868ab571",
     "showTitle": false,
     "title": ""
    }
   },
   "outputs": [],
   "source": [
    "data.describe(include='all')\n",
    "#print('Original number of rows:', len(data))\n",
    "\n"
   ]
  },
  {
   "cell_type": "code",
   "execution_count": 0,
   "metadata": {
    "application/vnd.databricks.v1+cell": {
     "cellMetadata": {},
     "inputWidgets": {},
     "nuid": "d94e40a2-bcd2-4fb3-ad52-d75e910ffb15",
     "showTitle": false,
     "title": ""
    }
   },
   "outputs": [],
   "source": [
    "data_dup=data_renaming.drop_duplicates(subset=['STATE','CITY'])  # remove the duplicate in a seperate file or use inplace= parameter\n",
    "\n",
    "print('Deduplicated number of rows:', len(data_dup))\n",
    "data_dup\n",
    "data_dup.describe(include='all')"
   ]
  },
  {
   "cell_type": "code",
   "execution_count": 0,
   "metadata": {
    "application/vnd.databricks.v1+cell": {
     "cellMetadata": {},
     "inputWidgets": {},
     "nuid": "2e22148a-04ed-4dc1-a907-d164134c94be",
     "showTitle": false,
     "title": ""
    }
   },
   "outputs": [],
   "source": [
    "data_dup.head()"
   ]
  },
  {
   "cell_type": "code",
   "execution_count": 0,
   "metadata": {
    "application/vnd.databricks.v1+cell": {
     "cellMetadata": {},
     "inputWidgets": {},
     "nuid": "b51e3974-e746-47a2-adab-740aec625ffa",
     "showTitle": false,
     "title": ""
    }
   },
   "outputs": [],
   "source": [
    "# storing the filtering in a variable to hold the True results \n",
    "ind= data_renaming['STATE'] == 'AL'\n",
    "ind"
   ]
  },
  {
   "cell_type": "code",
   "execution_count": 0,
   "metadata": {
    "application/vnd.databricks.v1+cell": {
     "cellMetadata": {},
     "inputWidgets": {},
     "nuid": "30d5d2e8-05ae-41cc-b87a-24484d1458d9",
     "showTitle": false,
     "title": ""
    }
   },
   "outputs": [],
   "source": [
    "data[ind]"
   ]
  },
  {
   "cell_type": "code",
   "execution_count": 0,
   "metadata": {
    "application/vnd.databricks.v1+cell": {
     "cellMetadata": {},
     "inputWidgets": {},
     "nuid": "ec054a67-d4cd-4093-93cb-f011abf7e600",
     "showTitle": false,
     "title": ""
    }
   },
   "outputs": [],
   "source": [
    "data_renaming[data_renaming['STATE']=='AL']  # option 2"
   ]
  },
  {
   "cell_type": "code",
   "execution_count": 0,
   "metadata": {
    "application/vnd.databricks.v1+cell": {
     "cellMetadata": {},
     "inputWidgets": {},
     "nuid": "48455867-6f04-4c87-95a6-d157fa907bf3",
     "showTitle": false,
     "title": ""
    }
   },
   "outputs": [],
   "source": [
    "data.loc[ind,'CITY']"
   ]
  },
  {
   "cell_type": "code",
   "execution_count": 0,
   "metadata": {
    "application/vnd.databricks.v1+cell": {
     "cellMetadata": {},
     "inputWidgets": {},
     "nuid": "ea81cbf2-a795-4d62-ab91-afc463bcbd6f",
     "showTitle": false,
     "title": ""
    }
   },
   "outputs": [],
   "source": [
    "data[(data['STATE'] == 'TX') & (data['CITY'] == 'McAllen')]"
   ]
  },
  {
   "cell_type": "code",
   "execution_count": 0,
   "metadata": {
    "application/vnd.databricks.v1+cell": {
     "cellMetadata": {},
     "inputWidgets": {},
     "nuid": "4c4cc246-d16c-4f10-a994-96b24beec3ce",
     "showTitle": false,
     "title": ""
    }
   },
   "outputs": [],
   "source": [
    "data[(data['STATE'] == 'AL') & (data['CITY'] == 'Normal')]"
   ]
  },
  {
   "cell_type": "code",
   "execution_count": 0,
   "metadata": {
    "application/vnd.databricks.v1+cell": {
     "cellMetadata": {},
     "inputWidgets": {},
     "nuid": "f9a71a07-f7f9-4841-bedd-45b147b13e42",
     "showTitle": false,
     "title": ""
    }
   },
   "outputs": [],
   "source": [
    "data_renaming.query('STATE == \"TX\" and CITY ==\"McAllen\"')"
   ]
  },
  {
   "cell_type": "code",
   "execution_count": 0,
   "metadata": {
    "application/vnd.databricks.v1+cell": {
     "cellMetadata": {},
     "inputWidgets": {},
     "nuid": "d3201cbf-0431-422c-985f-a61a1b03cf88",
     "showTitle": false,
     "title": ""
    }
   },
   "outputs": [],
   "source": [
    "data_sorted=data.sort_values(by='CITY',ascending=True)\n",
    "data_sorted"
   ]
  },
  {
   "cell_type": "code",
   "execution_count": 0,
   "metadata": {
    "application/vnd.databricks.v1+cell": {
     "cellMetadata": {},
     "inputWidgets": {},
     "nuid": "42986535-7fb7-47bc-b792-884e70f30279",
     "showTitle": false,
     "title": ""
    }
   },
   "outputs": [],
   "source": [
    "data_sorted['CITY']"
   ]
  },
  {
   "cell_type": "code",
   "execution_count": 0,
   "metadata": {
    "application/vnd.databricks.v1+cell": {
     "cellMetadata": {},
     "inputWidgets": {},
     "nuid": "e587de16-c70e-4a09-a129-57fcc0bf264c",
     "showTitle": false,
     "title": ""
    }
   },
   "outputs": [],
   "source": [
    "data"
   ]
  },
  {
   "cell_type": "code",
   "execution_count": 0,
   "metadata": {
    "application/vnd.databricks.v1+cell": {
     "cellMetadata": {},
     "inputWidgets": {},
     "nuid": "92bd4003-e638-4590-8229-0f80c576afbf",
     "showTitle": false,
     "title": ""
    }
   },
   "outputs": [],
   "source": [
    "data=pd.read_csv('data sets\\\\archive\\Handwashing with soap.csv',dtype={'Indicator':str,'Year':int,'Numeric':float})\n",
    "data\n",
    "# filtering the data for which country has the least hygienic measure?\n"
   ]
  },
  {
   "cell_type": "code",
   "execution_count": 0,
   "metadata": {
    "application/vnd.databricks.v1+cell": {
     "cellMetadata": {},
     "inputWidgets": {},
     "nuid": "d3e70f1e-9db0-4bb5-ba0a-084890d4e37d",
     "showTitle": false,
     "title": ""
    }
   },
   "outputs": [],
   "source": [
    "#sorting the data based on the Numeric\n",
    "df_sorted = data.sort_values(by='Numeric', ascending=True)\n",
    "df_sorted"
   ]
  },
  {
   "cell_type": "code",
   "execution_count": 0,
   "metadata": {
    "application/vnd.databricks.v1+cell": {
     "cellMetadata": {},
     "inputWidgets": {},
     "nuid": "2d3f42bc-bab2-4ef8-8988-ad20242961c7",
     "showTitle": false,
     "title": ""
    }
   },
   "outputs": [],
   "source": [
    "# Filter the data for year 2010\n",
    "filtered_df = data.loc[(data['Year']==2010)]\n",
    "filtered_df\n",
    "# Filter the data for the row with the max value in the 'Numeric' column\n",
    "max_value = filtered_df[filtered_df['Numeric']==filtered_df['Numeric'].max()]\n",
    "max_value\n"
   ]
  },
  {
   "cell_type": "code",
   "execution_count": 0,
   "metadata": {
    "application/vnd.databricks.v1+cell": {
     "cellMetadata": {},
     "inputWidgets": {},
     "nuid": "b5f5b996-70d7-4108-8d58-931612ff77f1",
     "showTitle": false,
     "title": ""
    }
   },
   "outputs": [],
   "source": [
    "max_value = data[data['Numeric']==data['Numeric'].max()]\n",
    "max_value        \n",
    "                                                                   "
   ]
  },
  {
   "cell_type": "code",
   "execution_count": 0,
   "metadata": {
    "application/vnd.databricks.v1+cell": {
     "cellMetadata": {},
     "inputWidgets": {},
     "nuid": "dec86b9a-3d59-4d33-9ac2-6ca5666cd539",
     "showTitle": false,
     "title": ""
    }
   },
   "outputs": [],
   "source": [
    "#data.info()\n",
    "#data['Country'].info()\n",
    "data['Country'].describe()\n",
    "data.describe(include='all')"
   ]
  },
  {
   "cell_type": "code",
   "execution_count": 0,
   "metadata": {
    "application/vnd.databricks.v1+cell": {
     "cellMetadata": {},
     "inputWidgets": {},
     "nuid": "b0068ee4-1758-4049-8acd-1444de2b0cb0",
     "showTitle": false,
     "title": ""
    }
   },
   "outputs": [],
   "source": [
    "print(data['Year'].isna().sum()) # This will print the number of NaN values in the \"year\" column.\n",
    "\n",
    "print(data.isna().sum()) # to see the number of NaN values in all the table columns"
   ]
  },
  {
   "cell_type": "code",
   "execution_count": 0,
   "metadata": {
    "application/vnd.databricks.v1+cell": {
     "cellMetadata": {},
     "inputWidgets": {},
     "nuid": "515fabe4-27b2-42b4-a3eb-ab3d043e84ee",
     "showTitle": false,
     "title": ""
    }
   },
   "outputs": [],
   "source": [
    "#filtering\n",
    "alabama_inst = data[data['STABBR'].isin(['AL'])]\n",
    "alabama_inst"
   ]
  },
  {
   "cell_type": "code",
   "execution_count": 0,
   "metadata": {
    "application/vnd.databricks.v1+cell": {
     "cellMetadata": {},
     "inputWidgets": {},
     "nuid": "2ca32279-f8e9-4026-923a-0faf6b4227d2",
     "showTitle": false,
     "title": ""
    }
   },
   "outputs": [],
   "source": [
    "# Remove the duplicate rows based on all columns\n",
    "data_dropDuplications= data.drop_duplicates()\n",
    "data_dropDuplications.info()"
   ]
  },
  {
   "cell_type": "code",
   "execution_count": 0,
   "metadata": {
    "application/vnd.databricks.v1+cell": {
     "cellMetadata": {},
     "inputWidgets": {},
     "nuid": "1744e55c-06ee-470f-8e52-cee64812f9b6",
     "showTitle": false,
     "title": ""
    }
   },
   "outputs": [],
   "source": [
    "data[['INSTNM','CITY']].head()"
   ]
  },
  {
   "cell_type": "code",
   "execution_count": 0,
   "metadata": {
    "application/vnd.databricks.v1+cell": {
     "cellMetadata": {},
     "inputWidgets": {},
     "nuid": "aafd8f3e-634c-46e8-adcd-b0209be22b49",
     "showTitle": false,
     "title": ""
    }
   },
   "outputs": [],
   "source": [
    "pip install openpyxl"
   ]
  },
  {
   "cell_type": "code",
   "execution_count": 0,
   "metadata": {
    "application/vnd.databricks.v1+cell": {
     "cellMetadata": {},
     "inputWidgets": {},
     "nuid": "e5d097d1-0166-4ba9-8333-b346538bf7bb",
     "showTitle": false,
     "title": ""
    }
   },
   "outputs": [],
   "source": [
    "# reading a file named AGI_zipcode..\n",
    "import pandas as pd\n",
    "\n",
    "# read Excel file\n",
    "data_ZipCode = pd.read_excel('from Jinesh\\AGI_zipcode_2016.xlsx',dtype={'zipcode':str})\n",
    "data_ZipCode"
   ]
  },
  {
   "cell_type": "code",
   "execution_count": 0,
   "metadata": {
    "application/vnd.databricks.v1+cell": {
     "cellMetadata": {},
     "inputWidgets": {},
     "nuid": "682d3807-90ec-4f22-bdf5-ca947feb9528",
     "showTitle": false,
     "title": ""
    }
   },
   "outputs": [],
   "source": []
  },
  {
   "cell_type": "code",
   "execution_count": 0,
   "metadata": {
    "application/vnd.databricks.v1+cell": {
     "cellMetadata": {},
     "inputWidgets": {},
     "nuid": "6c13d188-74f4-40a2-a963-37199a2586f9",
     "showTitle": false,
     "title": ""
    }
   },
   "outputs": [],
   "source": [
    "data\n",
    "# here we have the ZIP column and we have in the previous file the ZIP code"
   ]
  },
  {
   "cell_type": "code",
   "execution_count": 0,
   "metadata": {
    "application/vnd.databricks.v1+cell": {
     "cellMetadata": {},
     "inputWidgets": {},
     "nuid": "876e478e-3a54-4847-a541-f15a61a2c94f",
     "showTitle": false,
     "title": ""
    }
   },
   "outputs": [],
   "source": [
    "# we need to join both files using the ZIP\n",
    "#this code performs a left join between two DataFrames, data and data_econ\n",
    "data_merged=data.merge(data_ZipCode,left_on='ZIP',right_on='zipcode', how='left')  # it is like left join in SQL\n",
    "data_merged[['INSTNM','ZIP','AGI']].head(11)\n",
    "data_merged"
   ]
  },
  {
   "cell_type": "code",
   "execution_count": 0,
   "metadata": {
    "application/vnd.databricks.v1+cell": {
     "cellMetadata": {},
     "inputWidgets": {},
     "nuid": "0c69af5c-c8b4-4e0a-9460-fa7f899cf64a",
     "showTitle": false,
     "title": ""
    }
   },
   "outputs": [],
   "source": [
    "data_merged=data.merge(data_ZipCode,left_on='STATE',right_on='STATE', how='left') \n",
    "data_merged[data_merged['STATE']=='AL']"
   ]
  },
  {
   "cell_type": "code",
   "execution_count": 0,
   "metadata": {
    "application/vnd.databricks.v1+cell": {
     "cellMetadata": {},
     "inputWidgets": {},
     "nuid": "e6691880-92b1-4e37-ba86-5ebaf57c6c31",
     "showTitle": false,
     "title": ""
    }
   },
   "outputs": [],
   "source": [
    "data_ZipCode[data_ZipCode['STATE']=='AL']\n"
   ]
  },
  {
   "cell_type": "code",
   "execution_count": 0,
   "metadata": {
    "application/vnd.databricks.v1+cell": {
     "cellMetadata": {},
     "inputWidgets": {},
     "nuid": "7618dcfd-52ae-4478-8f78-e86ea28bf94a",
     "showTitle": false,
     "title": ""
    }
   },
   "outputs": [],
   "source": [
    "data_renaming= data_renaming.rename(columns={'ZIP':'zipcode'}) "
   ]
  },
  {
   "cell_type": "code",
   "execution_count": 0,
   "metadata": {
    "application/vnd.databricks.v1+cell": {
     "cellMetadata": {},
     "inputWidgets": {},
     "nuid": "41ef6a28-e86b-437a-84ad-6e4d33e61926",
     "showTitle": false,
     "title": ""
    }
   },
   "outputs": [],
   "source": [
    "# to merge two columns in common ; but make sure that the names are the same either use rename() to change one of them \n",
    "merged_data = pd.merge(data_ZipCode, data_renaming, on=['STATE', 'zipcode'], how='inner')\n",
    "merged_data\n"
   ]
  },
  {
   "cell_type": "code",
   "execution_count": 0,
   "metadata": {
    "application/vnd.databricks.v1+cell": {
     "cellMetadata": {},
     "inputWidgets": {},
     "nuid": "1b6b37d1-bfc1-4a32-8fd5-5eb7cdbaec0d",
     "showTitle": false,
     "title": ""
    }
   },
   "outputs": [],
   "source": [
    "data[(data['STATE']=='MA') & (data['CITY']=='Amherst')]"
   ]
  },
  {
   "cell_type": "code",
   "execution_count": 0,
   "metadata": {
    "application/vnd.databricks.v1+cell": {
     "cellMetadata": {},
     "inputWidgets": {},
     "nuid": "7b1965c0-273f-40d2-a164-80417e2b979a",
     "showTitle": false,
     "title": ""
    }
   },
   "outputs": [],
   "source": [
    "data_ZipCode[data_ZipCode['STATE']=='MA']"
   ]
  },
  {
   "cell_type": "code",
   "execution_count": 0,
   "metadata": {
    "application/vnd.databricks.v1+cell": {
     "cellMetadata": {},
     "inputWidgets": {},
     "nuid": "37968b78-91f6-4104-93c6-19afd72978e6",
     "showTitle": false,
     "title": ""
    }
   },
   "outputs": [],
   "source": [
    "print(data['INSTURL'].isna().sum()) # This will print the number of NaN values in a specific column.\n",
    "\n",
    "print(data.isna().sum()) # to see the number of NaN values in all the table columns"
   ]
  },
  {
   "cell_type": "code",
   "execution_count": 0,
   "metadata": {
    "application/vnd.databricks.v1+cell": {
     "cellMetadata": {},
     "inputWidgets": {},
     "nuid": "8910e466-d9aa-440d-ad7c-877b2ae6aa63",
     "showTitle": false,
     "title": ""
    }
   },
   "outputs": [],
   "source": [
    "# The dropna() method is used to drop all rows containing NaN values. The subset parameter is used to specify the columns to check for NaN values.\n",
    "# remove NaN values from column 'B'\n",
    "#  dropna will drop the rows that contain NaN values in that column only. \n",
    "data_clean = data.dropna(subset=['INSTURL'])\n",
    "\n",
    "# print the cleaned DataFrame\n",
    "data_clean\n",
    "\n"
   ]
  },
  {
   "cell_type": "code",
   "execution_count": 0,
   "metadata": {
    "application/vnd.databricks.v1+cell": {
     "cellMetadata": {},
     "inputWidgets": {},
     "nuid": "400931e5-5f0c-41b6-9d8b-bc00c6499c23",
     "showTitle": false,
     "title": ""
    }
   },
   "outputs": [],
   "source": [
    "data_clean['INSTURL'].isna().sum()"
   ]
  },
  {
   "cell_type": "code",
   "execution_count": 0,
   "metadata": {
    "application/vnd.databricks.v1+cell": {
     "cellMetadata": {},
     "inputWidgets": {},
     "nuid": "b93de60a-5cf6-4783-84ee-d8bc46ce600e",
     "showTitle": false,
     "title": ""
    }
   },
   "outputs": [],
   "source": [
    "data['CITY'].isnull()"
   ]
  },
  {
   "cell_type": "code",
   "execution_count": 0,
   "metadata": {
    "application/vnd.databricks.v1+cell": {
     "cellMetadata": {},
     "inputWidgets": {},
     "nuid": "9336fa28-b25b-4612-82c1-951149702704",
     "showTitle": false,
     "title": ""
    }
   },
   "outputs": [],
   "source": [
    "data['CITY'].isna().sum()\n"
   ]
  },
  {
   "cell_type": "code",
   "execution_count": 0,
   "metadata": {
    "application/vnd.databricks.v1+cell": {
     "cellMetadata": {},
     "inputWidgets": {},
     "nuid": "a1eb7aff-32ca-442f-bab2-b7b02d347b14",
     "showTitle": false,
     "title": ""
    }
   },
   "outputs": [],
   "source": [
    "data"
   ]
  },
  {
   "cell_type": "code",
   "execution_count": 0,
   "metadata": {
    "application/vnd.databricks.v1+cell": {
     "cellMetadata": {},
     "inputWidgets": {},
     "nuid": "4ef2e31f-e9d1-4254-a6f3-f64180255917",
     "showTitle": false,
     "title": ""
    }
   },
   "outputs": [],
   "source": [
    "#how to know from describe function that the data needs cleaning?\n",
    "\n",
    "#The describe() function can give some indications that the data needs cleaning. Here are a few things to look out for:\n",
    "\n",
    "#Missing values: If the count for a particular column is less than the number of rows in the dataset, then there are missing values that need to be dealt with.\n",
    "\n",
    "#Outliers: Look at the mean, standard deviation, and quartiles for each numerical column. If the values are too high or too low, or if there are huge differences between the mean and median, then there might be outliers that need to be examined.\n",
    "\n",
    "#Unexpected values: Check the minimum and maximum values for each numerical column. If there are values that seem impossible (e.g. negative age, or weight over 1000 kg), then the data might need cleaning.\n",
    "\n",
    "#Inconsistent data types: Check the data types of each column. If there are columns that are supposed to be numerical but are described as \"object\" or \"string\", or vice versa, then the data might need cleaning.\n",
    "\n",
    "#Duplicates: Check the count for each column. If there are columns that have a low count, but are supposed to be unique, then there might be duplicates that need to be removed.\n",
    "\n",
    "#It's important to note that these indications don't necessarily mean that the data is dirty or unusable, but they do suggest that the data needs further examination and potentially cleaning."
   ]
  },
  {
   "cell_type": "code",
   "execution_count": 0,
   "metadata": {
    "application/vnd.databricks.v1+cell": {
     "cellMetadata": {},
     "inputWidgets": {},
     "nuid": "445c7c7a-f1b9-40b0-adc6-14c774939133",
     "showTitle": false,
     "title": ""
    }
   },
   "outputs": [],
   "source": [
    "count = data['INSTURL'].value_counts()['www.aamu.edu/']\n",
    "print(count)"
   ]
  },
  {
   "cell_type": "code",
   "execution_count": 0,
   "metadata": {
    "application/vnd.databricks.v1+cell": {
     "cellMetadata": {},
     "inputWidgets": {},
     "nuid": "2e058ba5-9ebe-433c-9b9d-1345afba5d28",
     "showTitle": false,
     "title": ""
    }
   },
   "outputs": [],
   "source": [
    "data.dropna(subset=['INSTURL']).count()"
   ]
  },
  {
   "cell_type": "code",
   "execution_count": 0,
   "metadata": {
    "application/vnd.databricks.v1+cell": {
     "cellMetadata": {},
     "inputWidgets": {},
     "nuid": "27ed5df5-8019-445d-aaa3-7520369f0e4c",
     "showTitle": false,
     "title": ""
    }
   },
   "outputs": [],
   "source": [
    "# count the number of NaN values in the 'INSTURL' column\n",
    "count = data['INSTURL'].isna().sum()\n",
    "print('before cleaning',count)\n",
    "\n",
    "# count the number of NaN values in the 'INSTURL' column\n",
    "count = data_clean['INSTURL'].isna().sum()\n",
    "print('after cleaning',count)"
   ]
  },
  {
   "cell_type": "code",
   "execution_count": 0,
   "metadata": {
    "application/vnd.databricks.v1+cell": {
     "cellMetadata": {},
     "inputWidgets": {},
     "nuid": "28583067-27c7-4e90-ad52-44488e8cbb34",
     "showTitle": false,
     "title": ""
    }
   },
   "outputs": [],
   "source": [
    "# thresh is a parameter in the dropna() method in pandas, which specifies the minimum number of non-missing values that a row or column must have in order to be retained.\n",
    "drop_one_NaN=data.dropna(thresh=8)\n",
    "drop_one_NaN  # it will remove the rows which has less than 8 non-missing values  ( total no. of columns = 10)"
   ]
  },
  {
   "cell_type": "code",
   "execution_count": 0,
   "metadata": {
    "application/vnd.databricks.v1+cell": {
     "cellMetadata": {},
     "inputWidgets": {},
     "nuid": "9e9b52d2-6a25-4cfb-89d8-ff8c782fc675",
     "showTitle": false,
     "title": ""
    }
   },
   "outputs": [],
   "source": [
    "import pandas as pd\n",
    "\n",
    "data = {'A': [1,2,None,4,None],'B':[None,6,None,None,None]}\n",
    "df= pd.DataFrame(data)\n",
    "df"
   ]
  },
  {
   "cell_type": "code",
   "execution_count": 0,
   "metadata": {
    "application/vnd.databricks.v1+cell": {
     "cellMetadata": {},
     "inputWidgets": {},
     "nuid": "05474b34-89f6-40d0-8e1a-27bbd62a3a3f",
     "showTitle": false,
     "title": ""
    }
   },
   "outputs": [],
   "source": [
    "df.dropna()"
   ]
  },
  {
   "cell_type": "code",
   "execution_count": 0,
   "metadata": {
    "application/vnd.databricks.v1+cell": {
     "cellMetadata": {},
     "inputWidgets": {},
     "nuid": "bf103dff-037c-4c29-9731-108e104dc794",
     "showTitle": false,
     "title": ""
    }
   },
   "outputs": [],
   "source": [
    "df.dropna(thresh=1) # to have at least 1 non missing value"
   ]
  },
  {
   "cell_type": "code",
   "execution_count": 0,
   "metadata": {
    "application/vnd.databricks.v1+cell": {
     "cellMetadata": {},
     "inputWidgets": {},
     "nuid": "456c31a9-4cd6-4b93-b23a-28374031a3f9",
     "showTitle": false,
     "title": ""
    }
   },
   "outputs": [],
   "source": [
    "import pandas as pd\n",
    "\n",
    "# create a pandas series with ordinal data\n",
    "grades = pd.Series(['B', 'C', 'A', 'D', 'F'])\n",
    "grades_categorical= pd.Categorical(grades, categories=['A','B','C','D','F'])\n",
    "grades_categorical\n"
   ]
  },
  {
   "cell_type": "code",
   "execution_count": 0,
   "metadata": {
    "application/vnd.databricks.v1+cell": {
     "cellMetadata": {},
     "inputWidgets": {},
     "nuid": "5b3282ce-33c8-47bd-a006-238735716dc4",
     "showTitle": false,
     "title": ""
    }
   },
   "outputs": [],
   "source": []
  },
  {
   "cell_type": "code",
   "execution_count": 0,
   "metadata": {
    "application/vnd.databricks.v1+cell": {
     "cellMetadata": {},
     "inputWidgets": {},
     "nuid": "b33cc777-77fc-4abb-850f-97bf4711ee2c",
     "showTitle": false,
     "title": ""
    }
   },
   "outputs": [],
   "source": [
    "dd=pd.DataFrame({'Gender':['male','female','male'],'city':['new york','paris','tokyo']})\n",
    "dd['Gender']=pd.Categorical(dd['Gender'])\n",
    "dd.info()"
   ]
  },
  {
   "cell_type": "code",
   "execution_count": 0,
   "metadata": {
    "application/vnd.databricks.v1+cell": {
     "cellMetadata": {},
     "inputWidgets": {},
     "nuid": "bbe3f336-1b4f-4f5b-8f5e-d6118b082e0b",
     "showTitle": false,
     "title": ""
    }
   },
   "outputs": [],
   "source": [
    "cc=dd.groupby(['Gender']) .sum()\n",
    "cc"
   ]
  },
  {
   "cell_type": "code",
   "execution_count": 0,
   "metadata": {
    "application/vnd.databricks.v1+cell": {
     "cellMetadata": {},
     "inputWidgets": {},
     "nuid": "f6e32423-3fba-4b6f-bbad-150efede91c1",
     "showTitle": false,
     "title": ""
    }
   },
   "outputs": [],
   "source": [
    "display(dd['Gender'].value_counts())"
   ]
  },
  {
   "cell_type": "code",
   "execution_count": 0,
   "metadata": {
    "application/vnd.databricks.v1+cell": {
     "cellMetadata": {},
     "inputWidgets": {},
     "nuid": "9ad07674-bf58-4dcc-8431-c0399b31bff1",
     "showTitle": false,
     "title": ""
    }
   },
   "outputs": [],
   "source": [
    "# time series\n",
    "from datetime import datetime\n",
    "dt=datetime(1969,7,20,20,17,40)\n",
    "delta_t=(datetime.now() - dt)\n",
    "print(f'{delta_t} is the subtract timing')\n",
    "print(type(delta_t))\n",
    "\n"
   ]
  },
  {
   "cell_type": "code",
   "execution_count": 0,
   "metadata": {
    "application/vnd.databricks.v1+cell": {
     "cellMetadata": {},
     "inputWidgets": {},
     "nuid": "ba6e42e9-9e49-4a29-b57a-780cfa48f18c",
     "showTitle": false,
     "title": ""
    }
   },
   "outputs": [],
   "source": [
    "from dateutil.parser import parse\n",
    "# dateutil parser is used to parse date and time strings\n",
    "dt=parse('july 20,1995 20:17:40')  \n",
    "print(dt)"
   ]
  },
  {
   "cell_type": "code",
   "execution_count": 0,
   "metadata": {
    "application/vnd.databricks.v1+cell": {
     "cellMetadata": {},
     "inputWidgets": {},
     "nuid": "1ad9e607-e895-4ef0-9314-2a9a1d7f2688",
     "showTitle": false,
     "title": ""
    }
   },
   "outputs": [],
   "source": [
    "# dateutil parser is used to parse date and time strings\n",
    "print(parse('20 july 1995 20:17:40')) \n",
    "print(parse('07/20/1995 20:17:40'))\n",
    "print(parse('20/07/1995 20:17:40'))"
   ]
  },
  {
   "cell_type": "code",
   "execution_count": 0,
   "metadata": {
    "application/vnd.databricks.v1+cell": {
     "cellMetadata": {},
     "inputWidgets": {},
     "nuid": "73b2a3b7-b047-49bf-88b5-bc4eb6d5057f",
     "showTitle": false,
     "title": ""
    }
   },
   "outputs": [],
   "source": [
    "import datetime as dt\n",
    "start_time = dt.datetime(2023, 3, 12, 14, 30, 0)  # create a datetime object\n",
    "print(start_time)\n",
    "print(type(start_time))\n",
    "print(dt.datetime.now())\n",
    "delta_t = dt.datetime.now() - start_time\n",
    "print(f'{delta_t} is the subtract timing')\n",
    "print(type(delta_t))"
   ]
  },
  {
   "cell_type": "code",
   "execution_count": 0,
   "metadata": {
    "application/vnd.databricks.v1+cell": {
     "cellMetadata": {},
     "inputWidgets": {},
     "nuid": "034683b9-d507-4c25-a4bb-a82d15f4e9dc",
     "showTitle": false,
     "title": ""
    }
   },
   "outputs": [],
   "source": [
    "import datetime as dt\n",
    "dt_obj=dt.datetime(2023,3,18)\n",
    "dt_str_1=dt_obj.strftime('%B %d, %Y') #%B is a format code that represents the full month name\n",
    "# strftime: format the datetime to a string format\n",
    "print(dt_str_1)\n",
    "dt_str=dt_obj.strftime('%A')  # gives the day of the datetime\n",
    "print(dt_str)\n",
    "dt_str=dt_obj.strftime('%m/%d/%Y')\n",
    "print(dt_str)\n",
    "print(type(dt_str))  # here the type is string \n"
   ]
  },
  {
   "cell_type": "code",
   "execution_count": 0,
   "metadata": {
    "application/vnd.databricks.v1+cell": {
     "cellMetadata": {},
     "inputWidgets": {},
     "nuid": "2eb19c7f-03e3-45f2-95fd-924739d4e1bb",
     "showTitle": false,
     "title": ""
    }
   },
   "outputs": [],
   "source": [
    "#datetime.strptime(dt_str,'%m/%d/%Y')\n",
    "obj1=datetime.strptime(dt_str,'%m/%d/%Y')\n",
    "print(obj1)\n",
    "print(type(obj1))\n",
    "obj2=datetime.strptime(dt_str_1,'%B %d, %Y')\n",
    "print(obj2)\n",
    "print(type(obj2))"
   ]
  },
  {
   "cell_type": "code",
   "execution_count": 0,
   "metadata": {
    "application/vnd.databricks.v1+cell": {
     "cellMetadata": {},
     "inputWidgets": {},
     "nuid": "4c5edbc9-162c-439f-b18b-45a80a2d6c4f",
     "showTitle": false,
     "title": ""
    }
   },
   "outputs": [],
   "source": [
    "import numpy as np\n",
    "a = np.array([1,2,3,4,5])\n",
    "cumulative_sum=np.cumsum(a)\n",
    "print(cumulative_sum)"
   ]
  },
  {
   "cell_type": "code",
   "execution_count": 0,
   "metadata": {
    "application/vnd.databricks.v1+cell": {
     "cellMetadata": {},
     "inputWidgets": {},
     "nuid": "03ec5836-f279-4453-ae0c-7697897551d4",
     "showTitle": false,
     "title": ""
    }
   },
   "outputs": [],
   "source": [
    "#This code generates a random walk time series for two variables ('a' and 'b') for each day in the year 2019 using the function random_walk(). The random_walk() function creates a random sequence of values and returns a cumulative sum of these values. The date_range() function creates a range of dates from January 1, 2019 to December 31, 2019 with a daily frequency. The data dictionary contains the random walk values for each variable ('a' and 'b') and the pd.DataFrame() function is used to create a pandas DataFrame with these values, using the date range as the index.\n",
    "# Finally, the resulting DataFrame is assigned to the variable df.\n",
    "import numpy as np\n",
    "import pandas as pd\n",
    "np.random.seed(50)\n",
    "\n",
    "def random_walk(n_steps):\n",
    "    step= 0.5 - np.random.random(n_steps) # it gives 1D array of 365 elements from 0 to 1\n",
    "    #print(np.random.random(n_steps))\n",
    "    return np.cumsum(step)\n",
    "\n",
    "date =pd.date_range('1/1/2019','12/31/2019',freq='D')\n",
    "data = {'a':random_walk(365), 'b':random_walk(365)}\n",
    "df=pd.DataFrame(data,index=date)\n",
    "df"
   ]
  },
  {
   "cell_type": "code",
   "execution_count": 0,
   "metadata": {
    "application/vnd.databricks.v1+cell": {
     "cellMetadata": {},
     "inputWidgets": {},
     "nuid": "7fd742a9-5efa-416c-8380-f07b3fc46774",
     "showTitle": false,
     "title": ""
    }
   },
   "outputs": [],
   "source": [
    "type(date)"
   ]
  },
  {
   "cell_type": "code",
   "execution_count": 0,
   "metadata": {
    "application/vnd.databricks.v1+cell": {
     "cellMetadata": {},
     "inputWidgets": {},
     "nuid": "46e920ce-8fa6-41ee-b11b-51ed33520000",
     "showTitle": false,
     "title": ""
    }
   },
   "outputs": [],
   "source": [
    "import matplotlib.pyplot as plt\n",
    "df.plot()"
   ]
  },
  {
   "cell_type": "code",
   "execution_count": 0,
   "metadata": {
    "application/vnd.databricks.v1+cell": {
     "cellMetadata": {},
     "inputWidgets": {},
     "nuid": "6442bff6-a504-4ddd-aa16-795e3efc54b5",
     "showTitle": false,
     "title": ""
    }
   },
   "outputs": [],
   "source": [
    "plt.show()"
   ]
  },
  {
   "cell_type": "code",
   "execution_count": 0,
   "metadata": {
    "application/vnd.databricks.v1+cell": {
     "cellMetadata": {},
     "inputWidgets": {},
     "nuid": "e9359a34-51d5-47d7-aef2-3185e91e39ef",
     "showTitle": false,
     "title": ""
    }
   },
   "outputs": [],
   "source": [
    "x=date\n",
    "y=df['a']\n",
    "plt.plot(x,y)\n",
    "plt.title('daily revenue Plot')\n",
    "plt.xlabel('Period')\n",
    "plt.ylabel('Revenue')\n",
    "plt.grid(True)\n",
    "plt.show()"
   ]
  },
  {
   "cell_type": "code",
   "execution_count": 0,
   "metadata": {
    "application/vnd.databricks.v1+cell": {
     "cellMetadata": {},
     "inputWidgets": {},
     "nuid": "2d5669c1-bac9-44a1-916e-bb2b3372e3fd",
     "showTitle": false,
     "title": ""
    }
   },
   "outputs": [],
   "source": [
    "import datetime\n",
    "t = datetime.date(year=2013,month=12,day=4) # here it shows the date only\n",
    "print(t)"
   ]
  },
  {
   "cell_type": "code",
   "execution_count": 0,
   "metadata": {
    "application/vnd.databricks.v1+cell": {
     "cellMetadata": {},
     "inputWidgets": {},
     "nuid": "2c996b07-c209-4889-859c-45d797d756c5",
     "showTitle": false,
     "title": ""
    }
   },
   "outputs": [],
   "source": [
    "d1 = datetime.datetime(year=2015,month=12,day=4) # here it shows the date and time\n",
    "print(d1)"
   ]
  },
  {
   "cell_type": "code",
   "execution_count": 0,
   "metadata": {
    "application/vnd.databricks.v1+cell": {
     "cellMetadata": {},
     "inputWidgets": {},
     "nuid": "589eb821-d9d4-42ca-9eb4-280244ac480e",
     "showTitle": false,
     "title": ""
    }
   },
   "outputs": [],
   "source": [
    "import datetime\n",
    "d1 = datetime.datetime(year=2015,month=12,day=4)\n",
    "d2 = datetime.datetime(year=2014,month=3,day=12)\n",
    "print(d1 > d2)"
   ]
  },
  {
   "cell_type": "code",
   "execution_count": 0,
   "metadata": {
    "application/vnd.databricks.v1+cell": {
     "cellMetadata": {},
     "inputWidgets": {},
     "nuid": "b8b59fd6-fe61-4ea8-81ec-c88f70e83ba8",
     "showTitle": false,
     "title": ""
    }
   },
   "outputs": [],
   "source": [
    "import datetime\n",
    "d1 = datetime.datetime(year=2013,month=12,day=4)\n",
    "d2 = datetime.datetime(year=2014,month=3,day=12)\n",
    "print(d1 > d2)"
   ]
  },
  {
   "cell_type": "code",
   "execution_count": 0,
   "metadata": {
    "application/vnd.databricks.v1+cell": {
     "cellMetadata": {},
     "inputWidgets": {},
     "nuid": "43dcc33c-ba82-4fa1-96d4-1228479e0f63",
     "showTitle": false,
     "title": ""
    }
   },
   "outputs": [],
   "source": [
    "import datetime\n",
    "d1 = datetime.datetime(year=2015,month=12,day=4)\n",
    "d2 = datetime.datetime(year=2015,month=12,day=4)\n",
    "print(d1 == d2)"
   ]
  },
  {
   "cell_type": "code",
   "execution_count": 0,
   "metadata": {
    "application/vnd.databricks.v1+cell": {
     "cellMetadata": {},
     "inputWidgets": {},
     "nuid": "35c0b97e-c553-4cb1-ae4b-82135efcdb7b",
     "showTitle": false,
     "title": ""
    }
   },
   "outputs": [],
   "source": [
    "\n",
    "import datetime\n",
    "d1 = datetime.datetime(year=2015,month=12,day=4)\n",
    "d2 = datetime.datetime(year=2015,month=12,day=2)\n",
    "print(d1 < d2)"
   ]
  },
  {
   "cell_type": "code",
   "execution_count": 0,
   "metadata": {
    "application/vnd.databricks.v1+cell": {
     "cellMetadata": {},
     "inputWidgets": {},
     "nuid": "cb81df3e-5ea4-4abe-9d84-f8a4beccdce3",
     "showTitle": false,
     "title": ""
    }
   },
   "outputs": [],
   "source": [
    "import datetime\n",
    "import pytz\n",
    "\n",
    "# create a datetime object with timezone information\n",
    "dt = datetime.datetime(2022, 3, 16, 12, 0, 0, tzinfo=pytz.timezone('US/Eastern'))\n",
    "\n",
    "# print the datetime object with timezone information\n",
    "print(dt)\n",
    "\n",
    "# convert the datetime object to a different timezone\n",
    "new_timezone = pytz.timezone('CET')\n",
    "dt_new = dt.astimezone(new_timezone)\n",
    "\n",
    "# print the new datetime object with the new timezone information\n",
    "print(dt_new)\n"
   ]
  },
  {
   "cell_type": "code",
   "execution_count": 0,
   "metadata": {
    "application/vnd.databricks.v1+cell": {
     "cellMetadata": {},
     "inputWidgets": {},
     "nuid": "630652c8-909b-416d-b3d5-14c6c06900a6",
     "showTitle": false,
     "title": ""
    }
   },
   "outputs": [],
   "source": [
    "datetime.datetime.now().year\n"
   ]
  },
  {
   "cell_type": "code",
   "execution_count": 0,
   "metadata": {
    "application/vnd.databricks.v1+cell": {
     "cellMetadata": {},
     "inputWidgets": {},
     "nuid": "15e95cf4-3f98-4460-a583-67e89cd40c12",
     "showTitle": false,
     "title": ""
    }
   },
   "outputs": [],
   "source": [
    "datetime.datetime.now().month\n"
   ]
  },
  {
   "cell_type": "code",
   "execution_count": 0,
   "metadata": {
    "application/vnd.databricks.v1+cell": {
     "cellMetadata": {},
     "inputWidgets": {},
     "nuid": "8ca54b00-5ddf-456f-8fb3-8ae565dfbf87",
     "showTitle": false,
     "title": ""
    }
   },
   "outputs": [],
   "source": [
    "y=333\n",
    "f=len(y)\n",
    "x = lambda y:len(str(y))\n",
    "print(f)"
   ]
  },
  {
   "cell_type": "code",
   "execution_count": 0,
   "metadata": {
    "application/vnd.databricks.v1+cell": {
     "cellMetadata": {},
     "inputWidgets": {},
     "nuid": "9354e965-4fa9-4415-a19d-8175599554fa",
     "showTitle": false,
     "title": ""
    }
   },
   "outputs": [],
   "source": [
    "x = lambda y:int(y)*int(y)\n",
    "print(x(\"2\"))"
   ]
  },
  {
   "cell_type": "code",
   "execution_count": 0,
   "metadata": {
    "application/vnd.databricks.v1+cell": {
     "cellMetadata": {},
     "inputWidgets": {},
     "nuid": "be81b333-29e4-4faf-8ea4-520b1facbe9a",
     "showTitle": false,
     "title": ""
    }
   },
   "outputs": [],
   "source": [
    "# Plotting\n",
    "# histograms : to divide a range of values into groups to measure the frequency of the data set ( used for quantitive/numerical data)\n",
    "x= np.random.randn(1000)\n",
    "#print(x)\n",
    "plt.hist(x, bins=20) # bins is the number of blocks \n",
    "\n",
    "plt.xlabel(\"Values\")\n",
    "plt.ylabel(\"Frequency\")\n",
    "\n",
    "plt.title(\"histogram of random values\")\n",
    "\n",
    "plt.show()"
   ]
  },
  {
   "cell_type": "code",
   "execution_count": 0,
   "metadata": {
    "application/vnd.databricks.v1+cell": {
     "cellMetadata": {},
     "inputWidgets": {},
     "nuid": "eb636a9b-0121-4778-b328-2f37c6327baf",
     "showTitle": false,
     "title": ""
    }
   },
   "outputs": [],
   "source": [
    "seaborn = sns.load_dataset('tips')"
   ]
  },
  {
   "cell_type": "code",
   "execution_count": 0,
   "metadata": {
    "application/vnd.databricks.v1+cell": {
     "cellMetadata": {},
     "inputWidgets": {},
     "nuid": "ea0dbace-254c-44e7-881f-337431c4de66",
     "showTitle": false,
     "title": ""
    }
   },
   "outputs": [],
   "source": [
    "pip install seaborn"
   ]
  },
  {
   "cell_type": "code",
   "execution_count": 0,
   "metadata": {
    "application/vnd.databricks.v1+cell": {
     "cellMetadata": {},
     "inputWidgets": {},
     "nuid": "6b153425-7eb8-4f1b-ab5d-4e44a0af3587",
     "showTitle": false,
     "title": ""
    }
   },
   "outputs": [],
   "source": [
    "# option 1 : extract any dataset within seaborn library\n",
    "# Seaborn is a data visualization library in Python that builds on top of Matplotlib.\n",
    "# It provides a high-level interface for drawing attractive and informative statistical graphics.\n",
    "import seaborn as sns\n",
    "\n",
    "tips_data = sns.load_dataset('tips')\n",
    "tips_data # here it shows the tips given to restaurants\n"
   ]
  },
  {
   "cell_type": "code",
   "execution_count": 0,
   "metadata": {
    "application/vnd.databricks.v1+cell": {
     "cellMetadata": {},
     "inputWidgets": {},
     "nuid": "95d129a2-ac51-4c80-a2fa-68bc8549313c",
     "showTitle": false,
     "title": ""
    }
   },
   "outputs": [],
   "source": [
    "# option 2\n",
    "import pandas as pd\n",
    "seaborn_data_tips=pd.read_csv('from Jinesh\\seaborn-data-master\\seaborn-data-master\\\\tips.csv')\n",
    "seaborn_data_tips"
   ]
  },
  {
   "cell_type": "code",
   "execution_count": 0,
   "metadata": {
    "application/vnd.databricks.v1+cell": {
     "cellMetadata": {},
     "inputWidgets": {},
     "nuid": "9e5a5ee3-5508-401d-b921-03d8de2014d9",
     "showTitle": false,
     "title": ""
    }
   },
   "outputs": [],
   "source": [
    "#plots\n"
   ]
  },
  {
   "cell_type": "code",
   "execution_count": 0,
   "metadata": {
    "application/vnd.databricks.v1+cell": {
     "cellMetadata": {},
     "inputWidgets": {},
     "nuid": "1c3878c8-b1a9-4256-9250-15d69e6ab923",
     "showTitle": false,
     "title": ""
    }
   },
   "outputs": [],
   "source": [
    "import seaborn as sns\n",
    "import matplotlib.pyplot as plt\n",
    "# scatter plot and count plot\n",
    "#scatterplot: shows relation between two continious variables; outliers and correlations can be detected using scatter plot\n",
    "sns.scatterplot(x='total_bill',y='tip',data=tips_data)\n",
    "plt.show()\n",
    "#countplot: shows the number of occurences in each category in specific column\n",
    "# This plot is useful for quickly visualizing the distribution of categorical data in a dataset\n",
    "sns.countplot(x='sex',data=tips_data) #The 'x' parameter specifies that the plot should display the count of each category in the 'sex' column of the 'tips_data' dataset. \n",
    "plt.show()"
   ]
  },
  {
   "cell_type": "code",
   "execution_count": 0,
   "metadata": {
    "application/vnd.databricks.v1+cell": {
     "cellMetadata": {},
     "inputWidgets": {},
     "nuid": "ef73bc94-a6a2-406d-97d0-0e63f7138d35",
     "showTitle": false,
     "title": ""
    }
   },
   "outputs": [],
   "source": [
    "plt.pie(x='total_bill',data=tips_data)\n",
    "plt.show()"
   ]
  },
  {
   "cell_type": "code",
   "execution_count": 0,
   "metadata": {
    "application/vnd.databricks.v1+cell": {
     "cellMetadata": {},
     "inputWidgets": {},
     "nuid": "60f4eace-2cbc-4217-ac6a-aa625c0959c1",
     "showTitle": false,
     "title": ""
    }
   },
   "outputs": [],
   "source": [
    "# Create a pie plot using the 'sns.pieplot()' function\n",
    "gender_counts = tips_data['sex'].value_counts()\n",
    "# Create a pie plot using 'sns.catplot()' with 'kind='pie''\n",
    "sns.catplot(data=tips_data, x='sex', kind='count')"
   ]
  },
  {
   "cell_type": "code",
   "execution_count": 0,
   "metadata": {
    "application/vnd.databricks.v1+cell": {
     "cellMetadata": {},
     "inputWidgets": {},
     "nuid": "f5c52686-8a10-4968-92da-dc373aa0a321",
     "showTitle": false,
     "title": ""
    }
   },
   "outputs": [],
   "source": [
    "sns.lineplot(x='total_bill',y='tip',data=tips_data)\n",
    "plt.show()"
   ]
  },
  {
   "cell_type": "code",
   "execution_count": 0,
   "metadata": {
    "application/vnd.databricks.v1+cell": {
     "cellMetadata": {},
     "inputWidgets": {},
     "nuid": "7ed7a1f1-0bae-489d-92d9-c7d6c2fbc220",
     "showTitle": false,
     "title": ""
    }
   },
   "outputs": [],
   "source": [
    "import seaborn as sns\n",
    "import matplotlib.pyplot as plt\n",
    "import pandas as pd\n",
    "flights = pd.read_csv(\"from Jinesh\\\\seaborn-data-master\\\\seaborn-data-master\\\\flights.csv\")\n",
    "flights"
   ]
  },
  {
   "cell_type": "code",
   "execution_count": 0,
   "metadata": {
    "application/vnd.databricks.v1+cell": {
     "cellMetadata": {},
     "inputWidgets": {},
     "nuid": "bc410f02-ff40-4cf5-963b-ca46d83e8a34",
     "showTitle": false,
     "title": ""
    }
   },
   "outputs": [],
   "source": [
    "#try bar blot\n",
    "titanic=pd.read_csv(\"from Jinesh\\seaborn-data-master\\seaborn-data-master\\\\titanic.csv\")\n",
    "titanic\n"
   ]
  },
  {
   "cell_type": "code",
   "execution_count": 0,
   "metadata": {
    "application/vnd.databricks.v1+cell": {
     "cellMetadata": {},
     "inputWidgets": {},
     "nuid": "dce92f89-3c60-4630-8686-28799f136343",
     "showTitle": false,
     "title": ""
    }
   },
   "outputs": [],
   "source": [
    "sns.barplot(x=\"class\",y=\"survived\",data=titanic)\n",
    "plt.show()"
   ]
  },
  {
   "cell_type": "code",
   "execution_count": 0,
   "metadata": {
    "application/vnd.databricks.v1+cell": {
     "cellMetadata": {},
     "inputWidgets": {},
     "nuid": "83c641a1-ce9d-4c4b-81bd-3d41bd35f583",
     "showTitle": false,
     "title": ""
    }
   },
   "outputs": [],
   "source": [
    "#Boxplot displays the median, quartiles, and extreme values (outliers) of a dataset in a concise manner.\n",
    "# The box represents the middle 50% of the data, while the whiskers extend to the highest and lowest values that are not considered outliers. \n",
    "#Outliers are represented by individual points beyond the whiskers.\n",
    "# Boxplots are useful for detecting outliers and comparing the distribution of data between different groups or categories.\n",
    "sns.boxplot(x=\"class\",y=\"age\",data=titanic)\n",
    "plt.show()"
   ]
  },
  {
   "cell_type": "code",
   "execution_count": 0,
   "metadata": {
    "application/vnd.databricks.v1+cell": {
     "cellMetadata": {},
     "inputWidgets": {},
     "nuid": "8d9ec27b-8586-4576-8186-ed6dcc9a0e38",
     "showTitle": false,
     "title": ""
    }
   },
   "outputs": [],
   "source": [
    "# violin plot is like the boxplot but with more details like the width of the plot determins the density of the data in this area\n",
    "# the white point in the middle : median\n",
    "#the box shape is the first and third quartile\n",
    "# the line is the max and min\n",
    "# the width/density plot is the density of the data in that area\n",
    "sns.violinplot(x=\"class\",y=\"age\",data=titanic)\n",
    "plt.show()\n"
   ]
  },
  {
   "cell_type": "code",
   "execution_count": 0,
   "metadata": {
    "application/vnd.databricks.v1+cell": {
     "cellMetadata": {},
     "inputWidgets": {},
     "nuid": "c5ffcfa0-82df-43b7-811c-f051a78f2089",
     "showTitle": false,
     "title": ""
    }
   },
   "outputs": [],
   "source": [
    "#flights = flights.pivot(\"month\",\"year\",\"passengers\")\n",
    "# here the pivot exists in two area on Pandas DataFRame and as a stand alone function so we better use the standalone function\n",
    "flights_pivot = pd.pivot(flights, index=\"month\", columns=\"year\", values=\"passengers\")\n",
    "flights_pivot\n"
   ]
  },
  {
   "cell_type": "code",
   "execution_count": 0,
   "metadata": {
    "application/vnd.databricks.v1+cell": {
     "cellMetadata": {},
     "inputWidgets": {},
     "nuid": "97673d59-0171-40bd-abd5-8cc723f2c592",
     "showTitle": false,
     "title": ""
    }
   },
   "outputs": [],
   "source": [
    "#heatmap is 2D graphical representation of data where the values are represented as colors.\n",
    "# here after the data is pivoted/rearranged, we can use the heatmap\n",
    "sns.heatmap(flights_pivot)\n",
    "sns.heatmap(flights_pivot,cmap=\"YlGnBu\") # cmap is for the colors ; here it is from yellow(low values)..green..to blue(high values)\n",
    "plt.show()"
   ]
  },
  {
   "cell_type": "code",
   "execution_count": 0,
   "metadata": {
    "application/vnd.databricks.v1+cell": {
     "cellMetadata": {},
     "inputWidgets": {},
     "nuid": "b97f3e5c-c62c-4bc9-8162-0f16d7ec0474",
     "showTitle": false,
     "title": ""
    }
   },
   "outputs": [],
   "source": [
    "# joint plot: shows scatter plot and histogram for each variable allowing us to see the range and distribution of each variable separately.\n",
    "# kind=reg; it is the regression line to show the relationship between the two variables\n",
    "import pandas as pd\n",
    "sns.jointplot(x=\"total_bill\",y=\"tip\",data=tips_data,kind='reg')\n",
    "plt.show()"
   ]
  },
  {
   "cell_type": "code",
   "execution_count": 0,
   "metadata": {
    "application/vnd.databricks.v1+cell": {
     "cellMetadata": {},
     "inputWidgets": {},
     "nuid": "db468410-d34b-4fbe-b860-184d6d930e01",
     "showTitle": false,
     "title": ""
    }
   },
   "outputs": [],
   "source": [
    "iris= pd.read_csv(\"from Jinesh\\seaborn-data-master\\seaborn-data-master\\iris.csv\")\n",
    "iris\n"
   ]
  },
  {
   "cell_type": "code",
   "execution_count": 0,
   "metadata": {
    "application/vnd.databricks.v1+cell": {
     "cellMetadata": {},
     "inputWidgets": {},
     "nuid": "05269cac-ccbf-47ca-806a-61f9590b0554",
     "showTitle": false,
     "title": ""
    }
   },
   "outputs": [],
   "source": [
    "sns.pairplot(iris,hue=\"species\")\n",
    "plt.show()"
   ]
  },
  {
   "cell_type": "code",
   "execution_count": 0,
   "metadata": {
    "application/vnd.databricks.v1+cell": {
     "cellMetadata": {},
     "inputWidgets": {},
     "nuid": "348a589f-159e-47f8-8e57-939ab59e9269",
     "showTitle": false,
     "title": ""
    }
   },
   "outputs": [],
   "source": [
    "#lina's\n",
    "from plotnine.data import economics\n",
    "import scipy.stats as stats\n",
    "r, p = stats.pearsonr(economics[\"uempmed\"], economics[\"psavert\"])\n",
    "\n",
    "# Scatter plots and histogram (joint plots): seaborn\n",
    "g = sns.jointplot(\n",
    "    x = \"uempmed\", y = \"psavert\", data = economics, kind = \"reg\")\n",
    "phantom, = g.ax_joint.plot([], [], linestyle=\"\", alpha=0)\n",
    "\n",
    "g.ax_joint.legend([phantom],['r={:f}, p={:f}'.format(r,p)])\n",
    "g.set_axis_labels(xlabel='Median unemployement period (weeks)', ylabel='Personal savings rate', size=10)"
   ]
  },
  {
   "cell_type": "code",
   "execution_count": 0,
   "metadata": {
    "application/vnd.databricks.v1+cell": {
     "cellMetadata": {},
     "inputWidgets": {},
     "nuid": "9765de40-6571-4a65-9aaa-cce8932e36e7",
     "showTitle": false,
     "title": ""
    }
   },
   "outputs": [],
   "source": [
    "#Nick's\n",
    "# Does this work for you ?\n",
    "import seaborn as sns\n",
    "sns.set_theme(style=\"white\")\n",
    "\n",
    "df = sns.load_dataset(\"penguins\")\n",
    "\n",
    "g = sns.JointGrid(data=df, x=\"body_mass_g\", y=\"bill_depth_mm\", space=0)\n",
    "g.plot_joint(sns.kdeplot,\n",
    "             fill=True, clip=((2200, 6800), (10, 25)),\n",
    "             thresh=0, levels=100, cmap=\"rocket\")\n",
    "g.plot_marginals(sns.histplot, color=\"#03051A\", alpha=1, bins=25)"
   ]
  },
  {
   "cell_type": "code",
   "execution_count": 0,
   "metadata": {
    "application/vnd.databricks.v1+cell": {
     "cellMetadata": {},
     "inputWidgets": {},
     "nuid": "0eaa176d-39dc-4a0f-afe0-ce0f06428ef0",
     "showTitle": false,
     "title": ""
    }
   },
   "outputs": [],
   "source": [
    "# Apple Data set\n",
    "import pandas as pd\n",
    "AppleData=pd.read_csv('data sets\\HistoricalData_1679044439359.csv')\n",
    "AppleData"
   ]
  },
  {
   "cell_type": "code",
   "execution_count": 0,
   "metadata": {
    "application/vnd.databricks.v1+cell": {
     "cellMetadata": {},
     "inputWidgets": {},
     "nuid": "4aafa29b-e97e-4108-9c1c-177d5979e152",
     "showTitle": false,
     "title": ""
    }
   },
   "outputs": [],
   "source": [
    "# if we want to parse the date\n",
    "import pandas as pd\n",
    "AppleData=pd.read_csv('data sets\\HistoricalData_1679044439359.csv',parse_dates=['Date'],index_col='Date') # we parse the date because in the dataset the formats are not the same\n",
    "AppleData"
   ]
  },
  {
   "cell_type": "code",
   "execution_count": 0,
   "metadata": {
    "application/vnd.databricks.v1+cell": {
     "cellMetadata": {},
     "inputWidgets": {},
     "nuid": "9cf348de-178f-40d2-b29a-efabd493ffff",
     "showTitle": false,
     "title": ""
    }
   },
   "outputs": [],
   "source": [
    "#to remove the dollar sign\n",
    "columns_to_remove_dollar_sign = ['Close/Last', 'Open', 'High','Low']\n",
    "AppleData[columns_to_remove_dollar_sign] = AppleData[columns_to_remove_dollar_sign].replace({'\\$':''}, regex = True)\n",
    "AppleData[columns_to_remove_dollar_sign] = AppleData[columns_to_remove_dollar_sign].apply(pd.to_numeric) # convert the costs into numeric dtype\n",
    "# save the updated dataset\n",
    "AppleData.to_csv('AppleData.csv', index=True) "
   ]
  },
  {
   "cell_type": "code",
   "execution_count": 0,
   "metadata": {
    "application/vnd.databricks.v1+cell": {
     "cellMetadata": {},
     "inputWidgets": {},
     "nuid": "0c4c0074-735a-4aca-8fd4-01cbb88a407c",
     "showTitle": false,
     "title": ""
    }
   },
   "outputs": [],
   "source": [
    "AppleData1=pd.read_csv('AppleData.csv',parse_dates=['Date'],index_col='Date')\n",
    "AppleData1"
   ]
  },
  {
   "cell_type": "code",
   "execution_count": 0,
   "metadata": {
    "application/vnd.databricks.v1+cell": {
     "cellMetadata": {},
     "inputWidgets": {},
     "nuid": "a3c85f57-79cb-40d9-9b9b-761df055bb83",
     "showTitle": false,
     "title": ""
    }
   },
   "outputs": [],
   "source": [
    "AppleData1.info()"
   ]
  },
  {
   "cell_type": "code",
   "execution_count": 0,
   "metadata": {
    "application/vnd.databricks.v1+cell": {
     "cellMetadata": {},
     "inputWidgets": {},
     "nuid": "d60f3707-e88a-409d-bf8d-9eab08dfe444",
     "showTitle": false,
     "title": ""
    }
   },
   "outputs": [],
   "source": [
    "a = AppleData1.resample(\"M\").mean()\n",
    "a"
   ]
  },
  {
   "cell_type": "code",
   "execution_count": 0,
   "metadata": {
    "application/vnd.databricks.v1+cell": {
     "cellMetadata": {},
     "inputWidgets": {},
     "nuid": "f0e074fc-b0ec-4a07-b6f1-71f385313cfe",
     "showTitle": false,
     "title": ""
    }
   },
   "outputs": [],
   "source": [
    "# make the data to be set every 1 hour\n",
    "AppleData1=AppleData1.asfreq('H',method='pad')\n",
    "AppleData1"
   ]
  },
  {
   "cell_type": "code",
   "execution_count": 0,
   "metadata": {
    "application/vnd.databricks.v1+cell": {
     "cellMetadata": {},
     "inputWidgets": {},
     "nuid": "cdd17838-2cd5-4e4d-823c-b3e26b2d3cdf",
     "showTitle": false,
     "title": ""
    }
   },
   "outputs": [],
   "source": [
    "# trying to remove the date column from the dataset and apply it again automatically\n",
    "#AppleData1['Date'].min() # it gives error because the date is index in this dataset not a column\n",
    "AppleData1.index.min() # to know first what is the min*max date\n"
   ]
  },
  {
   "cell_type": "code",
   "execution_count": 0,
   "metadata": {
    "application/vnd.databricks.v1+cell": {
     "cellMetadata": {},
     "inputWidgets": {},
     "nuid": "7cc351d6-08c0-459d-9578-731205c45b43",
     "showTitle": false,
     "title": ""
    }
   },
   "outputs": [],
   "source": [
    "# remove the date index\n",
    "AppleData1.reset_index(drop=True, inplace=True)\n",
    "\n",
    "AppleData1.to_csv('AppleData1.csv', index=False)\n",
    "AppleData1"
   ]
  },
  {
   "cell_type": "code",
   "execution_count": 0,
   "metadata": {
    "application/vnd.databricks.v1+cell": {
     "cellMetadata": {},
     "inputWidgets": {},
     "nuid": "6650912f-d8f6-4fb0-9edf-39ebfd768c05",
     "showTitle": false,
     "title": ""
    }
   },
   "outputs": [],
   "source": [
    "AppleData2=pd.read_csv('AppleData1.csv')\n",
    "AppleData2"
   ]
  },
  {
   "cell_type": "code",
   "execution_count": 0,
   "metadata": {
    "application/vnd.databricks.v1+cell": {
     "cellMetadata": {},
     "inputWidgets": {},
     "nuid": "a584a629-d14b-4c1e-be76-fe6ec94339fe",
     "showTitle": false,
     "title": ""
    }
   },
   "outputs": [],
   "source": [
    "#date_range = pd.date_range('2023-02-17', '2023-03-16', freq='B').to_series().resample('H').ffill() # format in business days and hourly\n",
    "date_range = pd.date_range('2023-02-17', '2023-03-16', freq='B').to_series().resample('H').ffill()\n",
    "AppleData2['Date']=date_range\n",
    "# set the date column as the index\n",
    "AppleData2.set_index('Date', inplace=True)\n",
    "#AppleData2.loc[AppleData1.index == '2023-02-17']\n",
    "AppleData2.to_csv('AppleData1.csv')\n",
    "\n"
   ]
  },
  {
   "cell_type": "code",
   "execution_count": 0,
   "metadata": {
    "application/vnd.databricks.v1+cell": {
     "cellMetadata": {},
     "inputWidgets": {},
     "nuid": "1ede60af-9976-4108-afab-89aaab3f9bf4",
     "showTitle": false,
     "title": ""
    }
   },
   "outputs": [],
   "source": [
    "AppleData2=pd.read_csv('AppleData1.csv',parse_dates=['Date'],index_col='Date')\n",
    "AppleData2\n",
    "AppleData2.loc[AppleData2.index == '2023-02-20']  # we have to delete this date as it doesn't exists in the original"
   ]
  },
  {
   "cell_type": "code",
   "execution_count": 0,
   "metadata": {
    "application/vnd.databricks.v1+cell": {
     "cellMetadata": {},
     "inputWidgets": {},
     "nuid": "581d6af8-fbd1-45e1-8d07-d7207bc7f0a0",
     "showTitle": false,
     "title": ""
    }
   },
   "outputs": [],
   "source": [
    "# how to make sure that the date inserted in the copied file includes only the business days in the original data\n",
    "business_days_original = AppleData[AppleData.index.dayofweek < 5]\n",
    "business_days_copy = AppleData2[AppleData2.index.dayofweek < 5]\n",
    "\n",
    "missing_dates = business_days_original[~business_days_original.index.isin(business_days_copy.index)]\n",
    "extra_dates = business_days_copy[~business_days_copy.index.isin(business_days_original.index)]\n",
    "extra_dates # it is the dates that are not existed in the original file\n",
    "#missing_dates # no missing dates\n",
    "# so here it shows that the date 2023-02-20 is in the copied file but not in the original so we need to delete the date 2023-02-20\n"
   ]
  },
  {
   "cell_type": "code",
   "execution_count": 0,
   "metadata": {
    "application/vnd.databricks.v1+cell": {
     "cellMetadata": {},
     "inputWidgets": {},
     "nuid": "fe836e89-7583-4e32-a461-3acb1ea8cef0",
     "showTitle": false,
     "title": ""
    }
   },
   "outputs": [],
   "source": [
    "# Remove some indexes by label\n",
    "AppleData2= AppleData2.drop(['2023-02-20'])\n",
    "AppleData2.to_csv('AppleData1.csv')\n"
   ]
  },
  {
   "cell_type": "code",
   "execution_count": 0,
   "metadata": {
    "application/vnd.databricks.v1+cell": {
     "cellMetadata": {},
     "inputWidgets": {},
     "nuid": "92c85a15-debd-433d-8617-7d066b58b20a",
     "showTitle": false,
     "title": ""
    }
   },
   "outputs": [],
   "source": [
    "AppleData2=pd.read_csv('AppleData1.csv',parse_dates=['Date'],index_col='Date')\n",
    "AppleData2"
   ]
  },
  {
   "cell_type": "code",
   "execution_count": 0,
   "metadata": {
    "application/vnd.databricks.v1+cell": {
     "cellMetadata": {},
     "inputWidgets": {},
     "nuid": "4261493b-4d94-4208-b44e-306c31546fb3",
     "showTitle": false,
     "title": ""
    }
   },
   "outputs": [],
   "source": [
    "# to make sure the date is deleted\n",
    "AppleData2.loc[AppleData2.index == '2023-02-20'] # now not existed \n"
   ]
  },
  {
   "cell_type": "code",
   "execution_count": 0,
   "metadata": {
    "application/vnd.databricks.v1+cell": {
     "cellMetadata": {},
     "inputWidgets": {},
     "nuid": "a59b1f28-716a-4c45-9435-e91b53e0fbaf",
     "showTitle": false,
     "title": ""
    }
   },
   "outputs": [],
   "source": [
    "# Jinesh to check the business days in the original\n",
    "import pandas as pd\n",
    "import numpy as np\n",
    "start_date=pd.to_datetime('2018-03-19')\n",
    "num_business=1254\n",
    "\n",
    "date_range=pd.date_range(start=start_date,periods=num_business,freq=\"B\")\n",
    "busines_days=[]\n",
    "for date in date_range:\n",
    "    if date.weekday() < 5:\n",
    "        busines_days.append(date)\n",
    "print(\"buesiness days\",busines_days)"
   ]
  },
  {
   "cell_type": "code",
   "execution_count": 0,
   "metadata": {
    "application/vnd.databricks.v1+cell": {
     "cellMetadata": {},
     "inputWidgets": {},
     "nuid": "7859bce0-ab51-4357-8491-18873341cf54",
     "showTitle": false,
     "title": ""
    }
   },
   "outputs": [],
   "source": [
    "#This code generates a random walk time series for two variables ('a' and 'b') for each day in the year 2019 using the function random_walk(). The random_walk() function creates a random sequence of values and returns a cumulative sum of these values. The date_range() function creates a range of dates from January 1, 2019 to December 31, 2019 with a daily frequency. The data dictionary contains the random walk values for each variable ('a' and 'b') and the pd.DataFrame() function is used to create a pandas DataFrame with these values, using the date range as the index.\n",
    "# Finally, the resulting DataFrame is assigned to the variable df.\n",
    "import numpy as np\n",
    "import pandas as pd\n",
    "\n",
    "np.random.seed(50)\n",
    "\n",
    "def random_walk(n_steps):\n",
    "    step= 0.5 - np.random.random(n_steps) # it gives 1D array of 365 elements from 0 to 1\n",
    "    #print(np.random.random(n_steps))\n",
    "    return np.cumsum(step)\n",
    "\n",
    "date =pd.date_range('1/1/2019','12/31/2019',freq='D')\n",
    "data = {'a':random_walk(365), 'b':random_walk(365)}\n",
    "df=pd.DataFrame(data,index=date)\n",
    "df\n",
    "df.loc[df.index >'January 4,2019'].head()\n",
    "\n"
   ]
  },
  {
   "cell_type": "code",
   "execution_count": 0,
   "metadata": {
    "application/vnd.databricks.v1+cell": {
     "cellMetadata": {},
     "inputWidgets": {},
     "nuid": "56e2f479-d5f5-4604-84ff-fa41398bfdf5",
     "showTitle": false,
     "title": ""
    }
   },
   "outputs": [],
   "source": [
    "# considering the time zones\n",
    "dates_ET= pd.date_range('1/1/2019','12/31/2019',freq='D',tz='US/Eastern')\n",
    "dates_ET[:5]"
   ]
  },
  {
   "cell_type": "code",
   "execution_count": 0,
   "metadata": {
    "application/vnd.databricks.v1+cell": {
     "cellMetadata": {},
     "inputWidgets": {},
     "nuid": "7a730ff6-df11-4d0f-83b0-50d894a8ffcd",
     "showTitle": false,
     "title": ""
    }
   },
   "outputs": [],
   "source": [
    "df_ET=df.tz_localize('US/Eastern')\n",
    "df_ET.head()"
   ]
  },
  {
   "cell_type": "code",
   "execution_count": 0,
   "metadata": {
    "application/vnd.databricks.v1+cell": {
     "cellMetadata": {},
     "inputWidgets": {},
     "nuid": "e022945b-91ed-4433-9b6b-13a2b095ce7f",
     "showTitle": false,
     "title": ""
    }
   },
   "outputs": [],
   "source": [
    "df_PT=df.tz_localize('US/Pacific')\n",
    "df_PT.head()"
   ]
  },
  {
   "cell_type": "code",
   "execution_count": 0,
   "metadata": {
    "application/vnd.databricks.v1+cell": {
     "cellMetadata": {},
     "inputWidgets": {},
     "nuid": "395339dc-f832-47c8-b174-4f1d8853e7b7",
     "showTitle": false,
     "title": ""
    }
   },
   "outputs": [],
   "source": [
    "import zoneinfo\n",
    "zoneinfo.available_timezones()"
   ]
  },
  {
   "cell_type": "code",
   "execution_count": 0,
   "metadata": {
    "application/vnd.databricks.v1+cell": {
     "cellMetadata": {},
     "inputWidgets": {},
     "nuid": "cf82da65-8f41-495b-a1a5-7bdb508c9237",
     "showTitle": false,
     "title": ""
    }
   },
   "outputs": [],
   "source": [
    "import datetime\n",
    "import pytz\n",
    "\n",
    "# create a datetime object with timezone information\n",
    "dt = datetime.datetime(2022, 3, 16, 12, 0, 0, tzinfo=pytz.timezone('US/Eastern'))\n",
    "\n",
    "# print the datetime object with timezone information\n",
    "print(dt)\n",
    "\n",
    "# convert the datetime object to a different timezone\n",
    "new_timezone = pytz.timezone('CET')\n",
    "dt_new = dt.astimezone(new_timezone)\n",
    "\n",
    "# print the new datetime object with the new timezone information\n",
    "print(dt_new)"
   ]
  },
  {
   "cell_type": "code",
   "execution_count": 0,
   "metadata": {
    "application/vnd.databricks.v1+cell": {
     "cellMetadata": {},
     "inputWidgets": {},
     "nuid": "f3682b2a-e3ae-4619-bcd2-d8e7fe211505",
     "showTitle": false,
     "title": ""
    }
   },
   "outputs": [],
   "source": [
    "# connecting to data base using sqlite3 library\n",
    "import sqlite3   # these is my sql db which is inbuild in python default\n",
    "# Connect to database\n",
    "conn = sqlite3.connect('mydatabase.db')\n",
    "\n",
    "#create a curser object\n",
    "c = conn.cursor()\n",
    "\n",
    "#create a new table\n",
    "c.execute('''CREATE TABLE STOCKS(DATE TEXT,QTY REAL, PRICE REAL)''')\n",
    "\n",
    "\n",
    "#INSERT SOME DATA\n",
    "c.execute(\"INSERT INTO STOCKS VALUES('2023-03-05',5,35.14)\")\n",
    "c.execute(\"INSERT INTO STOCKS VALUES('2023-03-06',100,36.14)\")\n",
    "conn.commit()\n",
    "\n",
    "c.close()\n",
    "conn.close()"
   ]
  },
  {
   "cell_type": "code",
   "execution_count": 0,
   "metadata": {
    "application/vnd.databricks.v1+cell": {
     "cellMetadata": {},
     "inputWidgets": {},
     "nuid": "7daedf06-be19-45d9-b82f-8d98c5d3c7ef",
     "showTitle": false,
     "title": ""
    }
   },
   "outputs": [],
   "source": [
    "# Connect to database\n",
    "conn = sqlite3.connect('mydatabase.db')\n",
    "\n",
    "c =conn.cursor()\n",
    "c.execute('SELECT * FROM STOCKS')\n",
    "\n",
    "rows= c.fetchall()\n",
    "\n",
    "for row in rows:\n",
    "    print(row)\n",
    "\n",
    "c.close()\n",
    "conn.close()"
   ]
  },
  {
   "cell_type": "code",
   "execution_count": 0,
   "metadata": {
    "application/vnd.databricks.v1+cell": {
     "cellMetadata": {},
     "inputWidgets": {},
     "nuid": "23cb08e8-56a1-4d6e-9b4e-59da0265d30d",
     "showTitle": false,
     "title": ""
    }
   },
   "outputs": [],
   "source": [
    "pip install azure-storage-blob\n"
   ]
  },
  {
   "cell_type": "code",
   "execution_count": 0,
   "metadata": {
    "application/vnd.databricks.v1+cell": {
     "cellMetadata": {},
     "inputWidgets": {},
     "nuid": "2a3b59dd-a8d5-42f9-a3ba-8d4e1546b431",
     "showTitle": false,
     "title": ""
    }
   },
   "outputs": [],
   "source": [
    "pip install --upgrade azure-storage-blob"
   ]
  },
  {
   "cell_type": "code",
   "execution_count": 0,
   "metadata": {
    "application/vnd.databricks.v1+cell": {
     "cellMetadata": {},
     "inputWidgets": {},
     "nuid": "7db1a17b-a8cc-40f9-8d8a-6b2ac21926ac",
     "showTitle": false,
     "title": ""
    }
   },
   "outputs": [],
   "source": [
    "from azure.storage.blob import BlobServiceClient,BlobClient\n",
    "connection_string='DefaultEndpointsProtocol=https;AccountName=relgendy;AccountKey=YTQ1cy1bOeU59C/5cp+Fjk+/DKHvr9LlimYMwuB+IU9yUtMzmvAISJy9SH4sRC9z87AyOM5ZTCyX+AStInnX4g==;EndpointSuffix=core.windows.net'\n",
    "container_name='historicaldata'\n",
    "blob_service_client=BlobServiceClient.from_connection_string(connection_string)\n",
    "blob_client=blob_service_client.get_blob_client(container_name,'Datasets')\n",
    "with open('Datasets','wb') as my_blob:\n",
    "    blob_data=blob_client.download_blob()\n",
    "    blob_data.readinto(my_blob)"
   ]
  },
  {
   "cell_type": "code",
   "execution_count": 0,
   "metadata": {
    "application/vnd.databricks.v1+cell": {
     "cellMetadata": {},
     "inputWidgets": {},
     "nuid": "edee2a5d-9fed-4103-8bb5-b3ca706d4da2",
     "showTitle": false,
     "title": ""
    }
   },
   "outputs": [],
   "source": [
    "# option 2; better to read the file directories\n",
    "from azure.storage.blob import BlobServiceClient,BlobClient\n",
    "import io\n",
    "connection_string='DefaultEndpointsProtocol=https;AccountName=relgendy;AccountKey=YTQ1cy1bOeU59C/5cp+Fjk+/DKHvr9LlimYMwuB+IU9yUtMzmvAISJy9SH4sRC9z87AyOM5ZTCyX+AStInnX4g==;EndpointSuffix=core.windows.net'\n",
    "container_name='historicaldata'\n",
    "\n",
    "blob_service_client= BlobServiceClient.from_connection_string(connection_string)\n",
    "blob_client=blob_service_client.get_blob_client(container_name,'Datasets/HistoricalData_1679044439359.csv')\n",
    "\n",
    "blob_data =blob_client.download_blob()\n",
    "data = blob_data.content_as_text()\n",
    "df=pd.read_csv(io.StringIO(data))\n",
    "print(df.head())"
   ]
  },
  {
   "cell_type": "code",
   "execution_count": 0,
   "metadata": {
    "application/vnd.databricks.v1+cell": {
     "cellMetadata": {},
     "inputWidgets": {},
     "nuid": "2f8d7f2d-35c2-4450-bb23-9913ebb14531",
     "showTitle": false,
     "title": ""
    }
   },
   "outputs": [],
   "source": [
    "pip install networkx"
   ]
  },
  {
   "cell_type": "code",
   "execution_count": 0,
   "metadata": {
    "application/vnd.databricks.v1+cell": {
     "cellMetadata": {},
     "inputWidgets": {},
     "nuid": "39c1845c-e16e-4415-ad88-7c44941da520",
     "showTitle": false,
     "title": ""
    }
   },
   "outputs": [],
   "source": [
    "pip install nltk"
   ]
  },
  {
   "cell_type": "code",
   "execution_count": 0,
   "metadata": {
    "application/vnd.databricks.v1+cell": {
     "cellMetadata": {},
     "inputWidgets": {},
     "nuid": "60078cd5-4034-4bbb-8dc8-eb5f86ca8ce0",
     "showTitle": false,
     "title": ""
    }
   },
   "outputs": [],
   "source": [
    "import re\n",
    "import nltk   # for text functions\n",
    "from nltk import ngrams # ngrams is to read through a document in specific range of words overlapped\n",
    "from nltk.corpus import stopwords #- the, is, and, are -example of stopwords\n",
    "from nltk.corpus import opinion_lexicon\n",
    "from nltk.tokenize import word_tokenize\n",
    "nltk.download('stopwords',quiet=True)\n",
    "import matplotlib.pyplot as plt\n",
    "import pandas as pd\n",
    "import networkx as nx # for network graphs"
   ]
  },
  {
   "cell_type": "code",
   "execution_count": 0,
   "metadata": {
    "application/vnd.databricks.v1+cell": {
     "cellMetadata": {},
     "inputWidgets": {},
     "nuid": "854a166b-58be-4cab-a7f2-311f5a8dcb28",
     "showTitle": false,
     "title": ""
    }
   },
   "outputs": [],
   "source": [
    "iliad=pd.read_csv('from Jinesh\\Iliad.txt',sep='\\t').dropna().drop('gutenberg_id',1)\n",
    "iliad.head()"
   ]
  },
  {
   "cell_type": "code",
   "execution_count": 0,
   "metadata": {
    "application/vnd.databricks.v1+cell": {
     "cellMetadata": {},
     "inputWidgets": {},
     "nuid": "e2cb2316-4a29-422d-9869-0d2ab5b8d870",
     "showTitle": false,
     "title": ""
    }
   },
   "outputs": [],
   "source": [
    "# data cleaning function\n",
    "def clean_text(text):\n",
    "    text=text.lower()\n",
    "    text=text.replace(\"'\",\"\")\n",
    "    text=re.sub(r'[^\\w]',' ',text)\n",
    "    text=re.sub(r'\\s+',' ',text)\n",
    "    text=text.strip()\n",
    "    return text\n",
    "\n",
    "iliad['text']=iliad['text'].map(clean_text)\n",
    "iliad.head()\n"
   ]
  },
  {
   "cell_type": "code",
   "execution_count": 0,
   "metadata": {
    "application/vnd.databricks.v1+cell": {
     "cellMetadata": {},
     "inputWidgets": {},
     "nuid": "03726f42-def4-40ce-a597-437ae8aaf348",
     "showTitle": false,
     "title": ""
    }
   },
   "outputs": [],
   "source": [
    "iliad.info()"
   ]
  },
  {
   "cell_type": "code",
   "execution_count": 0,
   "metadata": {
    "application/vnd.databricks.v1+cell": {
     "cellMetadata": {},
     "inputWidgets": {},
     "nuid": "91922630-158b-4397-8c7f-b21c956a293a",
     "showTitle": false,
     "title": ""
    }
   },
   "outputs": [],
   "source": [
    "iliad1=iliad.head(1000)"
   ]
  },
  {
   "cell_type": "code",
   "execution_count": 0,
   "metadata": {
    "application/vnd.databricks.v1+cell": {
     "cellMetadata": {},
     "inputWidgets": {},
     "nuid": "bc76d370-13a9-4744-a0f2-73691e65a422",
     "showTitle": false,
     "title": ""
    }
   },
   "outputs": [],
   "source": [
    "iliad1['text']=iliad1['text'].astype(str)"
   ]
  },
  {
   "cell_type": "code",
   "execution_count": 0,
   "metadata": {
    "application/vnd.databricks.v1+cell": {
     "cellMetadata": {},
     "inputWidgets": {},
     "nuid": "f09b812b-20fa-43cb-8029-2f09ae349faf",
     "showTitle": false,
     "title": ""
    }
   },
   "outputs": [],
   "source": [
    "iliad1.info()"
   ]
  },
  {
   "cell_type": "code",
   "execution_count": 0,
   "metadata": {
    "application/vnd.databricks.v1+cell": {
     "cellMetadata": {},
     "inputWidgets": {},
     "nuid": "899adeeb-e3ef-4fda-bd4c-9750db7a1dcf",
     "showTitle": false,
     "title": ""
    }
   },
   "outputs": [],
   "source": [
    "import nltk \n",
    "nltk.download('punkt')\n",
    "\n"
   ]
  },
  {
   "cell_type": "code",
   "execution_count": 0,
   "metadata": {
    "application/vnd.databricks.v1+cell": {
     "cellMetadata": {},
     "inputWidgets": {},
     "nuid": "ee7f5b71-68d4-432e-9067-afc8b6f74d7a",
     "showTitle": false,
     "title": ""
    }
   },
   "outputs": [],
   "source": [
    "iliad1['tokens']=iliad1['text'].map(nltk.word_tokenize)\n",
    "iliad1.head()"
   ]
  },
  {
   "cell_type": "code",
   "execution_count": 0,
   "metadata": {
    "application/vnd.databricks.v1+cell": {
     "cellMetadata": {},
     "inputWidgets": {},
     "nuid": "00173c7d-59fc-4cd3-98e0-e7d514fa86dc",
     "showTitle": false,
     "title": ""
    }
   },
   "outputs": [],
   "source": [
    "iliad1['grams']=iliad1['text'].map(lambda x: list(ngrams(x,3)))\n",
    "iliad1.head()\n",
    "# then we can explode the grams column to have each pair in one line\n",
    "iliad1=iliad1.explode('grams')\n",
    "iliad1.head()"
   ]
  },
  {
   "cell_type": "code",
   "execution_count": 0,
   "metadata": {
    "application/vnd.databricks.v1+cell": {
     "cellMetadata": {},
     "inputWidgets": {},
     "nuid": "623c1906-6455-4ced-9c48-0d7bd577f72d",
     "showTitle": false,
     "title": ""
    }
   },
   "outputs": [],
   "source": [
    "iliad1.count() # here we will find that the rows of grams column is less than the other "
   ]
  },
  {
   "cell_type": "code",
   "execution_count": 0,
   "metadata": {
    "application/vnd.databricks.v1+cell": {
     "cellMetadata": {},
     "inputWidgets": {},
     "nuid": "7cce789e-c84e-46aa-b67b-0a55663eb31b",
     "showTitle": false,
     "title": ""
    }
   },
   "outputs": [],
   "source": [
    "# to get the count of each pair\n",
    "iliad1['grams'].value_counts()"
   ]
  },
  {
   "cell_type": "code",
   "execution_count": 0,
   "metadata": {
    "application/vnd.databricks.v1+cell": {
     "cellMetadata": {},
     "inputWidgets": {},
     "nuid": "f410d847-0862-4c9f-9738-4e49a1f16f03",
     "showTitle": false,
     "title": ""
    }
   },
   "outputs": [],
   "source": [
    "# now we want to put each pair(which contains 3 characters) in a list/column\n",
    "iliad1.grams.values\n"
   ]
  },
  {
   "cell_type": "code",
   "execution_count": 0,
   "metadata": {
    "application/vnd.databricks.v1+cell": {
     "cellMetadata": {},
     "inputWidgets": {},
     "nuid": "0e282f1c-d5c6-4409-ae62-4f9bc5664299",
     "showTitle": false,
     "title": ""
    }
   },
   "outputs": [],
   "source": [
    "grams=pd.DataFrame(iliad1.grams.values.tolist(),columns=['char1','char2','char3']).dropna()\n",
    "grams.head()"
   ]
  },
  {
   "cell_type": "code",
   "execution_count": 0,
   "metadata": {
    "application/vnd.databricks.v1+cell": {
     "cellMetadata": {},
     "inputWidgets": {},
     "nuid": "0fbc1e40-ec35-4e09-b7f7-c9de103cea23",
     "showTitle": false,
     "title": ""
    }
   },
   "outputs": [],
   "source": [
    "grams.count()\n"
   ]
  },
  {
   "cell_type": "code",
   "execution_count": 0,
   "metadata": {
    "application/vnd.databricks.v1+cell": {
     "cellMetadata": {},
     "inputWidgets": {},
     "nuid": "72d4437b-e0ed-436f-abe0-265f1e178ba8",
     "showTitle": false,
     "title": ""
    }
   },
   "outputs": [],
   "source": [
    "# now we want to remove the stop words for filtering\n",
    "import nltk\n",
    "nltk.download('stopwords')"
   ]
  },
  {
   "cell_type": "code",
   "execution_count": 0,
   "metadata": {
    "application/vnd.databricks.v1+cell": {
     "cellMetadata": {},
     "inputWidgets": {},
     "nuid": "3a0bce21-91df-4be5-9313-ed7436605b1d",
     "showTitle": false,
     "title": ""
    }
   },
   "outputs": [],
   "source": [
    "grams.char1"
   ]
  },
  {
   "cell_type": "code",
   "execution_count": 0,
   "metadata": {
    "application/vnd.databricks.v1+cell": {
     "cellMetadata": {},
     "inputWidgets": {},
     "nuid": "1cdf431a-7056-4479-b108-48cacec9e09d",
     "showTitle": false,
     "title": ""
    }
   },
   "outputs": [],
   "source": [
    "#remove stop words\n",
    "# stopwords are words that doesn't add meaning to the text analysis so we remove it to just focus on the meaningful words to have more accurate and efficient text analysis\n",
    "# examples: \"the\", \"and\", \"a\", \"an\", \"in\", \"of\", \"to\", \"for\", \"with\", and \"on\"\n",
    "en_stopwords=set(stopwords.words('english'))\n",
    "grams1=grams.char1.isin(en_stopwords)|grams.char2.isin(en_stopwords)|grams.char3.isin(en_stopwords)\n"
   ]
  },
  {
   "cell_type": "code",
   "execution_count": 0,
   "metadata": {
    "application/vnd.databricks.v1+cell": {
     "cellMetadata": {},
     "inputWidgets": {},
     "nuid": "cb4ec957-2f81-4da7-9931-88ebf24995c9",
     "showTitle": false,
     "title": ""
    }
   },
   "outputs": [],
   "source": [
    "print(grams1.values)"
   ]
  },
  {
   "cell_type": "code",
   "execution_count": 0,
   "metadata": {
    "application/vnd.databricks.v1+cell": {
     "cellMetadata": {},
     "inputWidgets": {},
     "nuid": "56a54d90-edca-42f0-8e0b-6fb8675170a7",
     "showTitle": false,
     "title": ""
    }
   },
   "outputs": [],
   "source": [
    "en_stopwords=set(stopwords.words('english'))\n",
    "grams=grams[~grams['char1'].isin(en_stopwords)|grams['char2'].isin(en_stopwords)|grams['char3'].isin(en_stopwords)]"
   ]
  },
  {
   "cell_type": "code",
   "execution_count": 0,
   "metadata": {
    "application/vnd.databricks.v1+cell": {
     "cellMetadata": {},
     "inputWidgets": {},
     "nuid": "a07c8801-e5b2-4dde-b6a4-f7e207312c59",
     "showTitle": false,
     "title": ""
    }
   },
   "outputs": [],
   "source": [
    "grams.head()  # filtered dataframe after stopwords"
   ]
  },
  {
   "cell_type": "code",
   "execution_count": 0,
   "metadata": {
    "application/vnd.databricks.v1+cell": {
     "cellMetadata": {},
     "inputWidgets": {},
     "nuid": "6f2aead1-5ebd-4d1e-8fd1-79fab53b4e08",
     "showTitle": false,
     "title": ""
    }
   },
   "outputs": [],
   "source": [
    "# here it became less rows as the stopwords are applied on it\n",
    "grams.count()"
   ]
  },
  {
   "cell_type": "code",
   "execution_count": 0,
   "metadata": {
    "application/vnd.databricks.v1+cell": {
     "cellMetadata": {},
     "inputWidgets": {},
     "nuid": "d665e508-abf6-4272-8296-aa6474f256f3",
     "showTitle": false,
     "title": ""
    }
   },
   "outputs": [],
   "source": [
    "grams.head()"
   ]
  },
  {
   "cell_type": "code",
   "execution_count": 0,
   "metadata": {
    "application/vnd.databricks.v1+cell": {
     "cellMetadata": {},
     "inputWidgets": {},
     "nuid": "bf5e8b40-e3ad-4be8-943f-e233fbc64c60",
     "showTitle": false,
     "title": ""
    }
   },
   "outputs": [],
   "source": [
    "grams = grams.groupby(['char1','char2','char3']).size().to_frame('n').reset_index().sort_values('n',ascending=False)\n",
    "grams.head(20)"
   ]
  },
  {
   "cell_type": "code",
   "execution_count": 0,
   "metadata": {
    "application/vnd.databricks.v1+cell": {
     "cellMetadata": {},
     "inputWidgets": {},
     "nuid": "fdebc22a-419e-4ea5-8165-d2a8ccb3a845",
     "showTitle": false,
     "title": ""
    }
   },
   "outputs": [],
   "source": [
    "removed_words = set()\n",
    "for col in ['char1', 'char2', 'char3']:\n",
    "    removed_words.update(set(grams[col]) & en_stopwords)\n",
    "\n",
    "# Print the list of removed words\n",
    "print(removed_words)"
   ]
  },
  {
   "cell_type": "code",
   "execution_count": 0,
   "metadata": {
    "application/vnd.databricks.v1+cell": {
     "cellMetadata": {},
     "inputWidgets": {},
     "nuid": "ee02fd39-0e94-41c4-97c9-919828ebfe00",
     "showTitle": false,
     "title": ""
    }
   },
   "outputs": [],
   "source": [
    "# sentiment analysis is a NLP natural language programming used in text analysis to analyse the emotion expressed in it either positive,negative or neutral\n",
    "from nltk.sentiment import SentimentIntensityAnalyzer\n",
    "\n",
    "sia= SentimentIntensityAnalyzer()\n",
    "sentiment= sia.polarity_scores(iliad1['text'])"
   ]
  },
  {
   "cell_type": "code",
   "execution_count": 0,
   "metadata": {
    "application/vnd.databricks.v1+cell": {
     "cellMetadata": {},
     "inputWidgets": {},
     "nuid": "a09f2c63-6bb1-4075-ac98-70baac0ee03e",
     "showTitle": false,
     "title": ""
    }
   },
   "outputs": [],
   "source": [
    "iliad1.head()"
   ]
  },
  {
   "cell_type": "code",
   "execution_count": 0,
   "metadata": {
    "application/vnd.databricks.v1+cell": {
     "cellMetadata": {},
     "inputWidgets": {},
     "nuid": "b7b9d2c2-33e2-46dc-845e-25eba10036ca",
     "showTitle": false,
     "title": ""
    }
   },
   "outputs": [],
   "source": [
    "import nltk\n",
    "print(nltk.data.path)\n"
   ]
  },
  {
   "cell_type": "code",
   "execution_count": 0,
   "metadata": {
    "application/vnd.databricks.v1+cell": {
     "cellMetadata": {},
     "inputWidgets": {},
     "nuid": "80355d3a-b13e-48a0-9fcf-774f8b4bdfd5",
     "showTitle": false,
     "title": ""
    }
   },
   "outputs": [],
   "source": [
    "#option 1 to get the vader lexicon updated\n",
    "nltk.download()\n"
   ]
  },
  {
   "cell_type": "code",
   "execution_count": 0,
   "metadata": {
    "application/vnd.databricks.v1+cell": {
     "cellMetadata": {},
     "inputWidgets": {},
     "nuid": "8007a680-1744-4327-a911-c4cdede51d53",
     "showTitle": false,
     "title": ""
    }
   },
   "outputs": [],
   "source": [
    "#option 2\n",
    "nltk.download('vader_lexicon')"
   ]
  },
  {
   "cell_type": "code",
   "execution_count": 0,
   "metadata": {
    "application/vnd.databricks.v1+cell": {
     "cellMetadata": {},
     "inputWidgets": {},
     "nuid": "eb1bd12f-1f79-43b9-aa2c-52ab0bf94355",
     "showTitle": false,
     "title": ""
    }
   },
   "outputs": [],
   "source": [
    "# sentiment analysis is a NLP natural language programming used in text analysis to analyse the emotion expressed in it either positive,negative or neutral\n",
    "import nltk\n",
    "from nltk.sentiment import SentimentIntensityAnalyzer\n",
    "\n",
    "sia= SentimentIntensityAnalyzer()\n",
    "# iterate through each row of the dataset and apply sentiment analysis\n",
    "# add a new column called 'sentiment' to the DataFrame\n",
    "#iliad1['sentiment'] = 0.0\n",
    "\n",
    "for index, row in iliad.iterrows():\n",
    "    text = row['text']\n",
    "    sentiment = sia.polarity_scores(text)\n",
    "    iliad.loc[index, 'sentiment'] = sentiment['compound']"
   ]
  },
  {
   "cell_type": "code",
   "execution_count": 0,
   "metadata": {
    "application/vnd.databricks.v1+cell": {
     "cellMetadata": {},
     "inputWidgets": {},
     "nuid": "3e8ae002-7a7b-42cd-bdc1-553132398f91",
     "showTitle": false,
     "title": ""
    }
   },
   "outputs": [],
   "source": [
    "sentiment"
   ]
  },
  {
   "cell_type": "code",
   "execution_count": 0,
   "metadata": {
    "application/vnd.databricks.v1+cell": {
     "cellMetadata": {},
     "inputWidgets": {},
     "nuid": "7fe67899-d756-458e-995f-2745a82b3b97",
     "showTitle": false,
     "title": ""
    }
   },
   "outputs": [],
   "source": [
    "import nltk\n",
    "from nltk.sentiment import SentimentIntensityAnalyzer\n",
    "\n",
    "sia = SentimentIntensityAnalyzer()\n",
    "\n",
    "iliad['sentiment'] = [sia.polarity_scores(text)['compound'] for text in iliad['text']]\n"
   ]
  },
  {
   "cell_type": "code",
   "execution_count": 0,
   "metadata": {
    "application/vnd.databricks.v1+cell": {
     "cellMetadata": {},
     "inputWidgets": {},
     "nuid": "803e287e-e5ab-4b9a-9bc9-25b8b6770deb",
     "showTitle": false,
     "title": ""
    }
   },
   "outputs": [],
   "source": [
    "sentiment"
   ]
  },
  {
   "cell_type": "code",
   "execution_count": 0,
   "metadata": {
    "application/vnd.databricks.v1+cell": {
     "cellMetadata": {},
     "inputWidgets": {},
     "nuid": "402dcfc4-3af7-485d-9dc3-3cc7e6d03a79",
     "showTitle": false,
     "title": ""
    }
   },
   "outputs": [],
   "source": [
    "iliad1.head()"
   ]
  },
  {
   "cell_type": "code",
   "execution_count": 0,
   "metadata": {
    "application/vnd.databricks.v1+cell": {
     "cellMetadata": {},
     "inputWidgets": {},
     "nuid": "0dc2689b-9ebe-4246-b7bb-81491aea31cf",
     "showTitle": false,
     "title": ""
    }
   },
   "outputs": [],
   "source": [
    "iliad1.describe(include='all')"
   ]
  },
  {
   "cell_type": "code",
   "execution_count": 0,
   "metadata": {
    "application/vnd.databricks.v1+cell": {
     "cellMetadata": {},
     "inputWidgets": {},
     "nuid": "73623d29-bb22-4886-be73-e7adb9f6cdab",
     "showTitle": false,
     "title": ""
    }
   },
   "outputs": [],
   "source": [
    "# Reset the DataFrame index\n",
    "#iliad1 = iliad1.reset_index()"
   ]
  },
  {
   "cell_type": "code",
   "execution_count": 0,
   "metadata": {
    "application/vnd.databricks.v1+cell": {
     "cellMetadata": {},
     "inputWidgets": {},
     "nuid": "40850ff0-d176-4bde-ba64-232002fc9302",
     "showTitle": false,
     "title": ""
    }
   },
   "outputs": [],
   "source": [
    "# Drop the new index column\n",
    "#iliad1 = iliad1.drop(columns=['index'])"
   ]
  },
  {
   "cell_type": "code",
   "execution_count": 0,
   "metadata": {
    "application/vnd.databricks.v1+cell": {
     "cellMetadata": {},
     "inputWidgets": {},
     "nuid": "f335aa79-9b87-47ea-921c-ee413a67a32e",
     "showTitle": false,
     "title": ""
    }
   },
   "outputs": [],
   "source": [
    "iliad.head()"
   ]
  },
  {
   "cell_type": "code",
   "execution_count": 0,
   "metadata": {
    "application/vnd.databricks.v1+cell": {
     "cellMetadata": {},
     "inputWidgets": {},
     "nuid": "c5a29743-ad70-4ac8-8715-480fbb9c55f8",
     "showTitle": false,
     "title": ""
    }
   },
   "outputs": [],
   "source": [
    "pip install pyodbc"
   ]
  },
  {
   "cell_type": "code",
   "execution_count": 0,
   "metadata": {
    "application/vnd.databricks.v1+cell": {
     "cellMetadata": {},
     "inputWidgets": {},
     "nuid": "7e675ff1-1cc5-4a2c-b7a1-cc9a69c34b8e",
     "showTitle": false,
     "title": ""
    }
   },
   "outputs": [],
   "source": [
    "# to connect the python to azure sql\n",
    "import pyodbc\n",
    "server='trainingtestc339.database.windows.net'\n",
    "database='trainingtest'\n",
    "username='c339'\n",
    "password='Rovy0191654747.'\n",
    "driver= '{ODBC Driver 17 for SQL Server}'  # here make sure that you have the driver version, otherwise install it from microsoft\n",
    "# https://learn.microsoft.com/en-us/sql/connect/odbc/download-odbc-driver-for-sql-server?view=sql-server-ver16\n",
    "connection_string = f\"DRIVER={driver};SERVER={server};DATABASE={database};UID={username};PWD={password}\"\n",
    "conn = pyodbc.connect(connection_string)\n",
    "cursor = conn.cursor()\n",
    "cursor.execute(\"SELECT * FROM student7\")\n",
    "rows = cursor.fetchall()\n",
    "for row in rows:\n",
    "    print(row)\n",
    "cursor.close()\n",
    "conn.close()\n"
   ]
  },
  {
   "cell_type": "code",
   "execution_count": 0,
   "metadata": {
    "application/vnd.databricks.v1+cell": {
     "cellMetadata": {},
     "inputWidgets": {},
     "nuid": "a96851f2-347f-46a0-9ad5-4a2ebcb73279",
     "showTitle": false,
     "title": ""
    }
   },
   "outputs": [],
   "source": [
    "pip install pandas-profiling\n"
   ]
  },
  {
   "cell_type": "code",
   "execution_count": 0,
   "metadata": {
    "application/vnd.databricks.v1+cell": {
     "cellMetadata": {},
     "inputWidgets": {},
     "nuid": "5a08969a-75c1-4004-8e37-fdd2d5a24152",
     "showTitle": false,
     "title": ""
    }
   },
   "outputs": [],
   "source": [
    "pip install azure-cosmos"
   ]
  },
  {
   "cell_type": "code",
   "execution_count": 0,
   "metadata": {
    "application/vnd.databricks.v1+cell": {
     "cellMetadata": {},
     "inputWidgets": {},
     "nuid": "554fde38-847b-4ce8-b884-38ee024384de",
     "showTitle": false,
     "title": ""
    }
   },
   "outputs": [],
   "source": [
    "from pydocumentdb.documents import ConnectionPolicy\n"
   ]
  },
  {
   "cell_type": "code",
   "execution_count": 0,
   "metadata": {
    "application/vnd.databricks.v1+cell": {
     "cellMetadata": {},
     "inputWidgets": {},
     "nuid": "bbc0b5e0-92f9-4790-b82e-3cbc976a9d05",
     "showTitle": false,
     "title": ""
    }
   },
   "outputs": [],
   "source": [
    "import pyodbc\n",
    "from queue import Queue\n",
    "from threading import Lock\n",
    "from getpass import getpass\n",
    "#password = getpass()\n",
    "\n",
    "server='trainingtestc339.database.windows.net'\n",
    "database='trainingtest'\n",
    "username='c339'\n",
    "#password = getpass('Rovy0191654747.')\n",
    "password='Rovy0191654747.'\n",
    "driver= '{ODBC Driver 17 for SQL Server}'  # here make sure that you have the driver version, otherwise install it from microsoft\n",
    "# https://learn.microsoft.com/en-us/sql/connect/odbc/download-odbc-driver-for-sql-server?view=sql-server-ver16\n",
    "connection_string = f\"DRIVER={driver};SERVER={server};DATABASE={database};UID={username};PWD={password}\"\n",
    "max_con=10               #  The max_con variable sets the maximum number of connections that can be in the pool at any given time\n",
    "connection_pool=Queue(max_con)\n",
    "lock=Lock()\n",
    "\n",
    "def create_connection():# developing a function to get the connection from queue\n",
    "    with lock:\n",
    "        if not connection_pool.empty():\n",
    "            return connection_pool.get()\n",
    "    connection = pyodbc.connect(connection_string)\n",
    "    return connection\n",
    "\n",
    "def get_connection():  # adding a new connection to the queue\n",
    "    with lock:\n",
    "        if not connection_pool.empty():\n",
    "             return connection_pool.get()\n",
    "        connection = pyodbc.connect(connection_string)\n",
    "        return connection\n",
    "     #       return connection_pool.put(connection)\n",
    "        \n",
    "\n",
    "def release_connection(connection): # closing the connection before adding it back to the queue\n",
    "    with lock:\n",
    "        connection.close()\n",
    "        connection_pool.put(connection)\n",
    "\n",
    "connection=get_connection()\n",
    "cursor=connection.cursor()\n",
    "\n",
    "cursor.execute('select * from student7')  # query to call the database\n",
    "\n",
    "results=cursor.fetchall()  # this line is optional  ; to fetch each row in the data\n",
    "for cur in results:  # or for row in cursor: print (row)\n",
    "    print(cur)\n",
    "\n",
    "cursor.execute(\"insert into student7 (username,gender,salary) values ('rovan','f',5000.533)\")  # execute a command\n",
    "connection.commit()   # to save the changes\n",
    "\n",
    "cursor.execute('select * from student7')  # to call the database after the changes made\n",
    "results=cursor.fetchall()  # this line is optional\n",
    "for cur in results:  # or for row in cursor: print (row)\n",
    "    print(cur)\n",
    "\n",
    "cursor.execute('select * from vehicle')\n",
    "for cur in cursor: print (cur)\n",
    "release_connection(connection)  # releasing the connection after being done with using it \n",
    "# This code should correctly create a connection pool and allow you to reuse connections to the database.\n",
    "#  Note that you may need to modify the connection_string variable to match your own database credentials.\n",
    "# You can run as many queries as you want, as long as you release each connection back to the pool when you're done using it\n",
    "# Keep in mind that opening too many connections can cause performance issues, so it's important to find the right balance.\n"
   ]
  },
  {
   "cell_type": "code",
   "execution_count": 0,
   "metadata": {
    "application/vnd.databricks.v1+cell": {
     "cellMetadata": {},
     "inputWidgets": {},
     "nuid": "c48d2d5b-fd3d-4c9c-b861-5a2e15b08fcd",
     "showTitle": false,
     "title": ""
    }
   },
   "outputs": [],
   "source": [
    "\n",
    "#connection queue\n",
    "from queue import Queue\n",
    "from threading import Lock\n",
    "import pyodbc\n",
    "from getpass import getpass\n",
    "\n",
    "\n",
    "max_con=2\n",
    "connection_pool=Queue(max_con)\n",
    "lock=Lock()\n",
    "\n",
    "# create connections and add them to the queue\n",
    "for i in range(max_con):\n",
    "    connection_pool.put(pyodbc.connect(connection_string))\n",
    "\n",
    "\n",
    "# define a function to get connection from queue\n",
    "def get_Connection():\n",
    "    with lock:\n",
    "        if not connection_pool.empty():\n",
    "            return connection_pool.get()\n",
    "    # if queue is empty, raise an exception\n",
    "    raise Exception(\"Maximum number of connections reached\")\n",
    "\n",
    "def release_connection(connection):\n",
    "    with lock:\n",
    "        connection_pool.put(connection)\n",
    "\n",
    "connection=get_Connection()\n",
    "cursor=connection.cursor()\n",
    "cursor.execute(\"select * from student7\")\n",
    "\n",
    "for row in cursor:\n",
    "    print(row)\n",
    "connection1=get_Connection()\n",
    "cursor=connection.cursor()\n",
    "cursor.execute('select * from student7')\n",
    "for row in cursor:\n",
    "    print(row)\n",
    "\n",
    "connection1=get_Connection()\n",
    "cursor=connection.cursor()\n",
    "cursor.execute('select * from student7')\n",
    "for row in cursor:\n",
    "    print(row)\n",
    "\n",
    "release_connection(connection)\n",
    "release_connection(connection1)"
   ]
  },
  {
   "cell_type": "code",
   "execution_count": 0,
   "metadata": {
    "application/vnd.databricks.v1+cell": {
     "cellMetadata": {},
     "inputWidgets": {},
     "nuid": "b141526f-38d8-4bab-8db0-b7ac328dc743",
     "showTitle": false,
     "title": ""
    }
   },
   "outputs": [],
   "source": [
    "pip install mysql-connector-python"
   ]
  },
  {
   "cell_type": "code",
   "execution_count": 0,
   "metadata": {
    "application/vnd.databricks.v1+cell": {
     "cellMetadata": {},
     "inputWidgets": {},
     "nuid": "04b616f2-3b82-4d4a-a791-526113ee96e4",
     "showTitle": false,
     "title": ""
    }
   },
   "outputs": [],
   "source": [
    "import mysql.connector\n",
    "config={\n",
    "    'username':'c339',\n",
    "    'password':'Rovy0191654747.',\n",
    "    'host':'trainingtestc339.database.windows.net',\n",
    "    'database':'trainingtest'}\n",
    "cnx=mysql.connector.connect(**config)"
   ]
  },
  {
   "cell_type": "code",
   "execution_count": 0,
   "metadata": {
    "application/vnd.databricks.v1+cell": {
     "cellMetadata": {},
     "inputWidgets": {},
     "nuid": "0be1543e-3cc2-461e-820d-0575656b9b38",
     "showTitle": false,
     "title": ""
    }
   },
   "outputs": [],
   "source": [
    "import mysql.connector\n",
    "from mysql.connector import pooling\n",
    "\n",
    "# Connection pool configuration\n",
    "config = {\n",
    "  \"host\": \"trainingtestc339.database.windows.net\",\n",
    "  \"user\": \"c339\",\n",
    "  \"password\": \"Rovy0191654747.\",\n",
    "  \"database\": \"trainingtest\"\n",
    "}\n",
    "\n",
    "pool = pooling.MySQLConnectionPool(pool_size=5, **config)\n",
    "\n",
    "# Try to acquire 6 connections from the pool\n",
    "try:\n",
    "    connections = []\n",
    "    for i in range(6):\n",
    "        connection = pool.get_connection()\n",
    "        connections.append(connection)\n",
    "        print(f\"Acquired connection {i}\")\n",
    "except mysql.connector.errors.PoolError as error:\n",
    "    print(f\"Error: {error}\")\n",
    "finally:\n",
    "    # Release all connections back to the pool\n",
    "    for connection in connections:\n",
    "        connection.close()\n"
   ]
  },
  {
   "cell_type": "code",
   "execution_count": 0,
   "metadata": {
    "application/vnd.databricks.v1+cell": {
     "cellMetadata": {},
     "inputWidgets": {},
     "nuid": "e99be69e-a551-4af5-a68e-3ed5f3853461",
     "showTitle": false,
     "title": ""
    }
   },
   "outputs": [],
   "source": [
    "connection1=get_connection()\n",
    "cursor=connection1.cursor()\n",
    "\n",
    "create_table_query='''CREATE TABLE mytable(id int not null, name varchar(255),age int,primary key(id))'''\n",
    "cursor.execute(create_table_query)\n",
    "connection1.commit()"
   ]
  },
  {
   "cell_type": "code",
   "execution_count": 0,
   "metadata": {
    "application/vnd.databricks.v1+cell": {
     "cellMetadata": {},
     "inputWidgets": {},
     "nuid": "8411a616-71d5-43c8-95f4-c5588a418c7a",
     "showTitle": false,
     "title": ""
    }
   },
   "outputs": [],
   "source": [
    "insert_data_query='''INSERT INTO mytable(id,name,age) values(1,'john',30),(2,'dfg',34),(3,'fdx',45)'''\n",
    "cursor.execute(insert_data_query)\n",
    "connection1.commit()\n",
    "\n"
   ]
  },
  {
   "cell_type": "code",
   "execution_count": 0,
   "metadata": {
    "application/vnd.databricks.v1+cell": {
     "cellMetadata": {},
     "inputWidgets": {},
     "nuid": "808f2827-c157-40d6-8353-6540d50097bf",
     "showTitle": false,
     "title": ""
    }
   },
   "outputs": [],
   "source": [
    "showing=cursor.execute('select * from mytable')\n",
    "for row in showing:print(row)"
   ]
  },
  {
   "cell_type": "code",
   "execution_count": 0,
   "metadata": {
    "application/vnd.databricks.v1+cell": {
     "cellMetadata": {},
     "inputWidgets": {},
     "nuid": "6fbf2c85-63a1-48c8-93c8-b88443b27f44",
     "showTitle": false,
     "title": ""
    }
   },
   "outputs": [],
   "source": [
    "connection1.close()"
   ]
  },
  {
   "cell_type": "code",
   "execution_count": 0,
   "metadata": {
    "application/vnd.databricks.v1+cell": {
     "cellMetadata": {},
     "inputWidgets": {},
     "nuid": "d69242b5-1dfc-4f19-996a-6c8191096129",
     "showTitle": false,
     "title": ""
    }
   },
   "outputs": [],
   "source": [
    "# pushing the data into the storage \n",
    "import pandas as pd \n",
    "from azure.storage.blob import BlobServiceClient,BlobClient,ContainerClient\n"
   ]
  },
  {
   "cell_type": "code",
   "execution_count": 0,
   "metadata": {
    "application/vnd.databricks.v1+cell": {
     "cellMetadata": {},
     "inputWidgets": {},
     "nuid": "db5d04e6-6781-4a9c-b142-f924ce699768",
     "showTitle": false,
     "title": ""
    }
   },
   "outputs": [],
   "source": [
    "data={'name':['john','jane','bob'],'age':[30,25,40]}\n",
    "df=pd.DataFrame(data)"
   ]
  },
  {
   "cell_type": "code",
   "execution_count": 0,
   "metadata": {
    "application/vnd.databricks.v1+cell": {
     "cellMetadata": {},
     "inputWidgets": {},
     "nuid": "8e783783-e520-4f61-905a-cd3b08b263ee",
     "showTitle": false,
     "title": ""
    }
   },
   "outputs": [],
   "source": [
    "csv_data=df.to_csv(index=False)\n"
   ]
  },
  {
   "cell_type": "code",
   "execution_count": 0,
   "metadata": {
    "application/vnd.databricks.v1+cell": {
     "cellMetadata": {},
     "inputWidgets": {},
     "nuid": "5868b06b-3f22-43ef-9938-a3e73f928d7a",
     "showTitle": false,
     "title": ""
    }
   },
   "outputs": [],
   "source": [
    "# pushing the data into the container/storage account\n",
    "connection_string='DefaultEndpointsProtocol=https;AccountName=relgendy;AccountKey=YTQ1cy1bOeU59C/5cp+Fjk+/DKHvr9LlimYMwuB+IU9yUtMzmvAISJy9SH4sRC9z87AyOM5ZTCyX+AStInnX4g==;EndpointSuffix=core.windows.net'\n",
    "blob_service_client=BlobServiceClient.from_connection_string(connection_string)\n",
    "container_name='historicaldata'\n",
    "container_Client=blob_service_client.get_container_client(container_name)\n",
    "blob_name='test.csv'\n",
    "blob_client=container_Client.get_blob_client(blob_name)\n",
    "blob_client.upload_blob(csv_data,overwrite=True)"
   ]
  },
  {
   "cell_type": "code",
   "execution_count": 0,
   "metadata": {
    "application/vnd.databricks.v1+cell": {
     "cellMetadata": {},
     "inputWidgets": {},
     "nuid": "600f5120-5726-4807-82f6-40c70c53939a",
     "showTitle": false,
     "title": ""
    }
   },
   "outputs": [],
   "source": [
    "# Check if blob exists in container\n",
    "if blob_client.exists():\n",
    "    print(f\"Blob '{blob_name}' exists in container '{container_name}'\")\n",
    "    \n",
    "    # Get blob URL\n",
    "    blob_url = blob_client.url\n",
    "    print(f\"Blob URL: {blob_url}\")\n",
    "else:\n",
    "    print(f\"Blob '{blob_name}' does not exist in container '{container_name}'\")\n"
   ]
  },
  {
   "cell_type": "code",
   "execution_count": 0,
   "metadata": {
    "application/vnd.databricks.v1+cell": {
     "cellMetadata": {},
     "inputWidgets": {},
     "nuid": "af9f64f6-944b-418d-9241-1fd5e45c8436",
     "showTitle": false,
     "title": ""
    }
   },
   "outputs": [],
   "source": [
    "import pandas as pd\n",
    "import pyodbc\n",
    "\n",
    "# Load CSV data into a DataFrame\n",
    "df = pd.read_csv('data.csv')\n",
    "\n",
    "# Connect to Azure SQL database\n",
    "server = 'your_server_name.database.windows.net'\n",
    "database = 'your_database_name'\n",
    "username = 'your_username'\n",
    "password = 'your_password'\n",
    "driver= '{ODBC Driver 17 for SQL Server}'\n",
    "\n",
    "cnxn = pyodbc.connect('DRIVER=' + driver + ';SERVER=' + server + ';PORT=1433;DATABASE=' + database + ';UID=' + username + ';PWD=' + password)\n",
    "\n",
    "# Create cursor object\n",
    "cursor = cnxn.cursor()\n",
    "\n",
    "# Insert data from DataFrame into Azure SQL table\n",
    "for index, row in df.iterrows():\n",
    "    cursor.execute(\"INSERT INTO your_table_name (column1, column2, column3) VALUES (?, ?, ?)\", row['column1'], row['column2'], row['column3'])\n",
    "\n",
    "# Commit changes to the database\n",
    "cnxn.commit()\n",
    "\n",
    "# Close connection\n",
    "cursor.close()\n",
    "cnxn.close()\n"
   ]
  },
  {
   "cell_type": "code",
   "execution_count": 0,
   "metadata": {
    "application/vnd.databricks.v1+cell": {
     "cellMetadata": {},
     "inputWidgets": {},
     "nuid": "3ea61b0f-8021-4b43-8861-564864c5c532",
     "showTitle": false,
     "title": ""
    }
   },
   "outputs": [],
   "source": [
    "import threading\n",
    "import logging\n",
    "import time\n",
    "\n",
    "def thread_function(name):\n",
    "    logging.info(\"Thread %s:starting \",name)\n",
    "    #these would basically sleep the program for 2 seconds\n",
    "    time.sleep(20)\n",
    "    logging.info(\"Thread %s fineshing\",name)\n",
    "\n",
    "\n",
    "if __name__ ==\"__main__\":\n",
    "    format = \"%(asctime)s : %(message)s\"\n",
    "    logging.basicConfig(format=format,level=logging.INFO,datefmt=\"%H:%M:%S\")\n",
    "    logging.info(\"Main : before creating thread\")\n",
    "    thread_function(1,)\n",
    "    logging.info(\"Main : before running thread\")\n",
    "    \n",
    "    logging.info(\"Main : wait untill the thread to finsh\")\n",
    "    \n",
    "    logging.info(\"Main : all done\")"
   ]
  },
  {
   "cell_type": "markdown",
   "metadata": {
    "application/vnd.databricks.v1+cell": {
     "cellMetadata": {},
     "inputWidgets": {},
     "nuid": "5e8b9800-3dd1-4aec-8d79-f5846ebd1652",
     "showTitle": false,
     "title": ""
    }
   },
   "source": [
    "log levels are used to categorize log messages by their severity or importance. There are several predefined log levels in Python's logging module:\n",
    "\n",
    "DEBUG: Detailed information, typically of interest only when diagnosing problems.\n",
    "\n",
    "INFO: Confirmation that things are working as expected.\n",
    "\n",
    "WARNING: An indication that something unexpected happened or indicative of some problem in the near future (e.g., \"disk space low\").\n",
    "\n",
    "ERROR: Due to a more serious problem, the software has not been able to perform some function.\n",
    "\n",
    "CRITICAL: A very serious error, indicating that the program itself may be unable to continue running.\n",
    "\n",
    "the log level is set to INFO using the level parameter in the basicConfig() method. This means that only log messages with a log level of INFO or higher will be displayed in the console output. Any log messages with a lower level, such as DEBUG, will not be displayed."
   ]
  },
  {
   "cell_type": "markdown",
   "metadata": {
    "application/vnd.databricks.v1+cell": {
     "cellMetadata": {},
     "inputWidgets": {},
     "nuid": "e374cdb8-130b-4095-9688-4ba8315812bc",
     "showTitle": false,
     "title": ""
    }
   },
   "source": [
    "use the join() method of the thread object to wait for the thread to complete before continuing with the main thread."
   ]
  },
  {
   "cell_type": "code",
   "execution_count": 0,
   "metadata": {
    "application/vnd.databricks.v1+cell": {
     "cellMetadata": {},
     "inputWidgets": {},
     "nuid": "47f3daab-d72a-4a95-9955-ea4cca829a8f",
     "showTitle": false,
     "title": ""
    }
   },
   "outputs": [],
   "source": [
    "import threading\n",
    "import logging\n",
    "import time\n",
    "\n",
    "def thread_function(name):\n",
    "    logging.info(\"Thread %s:starting \",name)\n",
    "    #these would basically sleep the program for 2 seconds\n",
    "    time.sleep(20)\n",
    "    logging.info(\"Thread %s fineshing\",name)\n",
    "\n",
    "\n",
    "if __name__ ==\"__main__\":\n",
    "    format = \"%(asctime)s : %(message)s\"\n",
    "    logging.basicConfig(format=format,level=logging.INFO,datefmt=\"%H:%M:%S\")\n",
    "    logging.info(\"Main : before creating thread\")\n",
    "    thread = threading.Thread(target=thread_function, args=(1,))\n",
    "    thread2 = threading.Thread(target=thread_function, args=(2,))\n",
    "    logging.info(\"Main : before running thread\")\n",
    "    thread.start()\n",
    "    thread2.start()\n",
    "    logging.info(\"Main : wait untill the thread to finsh\")\n",
    "    # Wait for the thread to complete using join()\n",
    "    thread.join()\n",
    "    thread2.join()\n",
    "   \n",
    "    # using the join() method, which blocks the main thread until the threads complete.\n",
    "    # # Once the threads complete, the main function logs a final message indicating that all the steps are done.\n",
    "\n",
    "\n",
    "     # Continue with other steps while waiting for the thread to complete\n",
    "    time.sleep(5)\n",
    "    \n",
    "    logging.info(\"Main : all done\")"
   ]
  },
  {
   "cell_type": "code",
   "execution_count": 0,
   "metadata": {
    "application/vnd.databricks.v1+cell": {
     "cellMetadata": {},
     "inputWidgets": {},
     "nuid": "81a2c7fc-4a5d-4740-81ed-63e011991852",
     "showTitle": false,
     "title": ""
    }
   },
   "outputs": [],
   "source": [
    "import threading\n",
    "import logging\n",
    "import time\n",
    "\n",
    "def thread_fucntion(name):\n",
    "    logging.info(\"Thread %s: starting\", name)\n",
    "    # Sleeping the code for x seconds\n",
    "    time.sleep(5)\n",
    "    logging.info(\"Thread %s finishing\", name)\n",
    "\n",
    "if __name__ == \"__main__\":\n",
    "    format = \"%(asctime)s : %(message)s\"\n",
    "    logging.basicConfig(format=format, level=logging.INFO, datefmt=\"%H:%M:%S\")\n",
    "    logging.info(\"Main: Before creating thread\")\n",
    "    # Thread means another thread to create things in parallel\n",
    "    x = threading.Thread(target=thread_fucntion, args=(1,))\n",
    "    y = threading.Thread(target=thread_fucntion, args=('second',))\n",
    "    logging.info(\"Main: before running thread\")\n",
    "    # Running thread\n",
    "    x.start()\n",
    "    # The thread is running but we can do parallel stuff until thread finishes!\n",
    "    logging.info(\"Main:wait until the thread to finish\")\n",
    "    logging.info(\"We can do wathever we want in parallel while thread is running\")\n",
    "    # Now we can see how the thread ends in the middle of the loop! -> parallel\n",
    "    for i in range(7):\n",
    "        print(f\"Sleep outside thread {i+1}s\")\n",
    "        time.sleep(1)\n",
    "    x.join() # Wait until the thread finishes before continuing to run the next line in the code\n",
    "    \n",
    "    logging.info(\"Main: all done\")"
   ]
  }
 ],
 "metadata": {
  "application/vnd.databricks.v1+notebook": {
   "dashboards": [],
   "language": "python",
   "notebookMetadata": {},
   "notebookName": "All Python code",
   "notebookOrigID": 3368405894368216,
   "widgets": {}
  },
  "kernelspec": {
   "display_name": "Python 3",
   "language": "python",
   "name": "python3"
  },
  "language_info": {
   "codemirror_mode": {
    "name": "ipython",
    "version": 3
   },
   "file_extension": ".py",
   "mimetype": "text/x-python",
   "name": "python",
   "nbconvert_exporter": "python",
   "pygments_lexer": "ipython3",
   "version": "3.11.2"
  },
  "orig_nbformat": 4,
  "vscode": {
   "interpreter": {
    "hash": "32d6b749cafe1f147bc06e6e97f29f99ed13d564a30af41401dc6db7683bc13c"
   }
  }
 },
 "nbformat": 4,
 "nbformat_minor": 0
}
